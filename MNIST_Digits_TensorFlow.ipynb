{
 "cells": [
  {
   "cell_type": "markdown",
   "metadata": {},
   "source": [
    "# MNIST Digit Classification with TensorFlow"
   ]
  },
  {
   "cell_type": "markdown",
   "metadata": {},
   "source": [
    "Richard Corrado <richcorrado@gmail.com> April 2017\n",
    "\n",
    "For the Fat Cat Fab Lab Machine Learning Meetup"
   ]
  },
  {
   "cell_type": "markdown",
   "metadata": {},
   "source": [
    "An introduction to the MNIST digit database and the classification problem using Random Forests can be found in the notebook MNIST_Digits-overview.ipynb at <https://github.com/richcorrado/MNIST-digits>. A readable html version is at <https://richcorrado.github.io/MNIST_Digits-overview.html>.   \n",
    "\n",
    "In this notebook, we'll be using TensorFlow to apply neural networks to the MNIST digits. In particular, we'll learn:\n",
    "\n",
    "1. How to use scikit-learn to perform a one-hot encoding of ordinal class labels, suitable for \"one vs all\" multiclass classification.\n",
    "\n",
    "2. How to use scikit-learn functions to standardize features, including the case where we want to preserve some sparsity of features.\n",
    "\n",
    "3. What the TensorFlow Computational Graph framework is and what classes are introduced by TensorFlow to implement it.\n",
    "\n",
    "4. How to build a TensorFlow Session by organizing TensorFlow classes to specify the graph, parameters, cost function, optimizer.\n",
    "\n",
    "5. How to run the TensorFlow session to train the model, compute metrics and make predictions.\n",
    "\n",
    "Along the way, we'll \n",
    "\n",
    "* Implement Logistic Regression in TensorFlow.\n",
    "\n",
    "* Understand Feedforward Neural Networks as generalization of Linear Models and how to use them for classification.\n",
    "\n",
    "* Understand dropout regularization of NNs.\n",
    "\n",
    "* Understand the basics of Convolutional and Max Pooling NN layers and why they're useful. \n",
    "\n",
    "* Examine the examples that have been misclassified and explore some reasons for that.\n",
    "\n",
    "N.B. This notebook should run in 8GB of RAM.  If you have less than that, you will probably have to adjust the minibatch size to 50 or 100. If still having problems, adjust the code for the convolutional neural network to compute less features."
   ]
  },
  {
   "cell_type": "code",
   "execution_count": 1,
   "metadata": {
    "collapsed": true
   },
   "outputs": [],
   "source": [
    "import numpy as np\n",
    "import pandas as pd\n",
    "pd.set_option('display.precision',5)\n",
    "pd.set_option('display.max_colwidth',100)\n",
    "\n",
    "import matplotlib.pylab as plt\n",
    "from matplotlib.pylab import rcParams\n",
    "from matplotlib import pyplot\n",
    "rcParams['figure.figsize'] = 12, 4\n",
    "%matplotlib inline\n",
    "\n",
    "from sklearn.model_selection import StratifiedKFold, StratifiedShuffleSplit\n",
    "from sklearn.metrics import accuracy_score\n",
    "from time import time\n",
    "import scipy"
   ]
  },
  {
   "cell_type": "markdown",
   "metadata": {},
   "source": [
    "In the overview notebook, we used the data from the kaggle playground site.  In this notebook, we will use the full MNIST data from the csvs at https://pjreddie.com/projects/mnist-in-csv/. These files can be obtained there or as `mnist_train.csv` and `mnist_test.csv` from the input subdirectory of the github containing this file. These files do not have a header row, so we create column names."
   ]
  },
  {
   "cell_type": "code",
   "execution_count": 2,
   "metadata": {
    "collapsed": true
   },
   "outputs": [],
   "source": [
    "column_names = ['label']\n",
    "\n",
    "for i in range(0,784):\n",
    "    column_names.append(\"pixel\" + str(i))\n",
    "    \n",
    "train_df = pd.read_csv(\"./input/mnist_train.csv\", header=None, names=column_names)\n",
    "test_df = pd.read_csv(\"./input/mnist_test.csv\", header=None, names=column_names)"
   ]
  },
  {
   "cell_type": "markdown",
   "metadata": {},
   "source": [
    "There are a few reasons for changing the dataset.  One, the overview notebook was designed to give more of an overview of machine learning practices.  It made sense to introduce the reader to kaggle as another tool for learning.  However, in this notebook, we're going to be studying some neural networks, which typically benefit from  increasing the number of training examples.  So it is better to study the complete MNIST training data and test against the benchmark test set instead of creating a separate validation set and decreasing the training set further. \n",
    "\n",
    "N.B. The reader is encouraged to create a separate training/validation set from the official train set for, e.g. optimizing hyperparameters.  On a fast computer, it might be better to use cross-validation over the official train set for this.\n",
    "\n",
    "The data consist of handwritten digits that have been processed by recording the greyscale intensity of a 28x28 array of pixels. These pixel intensity matrices have been unrolled into a vector of 784 features.  Details are in the overview notebook.  Here we provide a function to reshape the pixel vector into a 28x28 matrix and another function to plot the digits corresponding to a specified list of row indices."
   ]
  },
  {
   "cell_type": "code",
   "execution_count": 3,
   "metadata": {
    "collapsed": true
   },
   "outputs": [],
   "source": [
    "# recover the 28x28 matrix from a row of train_df\n",
    "def pixel_mat(row, df=train_df):\n",
    "    # we're working with train_df so we want to drop the label column\n",
    "    vec = df.drop('label', axis=1).iloc[row].values\n",
    "    # numpy provides the reshape() function to reorganize arrays into specified shapes\n",
    "    pixel_mat = vec.reshape(28,28)\n",
    "    return pixel_mat\n",
    "\n",
    "\n",
    "def plot_digits(list_input, df=train_df):\n",
    "    # generate a 4xn grid of subplots, 4 is the number of columns that will reasonably display in typical\n",
    "    # overhead projector resolution at the size we're making the images \n",
    "    list_len = len(list_input)\n",
    "    ncols = 4\n",
    "    nrows =  (list_len / 4) + (1 * (list_len % 4 != 0)) # add an extra row if list_len !div by 4\n",
    "    fig, axs = plt.subplots(nrows=nrows, ncols=ncols, figsize=(10,10))\n",
    "\n",
    "\n",
    "    # axs is a 2d array so we flatten it into a vector in order to loop over it\n",
    "    for i, ax in enumerate(axs.reshape(-1)):\n",
    "        if i < list_len:   # don't generate ax titles for unused subplots\n",
    "            # Title is digit label, which can be found by referencing the label column of the row specified by rand_idx[i]\n",
    "            ax.set_title(\"Digit Label: %d\" % df['label'].iloc[list_input[i]])\n",
    "            # pixel_mat(rand_idx[i]) is the pixel matrix. \n",
    "            # The imshow flags are the ones that are used in the matshow wrapper\n",
    "            ax.imshow(pixel_mat(list_input[i], df=df), cmap=plt.cm.gray, origin='upper', interpolation='nearest')\n",
    "            ax.axis('off')\n",
    "    # tight_layout gives more spacing between subplots    \n",
    "    plt.tight_layout()   \n",
    "    # Tell matplotlib to draw all of the previously generated objects\n",
    "    plt.show()"
   ]
  },
  {
   "cell_type": "code",
   "execution_count": 4,
   "metadata": {},
   "outputs": [
    {
     "data": {
      "image/png": "[encoded data removed]",
      "text/plain": [
       "<matplotlib.figure.Figure at 0x7f7a582ea850>"
      ]
     },
     "metadata": {},
     "output_type": "display_data"
    }
   ],
   "source": [
    "# generate a list of 16 random rows which are our digits\n",
    "rand_idx = np.random.choice(train_df.index, size=16, replace=False)\n",
    "plot_digits(rand_idx)"
   ]
  },
  {
   "cell_type": "markdown",
   "metadata": {},
   "source": [
    "We generate design matrics and response vectors directly from the dataframes"
   ]
  },
  {
   "cell_type": "code",
   "execution_count": 5,
   "metadata": {},
   "outputs": [
    {
     "name": "stdout",
     "output_type": "stream",
     "text": [
      "(60000, 784)\n",
      "(60000,)\n",
      "(10000, 784)\n",
      "(10000,)\n"
     ]
    }
   ],
   "source": [
    "x_train = train_df.drop(['label'], axis=1).values\n",
    "print(x_train.shape)\n",
    "y_train = train_df['label'].values\n",
    "print(y_train.shape)\n",
    "\n",
    "x_test = test_df.drop(['label'], axis=1).values\n",
    "print(x_test.shape)\n",
    "y_test = test_df['label'].values\n",
    "print(y_test.shape)"
   ]
  },
  {
   "cell_type": "markdown",
   "metadata": {},
   "source": [
    "## Random Forest Benchmarks\n",
    "\n",
    "In the overview notebook, we applied random forests in scikit-learn to the digit classification problem.  Here we will reproduce those results on the larger dataset in order to establish a baseline for the neural network models we'll study shortly."
   ]
  },
  {
   "cell_type": "code",
   "execution_count": 6,
   "metadata": {
    "collapsed": true
   },
   "outputs": [],
   "source": [
    "from sklearn.ensemble import RandomForestClassifier\n",
    "rf_clf = RandomForestClassifier(n_jobs=-1, random_state = 32)"
   ]
  },
  {
   "cell_type": "markdown",
   "metadata": {},
   "source": [
    "We will determine appropriate hyperparameters using 10-fold cross-validation using the StratifiedKFold function that preserves class frequencies in the splits."
   ]
  },
  {
   "cell_type": "code",
   "execution_count": 7,
   "metadata": {
    "collapsed": true
   },
   "outputs": [],
   "source": [
    "kfold = StratifiedKFold(n_splits=10, random_state=7)"
   ]
  },
  {
   "cell_type": "markdown",
   "metadata": {},
   "source": [
    "Furthermore, we will use a random search scheme, since, in the overview notebook, that gave excellent results in much less time than grid search. We will use a similar parameter distribution"
   ]
  },
  {
   "cell_type": "code",
   "execution_count": 8,
   "metadata": {
    "collapsed": true
   },
   "outputs": [],
   "source": [
    "rf_param =  {'n_estimators': scipy.stats.randint(150,400), 'max_depth': scipy.stats.randint(12,28), \n",
    "             'max_features': scipy.stats.randint(15,40)}\n",
    "\n",
    "from sklearn.model_selection import RandomizedSearchCV\n",
    "rs = RandomizedSearchCV(rf_clf, param_distributions=rf_param, scoring = 'accuracy',\n",
    "                                   n_jobs=-1, n_iter=30, cv=kfold) "
   ]
  },
  {
   "cell_type": "markdown",
   "metadata": {},
   "source": [
    "Twenty iterations of cross-validation over the entire dataset would take a huge amount of time, so we will create a 10% split into a tuning set, using StratifiedShuffleSplit to preserve class frequencies.   This is a crutch that one must often rely when dealing with larger datasets.  We hope that an optimal set of parameters for a sample of our dataset is close to the optimal set of parameters for the entire dataset.   "
   ]
  },
  {
   "cell_type": "code",
   "execution_count": 9,
   "metadata": {
    "collapsed": true
   },
   "outputs": [],
   "source": [
    "tuning_split = StratifiedShuffleSplit(n_splits=1, train_size=0.10, random_state=96)\n",
    "tune_idx = list(tuning_split.split(x_train, y_train))[0][0]\n",
    "\n",
    "x_tune = x_train[tune_idx]\n",
    "y_tune = y_train[tune_idx]"
   ]
  },
  {
   "cell_type": "code",
   "execution_count": 10,
   "metadata": {},
   "outputs": [
    {
     "name": "stdout",
     "output_type": "stream",
     "text": [
      "CPU times: user 21.1 s, sys: 398 ms, total: 21.5 s\n",
      "Wall time: 9min 56s\n"
     ]
    },
    {
     "data": {
      "text/plain": [
       "RandomizedSearchCV(cv=StratifiedKFold(n_splits=10, random_state=7, shuffle=False),\n",
       "          error_score='raise',\n",
       "          estimator=RandomForestClassifier(bootstrap=True, class_weight=None, criterion='gini',\n",
       "            max_depth=None, max_features='auto', max_leaf_nodes=None,\n",
       "            min_impurity_split=1e-07, min_samples_leaf=1,\n",
       "            min_samples_split=2, min_weight_fraction_leaf=0.0,\n",
       "            n_estimators=10, n_jobs=-1, oob_score=False, random_state=32,\n",
       "            verbose=0, warm_start=False),\n",
       "          fit_params={}, iid=True, n_iter=30, n_jobs=-1,\n",
       "          param_distributions={'n_estimators': <scipy.stats._distn_infrastructure.rv_frozen object at 0x7f7a56741bd0>, 'max_features': <scipy.stats._distn_infrastructure.rv_frozen object at 0x7f7a56741f50>, 'max_depth': <scipy.stats._distn_infrastructure.rv_frozen object at 0x7f7a56741d90>},\n",
       "          pre_dispatch='2*n_jobs', random_state=None, refit=True,\n",
       "          return_train_score=True, scoring='accuracy', verbose=0)"
      ]
     },
     "execution_count": 10,
     "metadata": {},
     "output_type": "execute_result"
    }
   ],
   "source": [
    "%time rs.fit(x_tune, y_tune)"
   ]
  },
  {
   "cell_type": "markdown",
   "metadata": {},
   "source": [
    "This finds a best candidate in around 4 minutes.   Random search over the entire dataset would take around an hour.\n",
    "\n",
    "We can return the best estimator :"
   ]
  },
  {
   "cell_type": "code",
   "execution_count": 11,
   "metadata": {},
   "outputs": [
    {
     "data": {
      "text/plain": [
       "RandomForestClassifier(bootstrap=True, class_weight=None, criterion='gini',\n",
       "            max_depth=25, max_features=18, max_leaf_nodes=None,\n",
       "            min_impurity_split=1e-07, min_samples_leaf=1,\n",
       "            min_samples_split=2, min_weight_fraction_leaf=0.0,\n",
       "            n_estimators=351, n_jobs=-1, oob_score=False, random_state=32,\n",
       "            verbose=0, warm_start=False)"
      ]
     },
     "execution_count": 11,
     "metadata": {},
     "output_type": "execute_result"
    }
   ],
   "source": [
    "rf_clf_rs = rs.best_estimator_ \n",
    "rf_clf_rs"
   ]
  },
  {
   "cell_type": "markdown",
   "metadata": {},
   "source": [
    "Then fit the full training data and predict on the test set:"
   ]
  },
  {
   "cell_type": "code",
   "execution_count": 12,
   "metadata": {
    "collapsed": true
   },
   "outputs": [],
   "source": [
    "rf_clf_rs.fit(x_train, y_train)\n",
    "y_rf_pred = rf_clf_rs.predict(x_test)"
   ]
  },
  {
   "cell_type": "code",
   "execution_count": 13,
   "metadata": {},
   "outputs": [
    {
     "data": {
      "text/plain": [
       "0.97050000000000003"
      ]
     },
     "execution_count": 13,
     "metadata": {},
     "output_type": "execute_result"
    }
   ],
   "source": [
    "from sklearn.metrics import accuracy_score\n",
    "accuracy_score(y_test, y_rf_pred)"
   ]
  },
  {
   "cell_type": "markdown",
   "metadata": {},
   "source": [
    "This is on par with the result in the overview notebook.  The extra 0.5% of accuracy can be explained by the increase in the size of the training data (see the learning curve computed in that notebook). "
   ]
  },
  {
   "cell_type": "markdown",
   "metadata": {},
   "source": [
    "## One-hot Encoding of the Class Labels"
   ]
  },
  {
   "cell_type": "markdown",
   "metadata": {},
   "source": [
    "In this dataset, the class labels are encoded as integers 0-9.  This posed no difficulty in our random forest benchmark, as many scikit-learn classification models are designed to properly treat the multiclass problem using this type of encoding.  However, TensorFlow (TF) is designed to allow very low-level design of models. Therefore, it is necessary to provide the framework to treat multiclass classification as part of the TF computation graph.   \n",
    "\n",
    "In preparation for this, we will encode the class labels as 10d vectors rather than as integers,\n",
    "\n",
    "$$ 0 \\longrightarrow \\begin{pmatrix} 1 \\\\ 0 \\\\ \\vdots \\\\ 0 \\end{pmatrix},\n",
    " 1 \\longrightarrow \\begin{pmatrix} 0 \\\\ 1 \\\\ \\vdots  \\\\ 0 \\end{pmatrix}, \\ldots\n",
    "  9 \\longrightarrow \\begin{pmatrix} 0 \\\\ 0 \\\\ \\vdots \\\\ 1 \\end{pmatrix}.$$\n",
    "  \n",
    "This is sometimes called \"one hot\" encoding, since the presence of a defining class is indicated by a binary 1 in a vector and is analogous to the implementation of binary logic in circuits.  In the context of classification, this scheme is called \"one vs all\" classification and is fairly easy to implement  as an additional layer of our model in TF.  In scikit-learn, one vs all is already build into the multiclassification models so that the end user does not have to perform this additional step.\n",
    "\n",
    "N.B. If you have already seen one hot encoding of categorical features, you might notice that our encoding here is a reducible representation of the class labels.  That is, we have 10 class labels and we could actually encode them using 9 bits by assigning one of the classes to the 0....0 representative. Such an irreducible representation is preferred for the levels of a categorical feature, but not for a class label.  This is because, if we use the reducible representation here, we can easily apply an argmax function to an output vector to determine the class.  If we had used the irreducible representation, we'd need an extra step to map an output vector matching 0...0 to the last class.  This is an unnecessary complication, so we just use the reducible representation.\n",
    "\n",
    "To accomplish this encoding easily, we can use the OneHotEncoder or LabelBinarizer from scikit-learn. Since we are dealing with class labels, we will use LabelBinarizer.  This uses the fit, then predict/transform, methods common to the scikit-learn functions."
   ]
  },
  {
   "cell_type": "code",
   "execution_count": 14,
   "metadata": {
    "collapsed": true
   },
   "outputs": [],
   "source": [
    "from sklearn.preprocessing import LabelBinarizer"
   ]
  },
  {
   "cell_type": "code",
   "execution_count": 15,
   "metadata": {
    "collapsed": true
   },
   "outputs": [],
   "source": [
    "lb = LabelBinarizer()"
   ]
  },
  {
   "cell_type": "code",
   "execution_count": 16,
   "metadata": {},
   "outputs": [
    {
     "data": {
      "text/plain": [
       "LabelBinarizer(neg_label=0, pos_label=1, sparse_output=False)"
      ]
     },
     "execution_count": 16,
     "metadata": {},
     "output_type": "execute_result"
    }
   ],
   "source": [
    "lb.fit(y_train)"
   ]
  },
  {
   "cell_type": "markdown",
   "metadata": {},
   "source": [
    "We can see explictly how the labels are transformed by applying the transformation to:"
   ]
  },
  {
   "cell_type": "code",
   "execution_count": 17,
   "metadata": {},
   "outputs": [
    {
     "data": {
      "text/plain": [
       "[0, 1, 2, 3, 4, 5, 6, 7, 8, 9]"
      ]
     },
     "execution_count": 17,
     "metadata": {},
     "output_type": "execute_result"
    }
   ],
   "source": [
    "range(10)"
   ]
  },
  {
   "cell_type": "markdown",
   "metadata": {},
   "source": [
    "whose elements are mapped to "
   ]
  },
  {
   "cell_type": "code",
   "execution_count": 18,
   "metadata": {},
   "outputs": [
    {
     "data": {
      "text/plain": [
       "array([[1, 0, 0, 0, 0, 0, 0, 0, 0, 0],\n",
       "       [0, 1, 0, 0, 0, 0, 0, 0, 0, 0],\n",
       "       [0, 0, 1, 0, 0, 0, 0, 0, 0, 0],\n",
       "       [0, 0, 0, 1, 0, 0, 0, 0, 0, 0],\n",
       "       [0, 0, 0, 0, 1, 0, 0, 0, 0, 0],\n",
       "       [0, 0, 0, 0, 0, 1, 0, 0, 0, 0],\n",
       "       [0, 0, 0, 0, 0, 0, 1, 0, 0, 0],\n",
       "       [0, 0, 0, 0, 0, 0, 0, 1, 0, 0],\n",
       "       [0, 0, 0, 0, 0, 0, 0, 0, 1, 0],\n",
       "       [0, 0, 0, 0, 0, 0, 0, 0, 0, 1]])"
      ]
     },
     "execution_count": 18,
     "metadata": {},
     "output_type": "execute_result"
    }
   ],
   "source": [
    "lb.transform(range(10))"
   ]
  },
  {
   "cell_type": "markdown",
   "metadata": {},
   "source": [
    "which can be compared to the equations written above.\n",
    "\n",
    "We apply the transformation to all of our response vectors:"
   ]
  },
  {
   "cell_type": "code",
   "execution_count": 19,
   "metadata": {
    "collapsed": true
   },
   "outputs": [],
   "source": [
    "y_train_oh = lb.transform(y_train)\n",
    "y_test_oh = lb.transform(y_test)"
   ]
  },
  {
   "cell_type": "markdown",
   "metadata": {},
   "source": [
    "## Standardizing the Data"
   ]
  },
  {
   "cell_type": "markdown",
   "metadata": {},
   "source": [
    "We'll be using neural networks in this notebook.  Since the connections between layers of a neural network are made via linear models (with weights as slopes and biases as intercepts) and the weights are typically determined through some version of gradient descent, we will want to standardize our data in some way. \n",
    "\n",
    "Let's briefly see why we'd want to do this in a case where we have two features $x_1, x_2$ and a response $y$. Suppose also that we are using the residual sum of squares as our cost function.  So our learning algorithm will be attempting to minimize\n",
    "\n",
    "$$ J(w,b) = \\sum | w_1 x_1 + w_2 x_2 + b - y |^2,$$\n",
    "\n",
    "where the sum is over the rows of our training data. In gradient descent, which is typically used as part of a backpropagation algorithm, we will be computing the derivatives\n",
    "\n",
    "$$ \\frac{\\partial J}{\\partial w_i} = 2 \\sum x_i (w_1 x_1 + w_2 x_2 + b - y).$$\n",
    "\n",
    "If the range of $x_1$ and $x_2$ are very different, then the corresponding derivatives will also range over very different values, owing to the factor of $x_i$.  For example, if our model was about house prices, $x_1$ could be the living area, with typical value 2000 sq ft, while $x_2$ is the number of bedrooms, which might be 2 or 3 in most cases.\n",
    "\n",
    "In this example $\\partial J/\\partial x_1$ will typically be 1000 times as large as $\\partial J/\\partial x_2$  and this might, in the best case, mean that gradient descent takes much longer to converge.  In a more complicated example, in the worst case, since activation functions destroy convexivity, gradient descent might get stuck at a poor local minimum.\n",
    "\n",
    "For these reasons, it is a good practice to standardize the features in some way so that their range of variation is similar.  There are various ways of doing this.  For example, in statistics when we say that variables have been standardized, we usually mean the z-score,\n",
    "\n",
    "$$ z = \\frac{x - \\mu}{\\sigma},$$\n",
    "\n",
    "where $\\mu$ and $\\sigma$ are the mean and standard deviation, respectively, over the measured values of $x$.  This has the obvious advantages that the mean of the new variable $\\bar{z} = 0$ and standard deviation $\\sigma_z = 1$.  In scikit-learn, the function for applying this transformation is found in the preprocessing kit and called <a href=\"http://scikit-learn.org/stable/modules/generated/sklearn.preprocessing.StandardScaler.html\">StandardScaler</a>.\n",
    "\n",
    "Another type of standardization is to scale the data to a given range, by using the max and min values of the unscaled data. We can first scale to the range $[0,1]$ via\n",
    "\n",
    "$$ x_\\text{std} = \\frac{ x - x_\\text{min} }{ x_\\text{max} - x_\\text{min} }, $$\n",
    "\n",
    "then to the range $[a,b]$ via\n",
    "\n",
    "$$ x_\\text{scaled} = \\frac{ x_\\text{std} }{b -a  } + a. $$\n",
    "\n",
    "The scikit-learn function for this is <a href =\"http://scikit-learn.org/stable/modules/generated/sklearn.preprocessing.MinMaxScaler.html\">MinMaxScaler</a>.\n",
    "\n",
    "We can also rescale data to the range $[-1,1]$ by dividing by the maximal absolute value in the unscaled data,\n",
    "\n",
    "$$ x_\\text{scaled} = \\frac{ x }{ \\text{max}( |x_\\text{min}|,|x_\\text{max}|)} $$\n",
    "\n",
    "This transformation has the advantage that sparse data remains sparse, i.e., if $x=0$, then $x_\\text{scaled} =0$.  By contrast, the z-score sends values $x = 0$ to $z=-\\mu$, destroying sparsity. The scikit-learn function for this is <a href =\"http://scikit-learn.org/stable/modules/generated/sklearn.preprocessing.MaxAbsScaler.html\">MaxAbsScaler</a>.\n",
    "\n",
    "The MNIST data is relatively sparse, since 80% of the pixels are blank, so it is a good idea to use a rescaling that preserves the sparseness.  Since the pixel intensities are always nonnegative, it really doesn't matter whether we use MinMaxScaler or MaxAbsScaler, but we'll use MaxAbsScaler to emphasize that it preserves sparsity in the general case."
   ]
  },
  {
   "cell_type": "code",
   "execution_count": 20,
   "metadata": {
    "collapsed": true
   },
   "outputs": [],
   "source": [
    "from sklearn.preprocessing import MaxAbsScaler"
   ]
  },
  {
   "cell_type": "markdown",
   "metadata": {},
   "source": [
    "The proper way to use these scaling functions is to fit them on just the training data, then separately transform the training and validation sets.  This is so that we don't introduce any bias in the training data by using properties of our validation data.  First we assign an object to the function,"
   ]
  },
  {
   "cell_type": "code",
   "execution_count": 21,
   "metadata": {
    "collapsed": true
   },
   "outputs": [],
   "source": [
    "training_scaler = MaxAbsScaler()"
   ]
  },
  {
   "cell_type": "markdown",
   "metadata": {},
   "source": [
    "We fit this to x_training,"
   ]
  },
  {
   "cell_type": "code",
   "execution_count": 22,
   "metadata": {},
   "outputs": [
    {
     "data": {
      "text/plain": [
       "MaxAbsScaler(copy=True)"
      ]
     },
     "execution_count": 22,
     "metadata": {},
     "output_type": "execute_result"
    }
   ],
   "source": [
    "training_scaler.fit(x_train)"
   ]
  },
  {
   "cell_type": "markdown",
   "metadata": {},
   "source": [
    "Then transform the associated data sets."
   ]
  },
  {
   "cell_type": "code",
   "execution_count": 23,
   "metadata": {
    "collapsed": true
   },
   "outputs": [],
   "source": [
    "x_train_scaled = training_scaler.transform(x_train)\n",
    "x_test_scaled = training_scaler.transform(x_test)"
   ]
  },
  {
   "cell_type": "markdown",
   "metadata": {},
   "source": [
    "We can compare the nonzero values of the scaled data to the unscaled data to see how this worked:"
   ]
  },
  {
   "cell_type": "code",
   "execution_count": 24,
   "metadata": {},
   "outputs": [
    {
     "data": {
      "text/plain": [
       "array([ 0.01176471,  0.07058824,  0.07058824, ...,  0.75686275,\n",
       "        0.77254902,  0.5254902 ])"
      ]
     },
     "execution_count": 24,
     "metadata": {},
     "output_type": "execute_result"
    }
   ],
   "source": [
    "x_train_scaled[np.where(x_train_scaled != 0)]"
   ]
  },
  {
   "cell_type": "code",
   "execution_count": 25,
   "metadata": {},
   "outputs": [
    {
     "data": {
      "text/plain": [
       "array([  3,  18,  18, ..., 193, 197, 134])"
      ]
     },
     "execution_count": 25,
     "metadata": {},
     "output_type": "execute_result"
    }
   ],
   "source": [
    "x_train[np.where(x_train != 0)]"
   ]
  },
  {
   "cell_type": "markdown",
   "metadata": {},
   "source": [
    "N.B. The MNIST data is actually standardized to the interval [0,255].  However, a general real-world dataset that you encounter will not be, so we made sure to cover the best practice in this notebook."
   ]
  },
  {
   "cell_type": "markdown",
   "metadata": {},
   "source": [
    "## TensorFlow"
   ]
  },
  {
   "cell_type": "markdown",
   "metadata": {},
   "source": [
    "There is already a tutorial about using TensorFlow to study MNIST at <https://www.tensorflow.org/get_started/mnist/pros>.  In our case,  we have been using the data from the kaggle playground, so we won't follow that tutorial exactly, but it is a good place to start. If you haven't installed tensorflow, be sure and do so using the instructions for your OS at <https://www.tensorflow.org/install/>.\n",
    "\n",
    "TensorFlow (TF) uses a <a herf=\"https://www.tensorflow.org/get_started/get_started#the_computational_graph\">**Computational Graph**</a> model of defining computations.  We can think of each operation as a node of a graph, which is precisely how we organize a neural network. It is worthwhile to describe the detail of a computational graph, since understanding the structure is very important in successful construction of new models.\n",
    "\n",
    "When using scikit-learn models, we most likely only have to deal with the data in the form of a design matrix and, for training data, a response vector (or matrix in multivariate or possibly multiclass problems).   The user can ignore many details of how the model functions transform the data and implement the particular machine learning algorithms.  However, since TF is intended to be a much lower-level framework for constructing models, it allows that inputs or intermediate expressions can be tensors of any shape.  \n",
    "\n",
    "In order to handle this,  TF includes a new class called **Tensor** that is used to pass numpy arrays of any shape from one Operation to another. We can think of these as the lines in the graph. In TF an **Operation** is a class that performs a computation on Tensors.  Operations (also called ops) are the nodes of the graph. TF operations include very simple arithmetic like addition tf.add(a.b) or multiplication tf.matmul(a, b), for tensors a,b. Operations also include neural net activation functions and convolution and pooling operations.\n",
    "\n",
    "In order to specify model parameters, such as weights and biases, TF provides the constructor class **Variable()**. In terms of the computational graph, calling Variable() actually adds two ops. The first is an assign op that assigns the initial value that you specify for the variable, while the second is an op that holds the value of the variable,  which can be changed during learning rounds.\n",
    "\n",
    "In addition to the computational graph, TF is also based on a mechanism of Feeding data and variables into the computational graph.  In order to facilitate this, TF provides a class called **Placeholder** that can be used to pass a design matrix or hyperparameter into the appropriate operation of the graph.  For instance, the input and output layers of a neural network will be specified by placeholders of the appropriate shape.  Hyperparameters such as learning rates or hidden layer widths can also be specified by placeholders.   The **feed dictionary** has the format ```feed_dict = {placeholder1: array1, placeholder2: array2, ...}```, where placeholder# is the name assigned to the placeholder and array# is a numpy array (can also be a single number when appropriate).\n",
    "\n",
    "The mechanics of using TF is the following: \n",
    "\n",
    "1. We define a TF instance or session using the class Session() or, for notebooks, InteractiveSession(), e.g., sess = tf.InteractiveSession()\n",
    "\n",
    "2. We specify the computational graph using the necessary Placeholders, Variables and Operations.\n",
    "\n",
    "3. We define functions of the graph outputs, like the cost function.  TF will treat these as tensor class objects.\n",
    "\n",
    "4. We specify an optimizer, typically using the method .minimize(cost_function). For example, optimizer = tf.train.AdamOptimizer(learning_rate).minimize(cost)\n",
    "\n",
    "5. Training is accomplished using the .run method on the session. For example, we might run sess.run([optimizer, cost], feed_dict=feed_dict).   This feeds the values of all placeholders using a python dictionary named feed_dict, accomplishing feedforward computation of the cost function and backpropagation using the specified optimizer. We can iterate the sess.run method for as many training epochs as needed.\n",
    "\n",
    "6. Validation can be accomplished by executing sess.run while feeding in the validation data to the input placeholders. In addition to the cost function, we can evaluate other metrics by defining the appropriate function and specifying it in sess.run.\n",
    "\n",
    "7. Prediction is also accomplished via sess.run, now using the new data and specifying the output variable or an appropriate function thereof.\n",
    "\n",
    "A visualization of a training session is:\n",
    "\n",
    "![TF training session](tf_session.png)\n",
    "\n",
    "A complication of the TF methodology is that during design of the computational graph, it is not too easy to remove or redefine parts of the graph that we've already defined. If we want to change an earlier step of the graph, it can be simplest to just delete the old graph with the command tf.reset_default_graph() and start over."
   ]
  },
  {
   "cell_type": "markdown",
   "metadata": {},
   "source": [
    "## Logistic Regression\n",
    "\n",
    "It is best to illustrate the mechanics of TF with a simple model.  Therefore we will implement logistic regression, which requires specifying the computational graph, cost function, optimizer, etc., but doesn't require introducing neural network technology.  After understanding the TF application here, we will introduce various types of neural network layers and the TF implementation of them.\n",
    "\n",
    "While we're not exactly defining a neural network yet, we will still use the terminology of layers to describe the computational graph for the logistic regression model.  This is both because the layer structure is built in to the TF design and also because, as we'll see later, logistic regression is, in fact, a very simple form of neural network.  Neural networks should actually be thought of as a framework for generalizing and combining other type of ML models, though combination and composition of simple functions.\n",
    "\n",
    "We will begin by importing TensorFlow and starting an interactive session."
   ]
  },
  {
   "cell_type": "code",
   "execution_count": 26,
   "metadata": {
    "collapsed": true
   },
   "outputs": [],
   "source": [
    "import tensorflow as tf\n",
    "sess = tf.InteractiveSession()\n",
    "\n",
    "# set random seed\n",
    "tf.set_random_seed(464)"
   ]
  },
  {
   "cell_type": "markdown",
   "metadata": {},
   "source": [
    "The first part of the computational graph will generally be the specification of an **input layer**.  The purpose of the input layer is to provide a data structure into which we'll feed our design matrix when we run the session.\n",
    "\n",
    "We know that we have 784 features/columns in our design matrix.  However, we have training and validation sets with different number of examples/rows.  TF allows us to introduce placeholder variables with size None to facilitate feeding data sets of different sizes into the same computational graph:"
   ]
  },
  {
   "cell_type": "code",
   "execution_count": 27,
   "metadata": {
    "collapsed": true
   },
   "outputs": [],
   "source": [
    "n_feat = 784\n",
    "x = tf.placeholder(tf.float32, shape=[None, n_feat])"
   ]
  },
  {
   "cell_type": "markdown",
   "metadata": {},
   "source": [
    "We'll also specify a placeholder for our target output values. We transformed these to one-hot 10d vectors."
   ]
  },
  {
   "cell_type": "code",
   "execution_count": 28,
   "metadata": {
    "collapsed": true
   },
   "outputs": [],
   "source": [
    "n_class = 10\n",
    "y_true = tf.placeholder(tf.int32, shape=[None, n_class])"
   ]
  },
  {
   "cell_type": "markdown",
   "metadata": {},
   "source": [
    "Recall that logistic regression applies a linear model\n",
    "\n",
    "$$ \\mathbf{z} = \\mathbf{X W }+ \\mathbf{b}$$\n",
    "\n",
    "to compute a linear output $\\mathbf{z}$ of shape (# of examples) X (# of classes), which we can call the logits.  The next step is to apply the softmax function to obtain the model class probabilities:\n",
    "\n",
    "$$ p_{i, c} = \\text{softmax}(z_i)_c = \\frac{\\exp (z_{i,c})}{\\sum_{c'} \\exp (z_{i,c'})}.$$\n",
    "\n",
    "Finally, we can make actual class predictions by setting $\\hat{y_i}=c$, for $c$ corresponding to the largest computed probability, using an appropriate argmax function in practice.\n",
    "\n",
    "To implement this in TF, we specify a layer to compute the linear model above.  We have to specify the weights $\\mathbf{W}$, which correspond to a tensor of shape [n_feat, n_class] and the biases, which are a vector of shape [n_class].  We use the Variable() class to define both with zero initial values:"
   ]
  },
  {
   "cell_type": "code",
   "execution_count": 29,
   "metadata": {
    "collapsed": true
   },
   "outputs": [],
   "source": [
    "W = tf.Variable(tf.zeros([n_feat, n_class]))\n",
    "b = tf.Variable(tf.zeros([n_class]))"
   ]
  },
  {
   "cell_type": "markdown",
   "metadata": {},
   "source": [
    "tf.zeros is the TF version of numpy zeros that creates a TF Tensor rather than a numpy array data structure. \n",
    "\n",
    "To complete the definition of the layer, we specify the linear model for the logits:"
   ]
  },
  {
   "cell_type": "code",
   "execution_count": 30,
   "metadata": {
    "collapsed": true
   },
   "outputs": [],
   "source": [
    "z_out = tf.add(tf.matmul(x, W), b)"
   ]
  },
  {
   "cell_type": "markdown",
   "metadata": {},
   "source": [
    "We use the TF function matmul to multiply Tensors and add to add them.  We could also have used \"+\", since TF overloads that operator to properly handle Tensor objects.  The object z_out defined by this statement is created as a Tensor and cast into the shape and data type appropriate from the operation:"
   ]
  },
  {
   "cell_type": "code",
   "execution_count": 31,
   "metadata": {},
   "outputs": [
    {
     "data": {
      "text/plain": [
       "<tf.Tensor 'Add:0' shape=(?, 10) dtype=float32>"
      ]
     },
     "execution_count": 31,
     "metadata": {},
     "output_type": "execute_result"
    }
   ],
   "source": [
    "z_out"
   ]
  },
  {
   "cell_type": "markdown",
   "metadata": {},
   "source": [
    "We can call this layer, the **output layer**, since it returns an array that is in 1-1 correspondence with the model prediction. At this point, we could apply the softmax function to obtain the class probabilities and then define a **cost function** using the cross-entropy.  However, since this is a very common step, TF includes a version of the cross-entropy function that accepts the logits as inputs:"
   ]
  },
  {
   "cell_type": "code",
   "execution_count": 32,
   "metadata": {
    "collapsed": true
   },
   "outputs": [],
   "source": [
    "cost = tf.reduce_mean(tf.nn.softmax_cross_entropy_with_logits(labels=y_true, logits=z_out))"
   ]
  },
  {
   "cell_type": "markdown",
   "metadata": {},
   "source": [
    "The function tf.nn.softmax_cross_entropy_with_logits is essentially\n",
    "\n",
    "$$ J_i = \\sum_c y_{ic} \\ln \\text{softmax}(\\mathbf{z}_i)_c, $$\n",
    "\n",
    "which can be considered as a 1d tensor of shape [# of examples]. We can verify this explicitly by calling:"
   ]
  },
  {
   "cell_type": "code",
   "execution_count": 33,
   "metadata": {},
   "outputs": [
    {
     "data": {
      "text/plain": [
       "<tf.Tensor 'Reshape_5:0' shape=(?,) dtype=float32>"
      ]
     },
     "execution_count": 33,
     "metadata": {},
     "output_type": "execute_result"
    }
   ],
   "source": [
    "tf.nn.softmax_cross_entropy_with_logits(labels=y_true, logits=z_out)"
   ]
  },
  {
   "cell_type": "markdown",
   "metadata": {},
   "source": [
    "The role of the tf.reduce_mean function is to compute the average cost per example fed into the computational graph.  \n",
    "\n",
    "In addition to the cost function, we can define appropriate **metrics** to be computed when we run the TF session. In this case, we can compute the accuracy score by the two step expression:"
   ]
  },
  {
   "cell_type": "code",
   "execution_count": 34,
   "metadata": {
    "collapsed": true
   },
   "outputs": [],
   "source": [
    "corr = tf.equal(tf.argmax(z_out, 1), tf.argmax(y_true, 1))    \n",
    "accr = tf.reduce_mean(tf.cast(corr, \"float\"))"
   ]
  },
  {
   "cell_type": "markdown",
   "metadata": {},
   "source": [
    "In the first line, we use the TF argmax function to compute both the most probable class and the true class, and then define a 1d tensor with entry True whenever the predicted class is equal to the true class.  Note that the argmax is applied directly to the logit for efficiency.  The fact that the softmax function is monotonically increasing means that the order of the logits on the real line is the same as the order of the probabilities.   \n",
    "\n",
    "In the second line, we recast our boolean vector to a numerical one and apply reduce_mean to compute the accuracy score. \n",
    "\n",
    "Next, we have to specify an **optimizer** operation, which we'll choose to be a simple gradient descent."
   ]
  },
  {
   "cell_type": "code",
   "execution_count": 35,
   "metadata": {
    "collapsed": true
   },
   "outputs": [],
   "source": [
    "learning_rate = 0.01\n",
    "optimizer = tf.train.GradientDescentOptimizer(learning_rate).minimize(cost)"
   ]
  },
  {
   "cell_type": "markdown",
   "metadata": {},
   "source": [
    "We have chosen a learning rate that should be appropriate for the standardized features we're using here.  By calling the .minimize method on cost, this op will: \n",
    "\n",
    "* compute cost via feedforward of the computational graph\n",
    "* compute derivatives with respect to the variables upon which cost depends\n",
    "* apply the derivatives in backpropagation to update the variables and reduce the cost function\n",
    "\n",
    "Full training via gradient descent is obtained by looping the optimizer call over an appropriate number of training epochs.\n",
    "\n",
    "Next, we will develop our strategy for **feeding data** into computational graph.  With a very large dataset, the combined feedforward and backpropagation operations would require an enormous amount of memory to store computational results.  It is therefore standard practice to run training steps on different **mini-batches** of the training data at each iteration.  For a mini-batch size of around 100 training examples, a relatively modest amount of memory is required to store the network parameters and various derivatives needed for backprop. \n",
    "\n",
    "Mini-batch processing will only work well if we make enough iterations to both cycle through the full training data and make enough additional passes so that each example is seen an appropriate number of times to allow gradient descent to converge.   The term **training epoch** is used to denote the number of iterations necessary to feed the entire training data through at least one feedforward/backprop cycle.  We then have to train over a sufficient number of epochs to allow convergence.\n",
    "\n",
    "To get a handle on this, let's look at the size of our training set:"
   ]
  },
  {
   "cell_type": "code",
   "execution_count": 36,
   "metadata": {},
   "outputs": [
    {
     "data": {
      "text/plain": [
       "60000"
      ]
     },
     "execution_count": 36,
     "metadata": {},
     "output_type": "execute_result"
    }
   ],
   "source": [
    "n_samp = x_train_scaled.shape[0]\n",
    "n_samp"
   ]
  },
  {
   "cell_type": "markdown",
   "metadata": {},
   "source": [
    "With a minibatch size of 50, we can compute the number of minibatches to cycle over in an epoch:"
   ]
  },
  {
   "cell_type": "code",
   "execution_count": 37,
   "metadata": {},
   "outputs": [
    {
     "data": {
      "text/plain": [
       "1200"
      ]
     },
     "execution_count": 37,
     "metadata": {},
     "output_type": "execute_result"
    }
   ],
   "source": [
    "n_batch = 50.\n",
    "total_batch = int(n_samp / n_batch)\n",
    "total_batch"
   ]
  },
  {
   "cell_type": "markdown",
   "metadata": {},
   "source": [
    "We want to construct a scheme where we split the training data into 600 unique minibatches, so that we see every training example exactly once in a minimum number of passes.  We expect that the scheme will work best if the minibatches are both randomized and have approximately the same distribution of classes as the training set itself.  We can accomplish this using StratifiedKFold, where we use the \"test\" partition in each fold as the minibatch. \n",
    "\n",
    "Note:  TF also includes the function tf.train.shuffle_batch to implement batch processing.  It doesn't allow for stratifying class labels, but is an option to consider.\n",
    "\n",
    "An appropriate implementation of StratifiedKFold is:"
   ]
  },
  {
   "cell_type": "code",
   "execution_count": 38,
   "metadata": {
    "collapsed": true
   },
   "outputs": [],
   "source": [
    "skfold = StratifiedKFold(n_splits=total_batch, shuffle=True, random_state=428)"
   ]
  },
  {
   "cell_type": "markdown",
   "metadata": {},
   "source": [
    "We are finally ready to define the full training scheme:"
   ]
  },
  {
   "cell_type": "code",
   "execution_count": 39,
   "metadata": {},
   "outputs": [
    {
     "name": "stdout",
     "output_type": "stream",
     "text": [
      "('Epoch: 0000', 'cost = 0.8942', 'time = 5.62')\n",
      "TRAIN ACCURACY: 0.865\n",
      "TEST ACCURACY: 0.873\n",
      "('Epoch: 0025', 'cost = 0.2994', 'time = 145.34')\n",
      "TRAIN ACCURACY: 0.917\n",
      "TEST ACCURACY: 0.919\n",
      "('Epoch: 0050', 'cost = 0.2798', 'time = 285.58')\n",
      "TRAIN ACCURACY: 0.922\n",
      "TEST ACCURACY: 0.922\n",
      "('Epoch: 0075', 'cost = 0.2706', 'time = 426.59')\n",
      "TRAIN ACCURACY: 0.925\n",
      "TEST ACCURACY: 0.923\n",
      "('Epoch: 0100', 'cost = 0.2648', 'time = 567.09')\n",
      "TRAIN ACCURACY: 0.927\n",
      "TEST ACCURACY: 0.923\n",
      "('Epoch: 0125', 'cost = 0.2607', 'time = 706.06')\n",
      "TRAIN ACCURACY: 0.928\n",
      "TEST ACCURACY: 0.924\n",
      "('Epoch: 0150', 'cost = 0.2575', 'time = 843.28')\n",
      "TRAIN ACCURACY: 0.929\n",
      "TEST ACCURACY: 0.924\n",
      "('Epoch: 0175', 'cost = 0.2550', 'time = 980.38')\n",
      "TRAIN ACCURACY: 0.930\n",
      "TEST ACCURACY: 0.925\n",
      "Optimization finished in 1113.23 seconds!\n",
      "TRAIN ACCURACY: 0.931\n",
      "TEST ACCURACY: 0.925\n"
     ]
    }
   ],
   "source": [
    "# Number of epochs to train over. Should be large enough for convergence.  If it is too large, at worst the model\n",
    "# might overfit, at best we waste computing time.\n",
    "n_epoch = 200\n",
    "\n",
    "# In order to monitor training progress, as well as tune n_epoch, we will computing appropriate \n",
    "# metrics at checkpoints\n",
    "display_step = 25\n",
    "\n",
    "# initialize variables\n",
    "sess.run(tf.global_variables_initializer())\n",
    "\n",
    "start = time()\n",
    "for epoch in range(n_epoch):\n",
    "    # init average cost \n",
    "    avg_cost = 0.\n",
    "    \n",
    "    # enumerate(skfold.split(x,y)) returns a triple of the form (fold, train indices, test indices)\n",
    "    # minibatch indices are the test indices, labeled batch_idx here.\n",
    "    # the training indices are not used, we just assign them to dummy_idx\n",
    "    # fold is the number of the fold in range(total_batch)\n",
    "    # One loop over the folds is a single epoch.\n",
    "    # Note also that we use the ordinal class labels in y_training because StratifiedKFold wouldn't work with the\n",
    "    # one-hot encoding\n",
    "    for fold, (dummy_idx, batch_idx) in enumerate(skfold.split(x_train_scaled, y_train)):\n",
    "        # extract design matrix and response array for minibatch\n",
    "        # here we can use the one-hot response array\n",
    "        x_batch, y_batch = x_train_scaled[batch_idx], y_train_oh[batch_idx]\n",
    "        # run backprop and feedforward\n",
    "        # we assign the cost per example to c\n",
    "        # Note the feed_dict contains the minibatch data\n",
    "        _, c = sess.run([optimizer, cost], feed_dict={x: x_batch, y_true: y_batch})\n",
    "        # Compute average cost\n",
    "        avg_cost += c / total_batch\n",
    "        \n",
    "    # Display logs per epoch step\n",
    "    if epoch % display_step == 0:\n",
    "        # return epoch and average cost\n",
    "        print(\"Epoch: %.4d\" % epoch, \"cost = %.4f\" % avg_cost, \"time = %.2f\" % (time() - start))\n",
    "        # compute accuracy on full training set\n",
    "        train_acc = sess.run(accr, feed_dict={x: x_train_scaled, y_true: y_train_oh})\n",
    "        print (\"TRAIN ACCURACY: %.3f\" % (train_acc))\n",
    "        # compute accuracy on full validation set\n",
    "        test_acc = sess.run(accr, feed_dict={x: x_test_scaled, y_true: y_test_oh})\n",
    "        print (\"TEST ACCURACY: %.3f\" % (test_acc))\n",
    "\n",
    "# After the full training cycle, return more logs\n",
    "train_acc = sess.run(accr, feed_dict={x: x_train_scaled, y_true: y_train_oh})      \n",
    "test_acc = sess.run(accr, feed_dict={x: x_test_scaled, y_true: y_test_oh})\n",
    "print(\"Optimization finished in %.2f seconds!\" % (time() - start)) \n",
    "print (\"TRAIN ACCURACY: %.3f\" % (train_acc))\n",
    "print (\"TEST ACCURACY: %.3f\" % (test_acc))   "
   ]
  },
  {
   "cell_type": "markdown",
   "metadata": {},
   "source": [
    "It appears that we would get slightly more accuracy by increasing the training epochs.  However, at 92.5% accuracy, we are far behind our Random Forest result of 97%, so it's clear that no amount of extra training is going to make logistic regression competitive.  For that we will move on to neural networks in the next section.\n",
    "\n",
    "Before moving on, we close the TF session."
   ]
  },
  {
   "cell_type": "code",
   "execution_count": 40,
   "metadata": {
    "collapsed": true
   },
   "outputs": [],
   "source": [
    "sess.close()"
   ]
  },
  {
   "cell_type": "markdown",
   "metadata": {},
   "source": [
    "## Single Hidden Layer Neural Network\n",
    "\n",
    "We'll start with the simplest type of neural network, which is a fully-connected single hidden layer. This is the simplest of a class of models called feedforward neural networks or multilayer perceptrons (MLP).\n",
    "\n",
    "We'll introduce the structure of a neural network by expanding upon that of the logistic regression model we just discussed.  That model could be understood in terms of: \n",
    "\n",
    "1. An input layer, whose role was to feed the input design matrix into the model.  \n",
    "2. An output layer, consisting of a linear transformation of the input features into the logits which were in 1-1 correspondence with the model response, namely the class labels.\n",
    "\n",
    "The nontrivial part of the model was assigned to the output layer, where the input features were transformed into the class labels.    We can understand this to a prototype for how to interpret a more general layer of a neural network.  Each layer takes as input some features and then applies some mathematical function to them to generate some new features as output.  In a typical case, our function will be a composition of a linear function, depending on some weights and biases,\n",
    "$$ \\mathbf{z^{(i)}} = \\mathbf{f}^{(i-1)} \\mathbf{W}^{(i)} + \\mathbf{b}^{(i)},$$\n",
    "and another function, possibly nonlinear, called the activation function:\n",
    "$$ \\mathbf{f}^{(i)} = g^{(i)}(\\mathbf{z}^{(i)}).$$\n",
    "These are called the **hidden layers** because their associated output features are hidden as composites of the actual function computed by the complete network:\n",
    "$$ \\mathbf{y} = F(\\mathbf{x}) = f^{(M)} \\circ \\cdots \\circ f^{(1)}(\\mathbf{x}).$$\n",
    "\n",
    "A graphical depiction of a neural network with a single hidden layer is:\n",
    "\n",
    "![single hidden layer network](single_layer.png)\n",
    "\n",
    "In this picture, we've drawn each feature as a node of the graph. The lines indicate which features are involved in the definition of each new feature. In the figure, at the left, we have an input layer that take $F$ input features.  The hidden layer has a width $n$.  The lines show that the input features are fully connected to the nodes of the hidden layer.  This means that the weights and biases at the hidden layer\n",
    "$$ z^{(1)} = X W^{(1)} + b^{(1)}$$\n",
    "are full and of shape\n",
    "\n",
    "* $W^{(1)}$: [# of input features, width]\n",
    "* $b^{(1)}$: [# of examples, width]\n",
    "\n",
    "We can also choose an **activation** function at the hidden layer.  The role of the activation function is to introduce some nonlinearity in the function that the complete network will learn.  In this notebook, we will always use the **Rectified Linear Unit, or ReLU**, activation function, defined by:\n",
    "$$ g(z) = \\text{max}(0,z) = \\begin{cases} z, & z \\geq 0 \\\\ 0, z < 0. \\end{cases}$$\n",
    "A plot of ReLU is:\n",
    "\n",
    "![ReLU function](relu.png)\n",
    "\n",
    "We can say that the features computed by the hidden layer are \n",
    "$$ f^{(1)} = g\\left( X W^{(1)} + b^{(1)}\\right) .$$\n",
    "\n",
    "Finally, the output layer introduces another set of weights and biases to compute the output logits:\n",
    "$$ z_\\text{out} = f^{(1)} W + b.$$\n",
    "As in the case of our logistic regression model, it is not strictly necessary to explicitly apply the softmax function for many of the computations in TensorFlow.  In the case where we do, we can refer to the output layer as a \"softmax layer\", since the softmax function is taking the role of an activation function.   In this notebook, we won't apply softmax as part of the computational graph.\n",
    "\n",
    "#### Dropout Regularization\n",
    "\n",
    "In machine learning, one must be continuously vigilant against the competing problems of **underfitting** and **overfitting**.   Underfitting typically occurs because the model is too simplistic and doesn't allow enough variation to fit the trend described by the training data.  This is also called the **bias** problem, because the hypothesis function $y = f(x)$ typically represents an erroneous assumption about the relationship between the response and the features.  Overfitting occurs when the model is too complex relative to the training data.  It can therefore be possible to achieve a very low training error, but the resulting model fails to generalize well to new data: the validation or test error will be relatively large compared to the training error.  This is also called the **variance** problem, since small changes to the training data will tend to lead to large changes in the learned model.\n",
    "\n",
    "Neural networks can be susceptible to both problems, but the problem of overfitting is potentially more common.  Overfitting will generally occur in a generalized linear model when the number of parameters in the hypothesis function is relatively large compared to the amount of information in the training data.  Neural networks with many large hidden layers can overfit if there is not a comparably large and diverse training set.\n",
    "\n",
    "Regularization is a collection of techniques that are designed to reduce the test error, usually at the expense of a modest increase in the training error.  A common form of regularization, especially in generalized linear models, is **parameter norm regularization**, also known as **weight decay**.  This type of regularization works by shifting the cost function by a term that depends on a suitable norm function of the parameters:\n",
    "$$ \\begin{split} \n",
    "& \\tilde{J}(\\mathbf{W};\\mathbf{x},\\mathbf{y}) = J(\\mathbf{W};\\mathbf{x},\\mathbf{y})  + \\Omega(\\mathbf{W}), \\\\\n",
    "& \\Omega(\\mathbf{W})= \\begin{cases}\n",
    "\\frac{\\alpha}{2} (\\mathbf{W}^T \\mathbf{W} \\mathbf{W}), & L^2, \\text{(Ridge regression)}, \\\\\n",
    "\\alpha \\sum_i | W_i |, & L^1,  \\text{(LASSO)}. \\end{cases} \\end{split}$$\n",
    "\n",
    "Weight decay provides an additional penalty in optimization that depends on the size of the parameters.  For appropriate choice of the hyperparameter $\\alpha$, optimization of the new cost will then favor solutions where relatively unimportant parameters take very small values and the important parameters will control the fit to the general trend contained in the training data.  Without weight decay, the unimportant parameters could be tuned at will to drive the fit closer to the training data points and away from the generalized trend of the true sample population.\n",
    "\n",
    "Weight decay is a suitable regularization technique for neural networks, but we want to introduce another form of regularization called **dropout**.   Dropout is related to another approach to the variance problem called **bootstrap aggregation** or **bagging**.  Bagging is an **ensemble** method where the predictions of many models are used to make a single prediction, either by averaging, majority vote or some other criterion.   While any single model may be prone to overfit, the ensemble prediction is expected to be closer to the \"true\" value.  Statistically, the quality of the ensemble is controlled by how independent the individual models are from one another.\n",
    "\n",
    "To explain dropout, consider our single hidden layer model.  The width of the hidden layer is a hyperparameter and we would consider models of different widths to be different models.  These models might not be completely independent, since after training, the weights might end up taking similar values.  This is very much to be expected if some input features are highly correlated with certain output responses.\n",
    "\n",
    "In any case, we can start with a wide hidden layer and simulate the models with a smaller hidden layer by multiplying some of the weights by a factor of 0.  The result of doing this one at a time looks like:\n",
    "\n",
    "![effect of dropout on a single layer](dropout.png)\n",
    "\n",
    "More specifically, when implementing dropout, we'll assign a number $\\rho_i$ to each node that is the probability that we keep the output of that node during the training cycle.  Each training cycle then trains a different model, but all of the models are built from a different subset of a large collection of shared parameters. Therefore the submodels are not very independent of one another, but the difference here is that we can sample a fairly large ensemble of models for a very small computational cost. \n",
    "\n",
    "To complete the ensemble prediction we use another estimation rule called the **weight scaling inference rule**.  This says that we can approximate the ensemble probability distribution $p_\\text{ens.}(y|x)$ by evaluating $p(y|x)$ in the model with all units, but with the weights going out of the unit $i$ multiplied by the probability $\\rho_i$ of including $i$. A typical choice is $\\rho_i = 1/2$.\n",
    "\n",
    "#### Back to TensorFlow\n",
    "\n",
    "Let us build this single hidden layer neural network in TensorFlow, We will start by clearing the previous graph and starting a new interactive session."
   ]
  },
  {
   "cell_type": "code",
   "execution_count": 41,
   "metadata": {
    "collapsed": true
   },
   "outputs": [],
   "source": [
    "tf.reset_default_graph()\n",
    "sess = tf.InteractiveSession()\n",
    "\n",
    "# set random seed\n",
    "tf.set_random_seed(464)"
   ]
  },
  {
   "cell_type": "markdown",
   "metadata": {},
   "source": [
    "Our input and output are defined exactly as before:"
   ]
  },
  {
   "cell_type": "code",
   "execution_count": 42,
   "metadata": {
    "collapsed": true
   },
   "outputs": [],
   "source": [
    "n_feat = 784\n",
    "x = tf.placeholder(tf.float32, shape=[None, n_feat])\n",
    "\n",
    "n_class = 10\n",
    "y_true = tf.placeholder(tf.int32, shape=[None, n_class])"
   ]
  },
  {
   "cell_type": "markdown",
   "metadata": {},
   "source": [
    "Next, we have to specify the weights for the (first) hidden layer. As explained above, this is a tensor of dimension [n_feat, width], where width is the number of nodes in the hidden layer. \n",
    "\n",
    "It's a good idea to set up some functions to initialize our weights to some small random values. This is because if initialized all of the weights to be zero, then during feedforward, all of the outputs will be the same, as well as the derivatives during backprop.  Each weight will be updated by the same amount and we're unlikely to generate any asymmetry in the weights and the network is unlikely to succeed in learning anything useful. \n",
    "\n",
    "In fact, we'll just import these from the tutuorial we linked to earlier, since they do exactly what we need."
   ]
  },
  {
   "cell_type": "code",
   "execution_count": 43,
   "metadata": {
    "collapsed": true
   },
   "outputs": [],
   "source": [
    "def weight_variable(shape):\n",
    "  initial = tf.truncated_normal(shape, stddev=0.1)\n",
    "  return tf.Variable(initial)\n",
    "\n",
    "def bias_variable(shape):\n",
    "  initial = tf.constant(0.1, shape=shape)\n",
    "  return tf.Variable(initial)"
   ]
  },
  {
   "cell_type": "markdown",
   "metadata": {},
   "source": [
    "These draw the initial weights from a positively truncated normal distribution and set the biases to a small positive constant.  Having a positive bias tends to result in good performance when using ReLU activation functions, which we will do below.\n",
    "\n",
    "We will start with a hidden layer with 1024 nodes, fully connected to the input layer:"
   ]
  },
  {
   "cell_type": "code",
   "execution_count": 44,
   "metadata": {
    "collapsed": true
   },
   "outputs": [],
   "source": [
    "width1 = 1024\n",
    "W_1 = weight_variable([n_feat, width1])"
   ]
  },
  {
   "cell_type": "markdown",
   "metadata": {},
   "source": [
    "Similarly, we want to define a bias for each node.  "
   ]
  },
  {
   "cell_type": "code",
   "execution_count": 45,
   "metadata": {
    "collapsed": true
   },
   "outputs": [],
   "source": [
    "b_1 = bias_variable([width1])"
   ]
  },
  {
   "cell_type": "markdown",
   "metadata": {},
   "source": [
    "At the nodes, we'll apply ReLU, via:"
   ]
  },
  {
   "cell_type": "code",
   "execution_count": 46,
   "metadata": {
    "collapsed": true
   },
   "outputs": [],
   "source": [
    "h_1 = tf.nn.relu(tf.add(tf.matmul(x, W_1), b_1))"
   ]
  },
  {
   "cell_type": "markdown",
   "metadata": {},
   "source": [
    "Note that we again used the tf.matmul and tf.add functions.\n",
    "\n",
    "Next, we'll introduce a dropout application as a regularization of the model.  As in the tutorial, we'll introduce a placeholder for the probability to keep the output during dropout.  This way we can use dropout during training, but turn it off easily when we run our predictions on the validation set."
   ]
  },
  {
   "cell_type": "code",
   "execution_count": 47,
   "metadata": {
    "collapsed": true
   },
   "outputs": [],
   "source": [
    "keep_prob = tf.placeholder(tf.float32)\n",
    "h_1_drop = tf.nn.dropout(h_1, keep_prob)"
   ]
  },
  {
   "cell_type": "markdown",
   "metadata": {},
   "source": [
    "Finally, the output layer will produce a vector for our 10 possible digit classes.  We introduce more weights and biases, now with the size [width1, n_class]:"
   ]
  },
  {
   "cell_type": "code",
   "execution_count": 48,
   "metadata": {
    "collapsed": true
   },
   "outputs": [],
   "source": [
    "W_out = weight_variable([width1, n_class])\n",
    "b_out = bias_variable([n_class])\n",
    "\n",
    "z_out = tf.add(tf.matmul(h_1_drop, W_out), b_out)"
   ]
  },
  {
   "cell_type": "markdown",
   "metadata": {},
   "source": [
    "Once again, we don't apply any activation function at the output layer (this is \"linear activation\").  We'll use the same TF function to compute the cross-entropy directly from the logits. If we need to later, we can apply argmax  to get the most probable label, or the softmax function to obtain the probabilities for all of the classes.  We will also use the same accuracy score metric as in the logistic regression example."
   ]
  },
  {
   "cell_type": "code",
   "execution_count": 49,
   "metadata": {
    "collapsed": true
   },
   "outputs": [],
   "source": [
    "cost = tf.reduce_mean(tf.nn.softmax_cross_entropy_with_logits(labels=y_true, logits=z_out))\n",
    "corr = tf.equal(tf.argmax(z_out, 1), tf.argmax(y_true, 1))    \n",
    "accr = tf.reduce_mean(tf.cast(corr, \"float\"))"
   ]
  },
  {
   "cell_type": "markdown",
   "metadata": {},
   "source": [
    "Next, we have to define an optimizer. In this case, we should note that the GradientDescentOptimizer that we used before took a long time to converge, and we might not have even trained long enough for it to completely converge.  Therefore, we'll choose to use the AdamOptimizer this time.  Adam is a form of gradient descent that uses several techniques to adapt the updates based on the rates at which the cost function and it's derivatives are changing.  It is expected to have faster convergence at the cost of additional computational overhead for each step. "
   ]
  },
  {
   "cell_type": "code",
   "execution_count": 50,
   "metadata": {
    "collapsed": true
   },
   "outputs": [],
   "source": [
    "learning_rate = 0.001\n",
    "optimizer = tf.train.AdamOptimizer(learning_rate).minimize(cost)"
   ]
  },
  {
   "cell_type": "markdown",
   "metadata": {},
   "source": [
    "We will train the model by slightly modifying the previous training code to include the dropout hyperparameter."
   ]
  },
  {
   "cell_type": "code",
   "execution_count": 51,
   "metadata": {},
   "outputs": [
    {
     "name": "stdout",
     "output_type": "stream",
     "text": [
      "('Epoch: 0000', 'cost = 0.2801', 'time = 15.04')\n",
      "TRAIN ACCURACY: 0.9708\n",
      "TEST ACCURACY: 0.9669\n",
      "('Epoch: 0010', 'cost = 0.0398', 'time = 179.74')\n",
      "TRAIN ACCURACY: 0.9963\n",
      "TEST ACCURACY: 0.9823\n",
      "('Epoch: 0020', 'cost = 0.0276', 'time = 344.94')\n",
      "TRAIN ACCURACY: 0.9984\n",
      "TEST ACCURACY: 0.9835\n",
      "('Epoch: 0030', 'cost = 0.0217', 'time = 510.23')\n",
      "TRAIN ACCURACY: 0.9985\n",
      "TEST ACCURACY: 0.9849\n",
      "('Epoch: 0040', 'cost = 0.0201', 'time = 679.48')\n",
      "TRAIN ACCURACY: 0.9991\n",
      "TEST ACCURACY: 0.9838\n",
      "('Epoch: 0050', 'cost = 0.0217', 'time = 854.08')\n",
      "TRAIN ACCURACY: 0.9996\n",
      "TEST ACCURACY: 0.9843\n",
      "('Epoch: 0060', 'cost = 0.0201', 'time = 1037.13')\n",
      "TRAIN ACCURACY: 0.9997\n",
      "TEST ACCURACY: 0.9845\n",
      "('Epoch: 0070', 'cost = 0.0183', 'time = 1226.91')\n",
      "TRAIN ACCURACY: 0.9994\n",
      "TEST ACCURACY: 0.9826\n",
      "('Epoch: 0080', 'cost = 0.0169', 'time = 1421.47')\n",
      "TRAIN ACCURACY: 0.9999\n",
      "TEST ACCURACY: 0.9850\n",
      "('Epoch: 0090', 'cost = 0.0185', 'time = 1621.00')\n",
      "TRAIN ACCURACY: 0.9998\n",
      "TEST ACCURACY: 0.9859\n",
      "('Epoch: 0100', 'cost = 0.0158', 'time = 1822.84')\n",
      "TRAIN ACCURACY: 0.9999\n",
      "TEST ACCURACY: 0.9852\n",
      "('Epoch: 0110', 'cost = 0.0155', 'time = 2031.06')\n",
      "TRAIN ACCURACY: 0.9998\n",
      "TEST ACCURACY: 0.9855\n",
      "('Epoch: 0120', 'cost = 0.0171', 'time = 2243.23')\n",
      "TRAIN ACCURACY: 0.9999\n",
      "TEST ACCURACY: 0.9851\n",
      "('Epoch: 0130', 'cost = 0.0168', 'time = 2443.03')\n",
      "TRAIN ACCURACY: 0.9999\n",
      "TEST ACCURACY: 0.9864\n",
      "Optimization finished in 2448.76 seconds!\n",
      "TRAIN ACCURACY: 0.9999\n",
      "TEST ACCURACY: 0.9864\n"
     ]
    }
   ],
   "source": [
    "# Number of epochs to train over. Should be large enough for convergence.  If it is too large, at worst the model\n",
    "# might overfit, at best we waste computing time.\n",
    "n_epoch = 130 + 1\n",
    "\n",
    "# In order to monitor training progress, as well as tune n_epoch, we will computing appropriate \n",
    "# metrics at checkpoints\n",
    "display_step = 10\n",
    "\n",
    "# initialize variables\n",
    "sess.run(tf.global_variables_initializer())\n",
    "\n",
    "start = time()\n",
    "for epoch in range(n_epoch):\n",
    "    # init average cost \n",
    "    avg_cost = 0.\n",
    "    \n",
    "    # enumerate(skfold.split(x,y)) returns a triple of the form (fold, train indices, test indices)\n",
    "    # minibatch indices are the test indices, labeled batch_idx here.\n",
    "    # the training indices are not used, we just assign them to dummy_idx\n",
    "    # fold is the number of the fold in range(total_batch)\n",
    "    # One loop over the folds is a single epoch.\n",
    "    # Note also that we use the ordinal class labels in y_training because StratifiedKFold wouldn't work with the\n",
    "    # one-hot encoding\n",
    "    for fold, (dummy_idx, batch_idx) in enumerate(skfold.split(x_train_scaled, y_train)):\n",
    "        # extract design matrix and response array for minibatch\n",
    "        # here we can use the one-hot response array\n",
    "        x_batch, y_batch = x_train_scaled[batch_idx], y_train_oh[batch_idx]\n",
    "        # run backprop and feedforward\n",
    "        # we assign the cost per example to c\n",
    "        # Note the feed_dict contains the minibatch data\n",
    "        _, c = sess.run([optimizer, cost], feed_dict={x: x_batch, y_true: y_batch, keep_prob: 0.5})\n",
    "        # Compute average cost\n",
    "        avg_cost += c / total_batch\n",
    "        \n",
    "    # Display logs per epoch step\n",
    "    if epoch % display_step == 0:\n",
    "        # return epoch and average cost\n",
    "        print(\"Epoch: %.4d\" % epoch, \"cost = %.4f\" % avg_cost, \"time = %.2f\" % (time() - start))\n",
    "        # compute accuracy on full training set\n",
    "        train_acc = sess.run(accr, feed_dict={x: x_train_scaled, y_true: y_train_oh, keep_prob: 1.})\n",
    "        print (\"TRAIN ACCURACY: %.4f\" % (train_acc))\n",
    "        # compute accuracy on full validation set\n",
    "        test_acc = sess.run(accr, feed_dict={x: x_test_scaled, y_true: y_test_oh, keep_prob: 1.})\n",
    "        print (\"TEST ACCURACY: %.4f\" % (test_acc))\n",
    "\n",
    "# After the full training cycle, return more logs\n",
    "train_acc = sess.run(accr, feed_dict={x: x_train_scaled, y_true: y_train_oh, keep_prob: 1.})      \n",
    "test_acc = sess.run(accr, feed_dict={x: x_test_scaled, y_true: y_test_oh, keep_prob: 1.})\n",
    "print(\"Optimization finished in %.2f seconds!\" % (time() - start)) \n",
    "print (\"TRAIN ACCURACY: %.4f\" % (train_acc))\n",
    "print (\"TEST ACCURACY: %.4f\" % (test_acc))   "
   ]
  },
  {
   "cell_type": "markdown",
   "metadata": {},
   "source": [
    "At 98.6% accuracy, this model is a 1.6% improvement in accuracy over our Random Forest result of 97%.  Each training epoch has taken around 15s, for a total training time of around one-half hour.\n",
    "\n",
    "It might be possible to improve the results of this model by adjusting the parameters.  The width of the hidden layer, the learning rate, the minibatch size, etc. (even the choice of activation functions!) should all be viewed as hyperparameters that should be tuned to improve the accuracy of the model.  In future discussions, we will investigate some effects of hyperparameter tuning in neural networks.  Some issues to be concerned about:\n",
    "\n",
    "1. Width and depth of the network determines the **capacity** of the network, in information-theory terms.  Counting independent weight and bias parameters leads to some number $P$ of independent coefficients that must be optimized during training.  If the training data has $N$ examples and $F$ features, then we can think of $NF$ as an upper bound on the number of coefficients we can determine.   Since features can be interdependent or correlated, and examples can overlap, the actual bound $B \\leq NF$ is highly dependent on the data.   \n",
    "    * If $B < P$, then the system is underdetermined.  In such a case, **overfitting** is a serious concern and regularization, techniques, like dropout, become very important.\n",
    "    * If $B > P$, then the model might not have enough capacity to generalize well.  \n",
    "    * Adjusting the width and/or depth of the network and examining (cross-)validation error can help to find an optimum capacity for the model.\n",
    "\n",
    "2. If the learning rate is too small, there can be several consequences, including:\n",
    "    * The training will take a longer time than necessary, consuming time and other resources we could have used more efficiently.\n",
    "    * We could end up in a local minimum and the step we make in parameter space is not large enough to get us out.\n",
    "    * In our model here, we see that, e.g., at epoch 50, the cost function has actually increased.  This could be a sign that the learning rate is too large.\n",
    "    \n",
    "3. If the minibatch size is too small, the corresponding step during gradient descent will also be relatively small. We might get stuck in a local minimum.\n",
    "\n",
    "4. If the number of training cycles is too small, then we will not have used the training data to maximum effectiveness.  If the number of training cycles is too large, we either waste time or allow the model to overfit.  As a regularization technique, putting a limit on the number of training cycles is called **early stopping**.\n",
    "\n",
    "For now, we'll look at adding an additional hidden layer to see how that affects the accuracy. \n",
    "\n",
    "Before closing the TF session, let's save the class probabilities predicted by this model:"
   ]
  },
  {
   "cell_type": "code",
   "execution_count": 52,
   "metadata": {
    "collapsed": true
   },
   "outputs": [],
   "source": [
    "class_prob_singlayer = sess.run(tf.nn.softmax(z_out), \n",
    "                          feed_dict={x: x_test_scaled, y_true: y_test_oh, keep_prob: 1.})"
   ]
  },
  {
   "cell_type": "code",
   "execution_count": 53,
   "metadata": {
    "collapsed": true
   },
   "outputs": [],
   "source": [
    "sess.close()"
   ]
  },
  {
   "cell_type": "markdown",
   "metadata": {},
   "source": [
    "## Multilayer Perceptron"
   ]
  },
  {
   "cell_type": "markdown",
   "metadata": {},
   "source": [
    "We will quickly execute a two-layer perceptron here and then move on to more complicated (and deep) networks.  The command reset_default_graph will reset the graph so that we can start fresh."
   ]
  },
  {
   "cell_type": "code",
   "execution_count": 54,
   "metadata": {
    "collapsed": true
   },
   "outputs": [],
   "source": [
    "tf.reset_default_graph()\n",
    "sess = tf.InteractiveSession()\n",
    "\n",
    "# set random seed\n",
    "tf.set_random_seed(464)"
   ]
  },
  {
   "cell_type": "code",
   "execution_count": 55,
   "metadata": {
    "collapsed": true
   },
   "outputs": [],
   "source": [
    "n_feat = 784\n",
    "x = tf.placeholder(tf.float32, shape=[None, n_feat])\n",
    "n_class = 10\n",
    "y_true = tf.placeholder(tf.int32, shape=[None, n_class])\n",
    "\n",
    "width1 = 1024 \n",
    "W_1 = weight_variable([n_feat, width1])\n",
    "b_1 = bias_variable([width1])\n",
    "h_1 = tf.nn.relu(tf.add(tf.matmul(x, W_1), b_1))\n",
    "\n",
    "keep_prob = tf.placeholder(tf.float32)\n",
    "h_1_drop = tf.nn.dropout(h_1, keep_prob)\n",
    "\n",
    "width2 = 1024 \n",
    "W_2 = weight_variable([width1, width2])\n",
    "b_2 = bias_variable([width2])\n",
    "h_2 = tf.nn.relu(tf.add(tf.matmul(h_1_drop, W_2), b_2))\n",
    "\n",
    "h_2_drop = tf.nn.dropout(h_2, keep_prob)\n",
    "\n",
    "W_out = weight_variable([width2, n_class])\n",
    "b_out = bias_variable([n_class])\n",
    "\n",
    "z_out = tf.add(tf.matmul(h_2_drop, W_out), b_out)\n",
    "\n",
    "cost = tf.reduce_mean(tf.nn.softmax_cross_entropy_with_logits(labels=y_true, logits=z_out))\n",
    "\n",
    "learning_rate = 0.0005\n",
    "optimizer = tf.train.AdamOptimizer(learning_rate).minimize(cost)\n",
    "\n",
    "corr = tf.equal(tf.argmax(z_out, 1), tf.argmax(y_true, 1))    \n",
    "accr = tf.reduce_mean(tf.cast(corr, \"float\"))"
   ]
  },
  {
   "cell_type": "markdown",
   "metadata": {},
   "source": [
    "The hidden layer sizes were chosen in order that the training runs in a reasonably short amount of time."
   ]
  },
  {
   "cell_type": "code",
   "execution_count": 56,
   "metadata": {
    "scrolled": false
   },
   "outputs": [
    {
     "name": "stdout",
     "output_type": "stream",
     "text": [
      "('Epoch: 0000', 'cost = 0.7006', 'time = 24.51')\n",
      "TRAIN ACCURACY: 0.9582\n",
      "TEST ACCURACY: 0.9566\n",
      "('Epoch: 0010', 'cost = 0.0601', 'time = 281.60')\n",
      "TRAIN ACCURACY: 0.9938\n",
      "TEST ACCURACY: 0.9801\n",
      "('Epoch: 0020', 'cost = 0.0413', 'time = 541.41')\n",
      "TRAIN ACCURACY: 0.9978\n",
      "TEST ACCURACY: 0.9838\n",
      "('Epoch: 0030', 'cost = 0.0306', 'time = 802.28')\n",
      "TRAIN ACCURACY: 0.9988\n",
      "TEST ACCURACY: 0.9842\n",
      "('Epoch: 0040', 'cost = 0.0269', 'time = 1065.92')\n",
      "TRAIN ACCURACY: 0.9992\n",
      "TEST ACCURACY: 0.9865\n",
      "('Epoch: 0050', 'cost = 0.0246', 'time = 1334.72')\n",
      "TRAIN ACCURACY: 0.9995\n",
      "TEST ACCURACY: 0.9863\n",
      "('Epoch: 0060', 'cost = 0.0227', 'time = 1612.19')\n",
      "TRAIN ACCURACY: 0.9996\n",
      "TEST ACCURACY: 0.9851\n",
      "('Epoch: 0070', 'cost = 0.0251', 'time = 1897.95')\n",
      "TRAIN ACCURACY: 0.9998\n",
      "TEST ACCURACY: 0.9853\n",
      "('Epoch: 0080', 'cost = 0.0208', 'time = 2189.14')\n",
      "TRAIN ACCURACY: 0.9997\n",
      "TEST ACCURACY: 0.9859\n",
      "('Epoch: 0090', 'cost = 0.0201', 'time = 2484.31')\n",
      "TRAIN ACCURACY: 0.9996\n",
      "TEST ACCURACY: 0.9848\n",
      "('Epoch: 0100', 'cost = 0.0193', 'time = 2781.78')\n",
      "TRAIN ACCURACY: 0.9998\n",
      "TEST ACCURACY: 0.9849\n",
      "('Epoch: 0110', 'cost = 0.0194', 'time = 3080.92')\n",
      "TRAIN ACCURACY: 0.9999\n",
      "TEST ACCURACY: 0.9870\n",
      "('Epoch: 0120', 'cost = 0.0194', 'time = 3384.23')\n",
      "TRAIN ACCURACY: 1.0000\n",
      "TEST ACCURACY: 0.9850\n",
      "('Epoch: 0130', 'cost = 0.0146', 'time = 3688.60')\n",
      "TRAIN ACCURACY: 0.9999\n",
      "TEST ACCURACY: 0.9857\n",
      "('Epoch: 0140', 'cost = 0.0182', 'time = 3994.45')\n",
      "TRAIN ACCURACY: 0.9999\n",
      "TEST ACCURACY: 0.9865\n",
      "('Epoch: 0150', 'cost = 0.0169', 'time = 4301.70')\n",
      "TRAIN ACCURACY: 1.0000\n",
      "TEST ACCURACY: 0.9871\n",
      "('Epoch: 0160', 'cost = 0.0172', 'time = 4608.20')\n",
      "TRAIN ACCURACY: 1.0000\n",
      "TEST ACCURACY: 0.9872\n",
      "Optimization finished in 4618.38 seconds!\n",
      "For width1 = 1024, width2 = 1024, n_epoch = 161,\n",
      "TRAIN ACCURACY: 1.0000\n",
      "TEST ACCURACY: 0.9872\n"
     ]
    }
   ],
   "source": [
    "# Number of epochs to train over. Should be large enough for convergence.  If it is too large, at worst the model\n",
    "# might overfit, at best we waste computing time.\n",
    "n_epoch = 160 + 1\n",
    "\n",
    "# In order to monitor training progress, as well as tune n_epoch, we will computing appropriate \n",
    "# metrics at checkpoints\n",
    "display_step = 10\n",
    "\n",
    "# initialize variables\n",
    "sess.run(tf.global_variables_initializer())\n",
    "\n",
    "start = time()\n",
    "for epoch in range(n_epoch):\n",
    "    # init average cost \n",
    "    avg_cost = 0.\n",
    "    \n",
    "    # enumerate(skfold.split(x,y)) returns a triple of the form (fold, train indices, test indices)\n",
    "    # minibatch indices are the test indices, labeled batch_idx here.\n",
    "    # the training indices are not used, we just assign them to dummy_idx\n",
    "    # fold is the number of the fold in range(total_batch)\n",
    "    # One loop over the folds is a single epoch.\n",
    "    # Note also that we use the ordinal class labels in y_training because StratifiedKFold wouldn't work with the\n",
    "    # one-hot encoding\n",
    "    for fold, (dummy_idx, batch_idx) in enumerate(skfold.split(x_train_scaled, y_train)):\n",
    "        # extract design matrix and response array for minibatch\n",
    "        # here we can use the one-hot response array\n",
    "        x_batch, y_batch = x_train_scaled[batch_idx], y_train_oh[batch_idx]\n",
    "        # run backprop and feedforward\n",
    "        # we assign the cost per example to c\n",
    "        # Note the feed_dict contains the minibatch data\n",
    "        _, c = sess.run([optimizer, cost], feed_dict={x: x_batch, y_true: y_batch, keep_prob: 0.5})\n",
    "        # Compute average cost\n",
    "        avg_cost += c / total_batch\n",
    "        \n",
    "    # Display logs per epoch step\n",
    "    if epoch % display_step == 0:\n",
    "        # return epoch and average cost\n",
    "        print(\"Epoch: %.4d\" % epoch, \"cost = %.4f\" % avg_cost, \"time = %.2f\" % (time() - start))\n",
    "        # compute accuracy on full training set\n",
    "        train_acc = sess.run(accr, feed_dict={x: x_train_scaled, y_true: y_train_oh, keep_prob: 1.})\n",
    "        print (\"TRAIN ACCURACY: %.4f\" % (train_acc))\n",
    "        # compute accuracy on full validation set\n",
    "        test_acc = sess.run(accr, feed_dict={x: x_test_scaled, y_true: y_test_oh, keep_prob: 1.})\n",
    "        print (\"TEST ACCURACY: %.4f\" % (test_acc))\n",
    "\n",
    "# After the full training cycle, return more logs\n",
    "train_acc = sess.run(accr, feed_dict={x: x_train_scaled, y_true: y_train_oh, keep_prob: 1.})      \n",
    "test_acc = sess.run(accr, feed_dict={x: x_test_scaled, y_true: y_test_oh, keep_prob: 1.})\n",
    "print(\"Optimization finished in %.2f seconds!\" % (time() - start)) \n",
    "print(\"For width1 = %d, width2 = %d, n_epoch = %d,\" \\\n",
    "      % (width1, width2, n_epoch))\n",
    "print (\"TRAIN ACCURACY: %.4f\" % (train_acc))\n",
    "print (\"TEST ACCURACY: %.4f\" % (test_acc))        "
   ]
  },
  {
   "cell_type": "markdown",
   "metadata": {},
   "source": [
    "At 98.7% test accuracy, this model is only slightly better than the result of our single layer model. This model also takes much longer to train. Each epoch takes nearly twice as long and we needed more of them to reach an optimum result, for a total training time over twice as long as the single layer model. \n",
    "\n",
    "Again, it is possible that better tunings would improve the result. For instance, at 70 and several later epochs, the cost function has increased, indicating that adjustments to the learning rate should be tested.  However, we will pass to the discussion of convolutional neural networks."
   ]
  },
  {
   "cell_type": "code",
   "execution_count": 57,
   "metadata": {
    "collapsed": true
   },
   "outputs": [],
   "source": [
    "class_prob_twolayer = sess.run(tf.nn.softmax(z_out), \n",
    "                          feed_dict={x: x_test_scaled, y_true: y_test_oh, keep_prob: 1.})"
   ]
  },
  {
   "cell_type": "code",
   "execution_count": 58,
   "metadata": {
    "collapsed": true
   },
   "outputs": [],
   "source": [
    "sess.close()"
   ]
  },
  {
   "cell_type": "markdown",
   "metadata": {},
   "source": [
    "## Convolutional Deep Network"
   ]
  },
  {
   "cell_type": "markdown",
   "metadata": {},
   "source": [
    "In this section, we'll build a network with convolutional and pooling layers, closely resembling the one in the Deep MNIST example from the TF tutorial.\n",
    "\n",
    "Recall that in a fully-connected hidden layer, the new features are computed from the previous layer using a complete weight matrix:\n",
    "$$ \\mathbf{f}^{(i)} = g^{(i)}\\left(\\mathbf{f}^{(i-1)} \\mathbf{W}^{(i)} + \\mathbf{b}^{(i)}\\right).$$\n",
    "This structure followed as the most general one possible, but we can try to impose certain conditions:\n",
    "\n",
    "1. We can force some of the weights  $\\mathbf{W}^{(i)}_{a_{i-1}a_i}$ to zero.  This is precisely part of the procedure carried out in the dropout regularization we described earlier.  This generally results in fully-connected models with a smaller capacity.\n",
    "2. We can impose some symmetry on the weights $\\mathbf{W}^{(i)}_{a_{i-1}a_i}$.  This will force some components to be equal to one another.\n",
    "3. We can remove some connections to the previous layer. This is equivalent to replacing \n",
    "$$ \\mathbf{f}^{(i-1)} \\mathbf{W}^{(i)} \\rightarrow \\sum_{a_{i-1} \\in D} \\mathbf{f}^{(i-1)}_{a_{i-1}} \\mathbf{W}^{(i)}_{a_{i-1}a_i},$$\n",
    "where $D$ is some subset of the index set for the incoming features $\\mathbf{f}^{(i-1)}$. \n",
    "\n",
    "An example of part of a semi-connected network obtained by the condition (3) might be:\n",
    "\n",
    "![semi-connected network layers](semiconnect.png)\n",
    "\n",
    "Convolutional layers generally implement the conditions (2) and (3) in a specific way that is tailored to image input data.  In order to understand how these conditions work and how they might improve image recognition, let's take another look at our digit data.\n",
    "\n",
    "Let's pick out random sets of 6s, 8s, and 9s from the training data:"
   ]
  },
  {
   "cell_type": "code",
   "execution_count": 59,
   "metadata": {
    "collapsed": true
   },
   "outputs": [],
   "source": [
    "sixes_idx = np.random.choice(train_df[train_df['label']==6].index, size=4, replace=False)\n",
    "eights_idx = np.random.choice(train_df[train_df['label']==8].index, size=4, replace=False)\n",
    "nines_idx = np.random.choice(train_df[train_df['label']==9].index, size=4, replace=False)"
   ]
  },
  {
   "cell_type": "code",
   "execution_count": 60,
   "metadata": {},
   "outputs": [
    {
     "data": {
      "image/png": "[encoded data removed]",
      "text/plain": [
       "<matplotlib.figure.Figure at 0x7f7a57913cd0>"
      ]
     },
     "metadata": {},
     "output_type": "display_data"
    }
   ],
   "source": [
    "# generate a 3x4 grid of subplots\n",
    "fig, axs = plt.subplots(nrows=3, ncols=4, figsize=(10,10))\n",
    "\n",
    "# each row will be 6s, 8s, or 9s\n",
    "i = 0\n",
    "for ax in axs[0,:]:\n",
    "    ax.imshow(pixel_mat(sixes_idx[i]), cmap=plt.cm.gray, origin='upper', interpolation='nearest')\n",
    "    i += 1\n",
    "    ax.axis('off')\n",
    "i = 0\n",
    "for ax in axs[1,:]:\n",
    "    ax.imshow(pixel_mat(eights_idx[i]), cmap=plt.cm.gray, origin='upper', interpolation='nearest')\n",
    "    i += 1\n",
    "    ax.axis('off')\n",
    "i = 0\n",
    "for ax in axs[2,:]:\n",
    "    ax.imshow(pixel_mat(nines_idx[i]), cmap=plt.cm.gray, origin='upper', interpolation='nearest')\n",
    "    i += 1\n",
    "    ax.axis('off')    \n",
    "plt.tight_layout()   \n",
    "plt.show()"
   ]
  },
  {
   "cell_type": "markdown",
   "metadata": {},
   "source": [
    "Let's imagine looking at these images through a window of the pixels in the upper half of the image."
   ]
  },
  {
   "cell_type": "code",
   "execution_count": 61,
   "metadata": {},
   "outputs": [
    {
     "data": {
      "image/png": "[encoded data removed]",
      "text/plain": [
       "<matplotlib.figure.Figure at 0x7f7a3f8252d0>"
      ]
     },
     "metadata": {},
     "output_type": "display_data"
    }
   ],
   "source": [
    "# recover the upper 14x28 block from the 28x28 matrix \n",
    "def upper_pixel_mat(row):\n",
    "    # we're working with train_df so we want to drop the label column\n",
    "    vec = train_df.drop('label', axis=1).iloc[row].values\n",
    "    # numpy provides the reshape() function to reorganize arrays into specified shapes\n",
    "    pixel_mat = vec.reshape(28,28)\n",
    "    upper_pixel_mat = pixel_mat[0:13,:]\n",
    "    return upper_pixel_mat\n",
    "\n",
    "\n",
    "fig, axs = plt.subplots(nrows=3, ncols=4, figsize=(10,5))\n",
    "\n",
    "i = 0\n",
    "for ax in axs[0,:]:\n",
    "    ax.imshow(upper_pixel_mat(sixes_idx[i]), cmap=plt.cm.gray, origin='upper', interpolation='nearest')\n",
    "    i += 1\n",
    "    ax.axis('off')\n",
    "i = 0\n",
    "for ax in axs[1,:]:\n",
    "    ax.imshow(upper_pixel_mat(eights_idx[i]), cmap=plt.cm.gray, origin='upper', interpolation='nearest')\n",
    "    i += 1\n",
    "    ax.axis('off')\n",
    "i = 0\n",
    "for ax in axs[2,:]:\n",
    "    ax.imshow(upper_pixel_mat(nines_idx[i]), cmap=plt.cm.gray, origin='upper', interpolation='nearest')\n",
    "    i += 1\n",
    "    ax.axis('off')    \n",
    "plt.tight_layout()   \n",
    "plt.show()"
   ]
  },
  {
   "cell_type": "markdown",
   "metadata": {},
   "source": [
    "Similarly look through a window in the lower half:"
   ]
  },
  {
   "cell_type": "code",
   "execution_count": 62,
   "metadata": {},
   "outputs": [
    {
     "data": {
      "image/png": "[encoded data removed]",
      "text/plain": [
       "<matplotlib.figure.Figure at 0x7f79f5f74890>"
      ]
     },
     "metadata": {},
     "output_type": "display_data"
    }
   ],
   "source": [
    "# recover the lower 14x28 block from the 28x28 matrix \n",
    "def lower_pixel_mat(row):\n",
    "    # we're working with train_df so we want to drop the label column\n",
    "    vec = train_df.drop('label', axis=1).iloc[row].values\n",
    "    # numpy provides the reshape() function to reorganize arrays into specified shapes\n",
    "    pixel_mat = vec.reshape(28,28)\n",
    "    lower_pixel_mat = pixel_mat[14:28,:]\n",
    "    return lower_pixel_mat\n",
    "\n",
    "\n",
    "fig, axs = plt.subplots(nrows=3, ncols=4, figsize=(10,5))\n",
    "\n",
    "i = 0\n",
    "for ax in axs[0,:]:\n",
    "    ax.imshow(lower_pixel_mat(sixes_idx[i]), cmap=plt.cm.gray, origin='upper', interpolation='nearest')\n",
    "    i += 1\n",
    "    ax.axis('off')\n",
    "i = 0\n",
    "for ax in axs[1,:]:\n",
    "    ax.imshow(lower_pixel_mat(eights_idx[i]), cmap=plt.cm.gray, origin='upper', interpolation='nearest')\n",
    "    i += 1\n",
    "    ax.axis('off')\n",
    "i = 0\n",
    "for ax in axs[2,:]:\n",
    "    ax.imshow(lower_pixel_mat(nines_idx[i]), cmap=plt.cm.gray, origin='upper', interpolation='nearest')\n",
    "    i += 1\n",
    "    ax.axis('off')    \n",
    "plt.tight_layout()   \n",
    "plt.show()"
   ]
  },
  {
   "cell_type": "markdown",
   "metadata": {},
   "source": [
    "We can imagine training an early layer of our network to recognize a closed loop, then a later layer could learn the table:\n",
    "\n",
    "| loop in upper window | loop in lower window | digit     |\n",
    "|----------------------|----------------------|-----------|\n",
    "|         0            |         0            | not 6,8,9 |\n",
    "|         1            |         0            |      9    |\n",
    "|         0            |         1            |      6    |\n",
    "|         1            |         1            |      8    |\n",
    "\n",
    "A sketch of a convolutional layer being fed into a regular feedforward layer might look like:\n",
    "\n",
    "![convolutional layer into feedforward layer](convolution1.png)\n",
    "\n",
    "It is not to hard to guess that the convolutional network will have the hyperparameters:\n",
    "\n",
    "1. The shape [width, height] of the window employed to sample groups of pixels.  The window is also referred to as the **filter**.\n",
    "\n",
    "2. The number of pixels in each direction to move the window between samplings.  This is called the **stride**.\n",
    "\n",
    "3. The number of features to compute per sampling.  This is referred to as the **depth**. If depth > 1, then the filter is actually a tensor of shape [width, height, depth].\n",
    "\n",
    "Convolutional layers tend to learn geometric shapes.  In the case of the digits, depending on the filter size, these might look like the highlighted shapes:\n",
    "\n",
    "![convolutional features](convfeat.png)\n",
    "\n",
    "Because using the filter is equivalent to sharing weights,  the convolutional layer learns these features wherever they might be found in the image.  The **parameter sharing** introduces a degree of **translational invariance** to the learning algorithm.  Because of the stride, we also retain information in the computed features about where in a particular image a feature is found.   We learn a set of important features that might be present in many types of digits, then the appearance and location in a particular digit helps the network classify that digit.\n",
    "\n",
    "### Pooling\n",
    "\n",
    "We have seen that many of the handwritten digits do contain many features in common, but they tend to be slightly displaced from digit to digit. As an example, consider these 4s:"
   ]
  },
  {
   "cell_type": "code",
   "execution_count": 63,
   "metadata": {},
   "outputs": [
    {
     "data": {
      "image/png": "[encoded data removed]",
      "text/plain": [
       "<matplotlib.figure.Figure at 0x7f7a3f7975d0>"
      ]
     },
     "metadata": {},
     "output_type": "display_data"
    }
   ],
   "source": [
    "plt.figure(1)\n",
    "plt.imshow(pixel_mat(9), cmap=plt.cm.gray, origin='upper', interpolation='nearest')\n",
    "plt.imshow(pixel_mat(59943)-1, cmap=plt.cm.Blues, origin='upper', interpolation='nearest', alpha=0.5)\n",
    "   \n",
    "plt.show()"
   ]
  },
  {
   "cell_type": "markdown",
   "metadata": {},
   "source": [
    "In addition to convolution with a stride, another way of introducing more translational invariance to the model is to use **pooling**.  A pooling layer replaces the inputs of nearby points with an output corresponding to an aggregation of the nearby inputs.  In this notebook, we'll be using **max pooling**, which replaces the inputs with the maximum input found in a rectangular neighborhood.  A cartoon version might look like:\n",
    "\n",
    "![2x2 max pooling](maxpool.png)\n",
    "\n",
    "Pooling tends to make a model focus on the most prominent features, regardless of their precise location.\n",
    "\n",
    "We have only briefly touched on the explanation and utility of convolution and pooling. The interested reader is encouraged to learn more details at, e.g., https://www.deeplearningbook.org\n",
    "\n",
    "\n",
    "Let us use TensorFlow to put a network together that uses convolutional, pooling and conventional feedforward layers. This will be our first example of a **deep network**."
   ]
  },
  {
   "cell_type": "code",
   "execution_count": 64,
   "metadata": {
    "collapsed": true
   },
   "outputs": [],
   "source": [
    "tf.reset_default_graph()\n",
    "sess = tf.InteractiveSession()\n",
    "\n",
    "# set random seed\n",
    "tf.set_random_seed(464)"
   ]
  },
  {
   "cell_type": "markdown",
   "metadata": {},
   "source": [
    "The network will have the same input and output layers as before."
   ]
  },
  {
   "cell_type": "code",
   "execution_count": 65,
   "metadata": {
    "collapsed": true
   },
   "outputs": [],
   "source": [
    "n_feat = 784\n",
    "x = tf.placeholder(tf.float32, shape=[None, n_feat])\n",
    "n_class = 10\n",
    "y_true = tf.placeholder(tf.int32, shape=[None, n_class])"
   ]
  },
  {
   "cell_type": "markdown",
   "metadata": {},
   "source": [
    "Our first layer will be 2d convolutional from the TF op tf.nn.conv2d.  Instead of taking a normal design matrix, this op takes an input which is a tensor of shape [batch, in_height, in_width, in_channels], where: \n",
    "\n",
    "batch is the number of observations in the data. <BR>\n",
    "(in_height, in_width) are the pixel dimensions of the input images.  In our case these are both = 28.  <BR>\n",
    "in_channels is the number of color channels in the input.  Since our images are greyscale, this is just = 1. <BR>\n",
    "\n",
    "Therefore, to apply the first convolutional layer, we need to reshape our input as follows:"
   ]
  },
  {
   "cell_type": "code",
   "execution_count": 66,
   "metadata": {
    "collapsed": true
   },
   "outputs": [],
   "source": [
    "x_image = tf.reshape(x, [-1,28,28,1])"
   ]
  },
  {
   "cell_type": "markdown",
   "metadata": {},
   "source": [
    "The layer also applies a filter/kernel of shape [filter_height, filter_width, in_channels, out_channels], where:\n",
    "\n",
    "(filter_height, filter_width) are the pixel dimensions of the window. <BR>\n",
    "in_channels is again the # of color channels in the input.  <BR>\n",
    "out_channels is the number of features for the layer to output. <BR>\n",
    "\n",
    "The layer samples patches of the image to form: \n",
    "\n",
    "a tensor X of shape [batch, out_height, out_width, filter_height $*$ filter_width $*$ in_channels]. <BR> \n",
    "flattens the filter into a tensor W of shape [filter_height $*$ filter_width $*$ in_channels, output_channels].<BR> \n",
    "computes the matrix product  X.W, which is a tensor of shape [batch, out_height, out_width, output_channels].\n",
    "\n",
    "We specify the filter by defining a weight tensor of the appropriate shape.  For a 5x5 window, the weights will have shape [5, 5, 1, n_features_out], where n_features_out is the number of features we want the CNN layer to compute. We will compute 4 features in this first layer. \n",
    "\n",
    "We also have to decide the stride for the layer,  which is the amount we shift the window between samplings. We specify the stride using a vector containing the information [batch, horizontal_stride, vertical_stride, in_channels]. Stride is constrained to sample one batch input and one input channel at a time, so the stride vector must be given in the form [1, horizontal_stride, vertical_stride, 1]. If we just shift the window by one pixel in either direction for samplings, the stride tensor should be [1, 1, 1, 1].\n",
    "\n",
    "If we were to just sample 5x5  windows on a 28x28 pixel image, the output would be a 24x24 image. Further CNN and pooling layers would shrink this down even further to the point where we can't apply CNN anymore.  The solution to this is to pad the image with blank pixels in the output to, in our case, keep the output as a 28x28 image, no matter what other transformation we apply to it.  The layers take an argument to specify the type of padding, if any, that we want to apply.\n",
    "\n",
    "Finally we apply the rectified linear unit as an activation function for this layer.\n",
    "\n",
    "Putting all of this together, the layer we want is specified by:"
   ]
  },
  {
   "cell_type": "code",
   "execution_count": 67,
   "metadata": {
    "collapsed": true
   },
   "outputs": [],
   "source": [
    "n_convfeat1 = 4\n",
    "\n",
    "W_conv1 = weight_variable([5, 5, 1, n_convfeat1])\n",
    "b_conv1 = bias_variable([n_convfeat1])\n",
    "\n",
    "CNN1 = tf.nn.conv2d(x_image, W_conv1, strides=[1, 1, 1, 1], padding='SAME')\n",
    "h_conv1 = tf.nn.relu(tf.add(CNN1, b_conv1))"
   ]
  },
  {
   "cell_type": "code",
   "execution_count": 68,
   "metadata": {},
   "outputs": [
    {
     "data": {
      "text/plain": [
       "<tf.Tensor 'Relu:0' shape=(?, 28, 28, 4) dtype=float32>"
      ]
     },
     "execution_count": 68,
     "metadata": {},
     "output_type": "execute_result"
    }
   ],
   "source": [
    "h_conv1"
   ]
  },
  {
   "cell_type": "markdown",
   "metadata": {},
   "source": [
    "As promised, the output of this layer is a 28x28 \"image\" with 32 features per pixel. \n",
    "\n",
    "The next layer will be a pooling layer.  We will follow the tutorial and use max pooling via the op tf.nn.max_pool. Max pooling reports the maximum output for a given feature in a specified area, which this op expects to be a rectangle.   More specifically, the input has shape\n",
    "[batch, height, width, channels] and the window is also specified according to these dimensions. \n",
    "\n",
    "We want to max pool over 2x2 windows, so we must specify the shape list [1, 2, 2, 1].   This samples once per input image and feature, but performs max pooling over the 2x2 geometric window.   Furthermore, we don't want our windows to overlap (that would not introduce enough translational invariance), so to shift by 2 pixels we specify the stride [1, 2, 2, 1].\n",
    "\n",
    "Padding with the pooling op works differently from padding with the CNN ops.  Here we add padding if BEFORE the pooling transformation if it is necessary to carry out the specified pooling operation.  For instance, if we wanted to do 2x2 pooling with a stride of 2 on a 3x3 image, we would need to pad the image to 4x4.  Our output would be 2x2.\n",
    "\n",
    "We specify this pooling layer via:"
   ]
  },
  {
   "cell_type": "code",
   "execution_count": 69,
   "metadata": {
    "collapsed": true
   },
   "outputs": [],
   "source": [
    "h_pool1 = tf.nn.max_pool(h_conv1, ksize=[1, 2, 2, 1], strides=[1, 2, 2, 1], padding='SAME')"
   ]
  },
  {
   "cell_type": "code",
   "execution_count": 70,
   "metadata": {},
   "outputs": [
    {
     "data": {
      "text/plain": [
       "<tf.Tensor 'MaxPool:0' shape=(?, 14, 14, 4) dtype=float32>"
      ]
     },
     "execution_count": 70,
     "metadata": {},
     "output_type": "execute_result"
    }
   ],
   "source": [
    "h_pool1"
   ]
  },
  {
   "cell_type": "markdown",
   "metadata": {},
   "source": [
    "This is a 14x14 image with the same 4 features outputted by the CNN.  \n",
    "\n",
    "Again following the tutuorial, we wish to introduce additional CNN and pooling layers.  We will again choose the CNN to be 5x5 with unit stride and apply another instance of 2x2 max pooling with stride 2.  The output will be a 7x7 image. Note that the output of the first pooling layer had $14*14*4 = 784$ features per image. This is precisely equal to the number of input features.  In order to retain this information after the 2nd pooling layer, we should compute $784/(7*7) = 16$ features in the 2nd convolutional layer."
   ]
  },
  {
   "cell_type": "code",
   "execution_count": 71,
   "metadata": {},
   "outputs": [
    {
     "data": {
      "text/plain": [
       "<tf.Tensor 'MaxPool_1:0' shape=(?, 7, 7, 16) dtype=float32>"
      ]
     },
     "execution_count": 71,
     "metadata": {},
     "output_type": "execute_result"
    }
   ],
   "source": [
    "n_convfeat2 = 16\n",
    "\n",
    "W_conv2 = weight_variable([5, 5, n_convfeat1, n_convfeat2])\n",
    "b_conv2 = bias_variable([n_convfeat2])\n",
    "\n",
    "CNN2 = tf.nn.conv2d(h_pool1, W_conv2, strides=[1, 1, 1, 1], padding='SAME')\n",
    "h_conv2 = tf.nn.relu(tf.add(CNN2, b_conv2))\n",
    "\n",
    "h_pool2 = tf.nn.max_pool(h_conv2, ksize=[1, 2, 2, 1], strides=[1, 2, 2, 1], padding='SAME')\n",
    "h_pool2"
   ]
  },
  {
   "cell_type": "markdown",
   "metadata": {},
   "source": [
    "Our fully connected single layer NN was working pretty well so we will include one as the next layer. We have 784 total features coming in, so we might expect a layer of a similar width will give the best results.  We'll choose a width of 512 which will save some training time.  We will flatten the 7x7 image into a pixel vector to make the computations more convenient."
   ]
  },
  {
   "cell_type": "code",
   "execution_count": 72,
   "metadata": {
    "collapsed": true
   },
   "outputs": [],
   "source": [
    "width1 = 512\n",
    "\n",
    "W_1 = weight_variable([7 * 7 * n_convfeat2, width1])\n",
    "b_1 = bias_variable([width1])\n",
    "\n",
    "h_pool2_flat = tf.reshape(h_pool2, [-1, 7*7*n_convfeat2])\n",
    "\n",
    "h_1 = tf.nn.relu(tf.add(tf.matmul(h_pool2_flat, W_1), b_1))"
   ]
  },
  {
   "cell_type": "markdown",
   "metadata": {},
   "source": [
    "As before,  we'll introduce a dropout layer."
   ]
  },
  {
   "cell_type": "code",
   "execution_count": 73,
   "metadata": {
    "collapsed": true
   },
   "outputs": [],
   "source": [
    "keep_prob = tf.placeholder(tf.float32)\n",
    "h_1_drop = tf.nn.dropout(h_1, keep_prob)"
   ]
  },
  {
   "cell_type": "markdown",
   "metadata": {},
   "source": [
    "And output layer."
   ]
  },
  {
   "cell_type": "code",
   "execution_count": 74,
   "metadata": {
    "collapsed": true
   },
   "outputs": [],
   "source": [
    "W_out = weight_variable([width1, n_class])\n",
    "b_out = bias_variable([n_class])\n",
    "\n",
    "z_out = tf.add(tf.matmul(h_1_drop, W_out), b_out)"
   ]
  },
  {
   "cell_type": "markdown",
   "metadata": {},
   "source": [
    "The cost, metric and optimizer choices will also be the same."
   ]
  },
  {
   "cell_type": "code",
   "execution_count": 75,
   "metadata": {
    "collapsed": true
   },
   "outputs": [],
   "source": [
    "cost = tf.reduce_mean(tf.nn.softmax_cross_entropy_with_logits(labels=y_true, logits=z_out))\n",
    "corr = tf.equal(tf.argmax(z_out, 1), tf.argmax(y_true, 1))    \n",
    "accr = tf.reduce_mean(tf.cast(corr, \"float\"))\n",
    "\n",
    "learning_rate = 0.0001\n",
    "optimizer = tf.train.AdamOptimizer(learning_rate).minimize(cost)"
   ]
  },
  {
   "cell_type": "markdown",
   "metadata": {},
   "source": [
    "The convolutional layers turn out to be quite memory intensive.  To allow us to run in around 8 GB of memory, in addition to the minibatch training, we will also need to compute the accuracy metrics in minibatches. "
   ]
  },
  {
   "cell_type": "code",
   "execution_count": 76,
   "metadata": {
    "collapsed": true
   },
   "outputs": [],
   "source": [
    "n_batch = 50.\n",
    "int_batch = int(n_batch)\n",
    "\n",
    "n_samp_train = x_train_scaled.shape[0]\n",
    "n_samp_test = x_test_scaled.shape[0]\n",
    "\n",
    "train_batch = int(n_samp_train / n_batch)\n",
    "test_batch = int(n_samp_test / n_batch)\n",
    "\n",
    "skfold = StratifiedKFold(n_splits=train_batch, shuffle=True, random_state=428)"
   ]
  },
  {
   "cell_type": "code",
   "execution_count": 77,
   "metadata": {
    "scrolled": false
   },
   "outputs": [
    {
     "name": "stdout",
     "output_type": "stream",
     "text": [
      "('Epoch: 0000', 'cost = 0.7133', 'time = 31.69')\n",
      "TRAIN ACCURACY: 0.9422\n",
      "TEST ACCURACY: 0.9424\n",
      "('Epoch: 0010', 'cost = 0.0571', 'time = 357.50')\n",
      "TRAIN ACCURACY: 0.9893\n",
      "TEST ACCURACY: 0.9841\n",
      "('Epoch: 0020', 'cost = 0.0320', 'time = 682.38')\n",
      "TRAIN ACCURACY: 0.9952\n",
      "TEST ACCURACY: 0.9893\n",
      "('Epoch: 0030', 'cost = 0.0216', 'time = 1006.92')\n",
      "TRAIN ACCURACY: 0.9969\n",
      "TEST ACCURACY: 0.9893\n",
      "('Epoch: 0040', 'cost = 0.0148', 'time = 1331.45')\n",
      "TRAIN ACCURACY: 0.9987\n",
      "TEST ACCURACY: 0.9908\n",
      "('Epoch: 0050', 'cost = 0.0093', 'time = 1660.11')\n",
      "TRAIN ACCURACY: 0.9995\n",
      "TEST ACCURACY: 0.9916\n",
      "('Epoch: 0060', 'cost = 0.0073', 'time = 1985.96')\n",
      "TRAIN ACCURACY: 0.9996\n",
      "TEST ACCURACY: 0.9915\n",
      "('Epoch: 0070', 'cost = 0.0070', 'time = 2313.47')\n",
      "TRAIN ACCURACY: 0.9998\n",
      "TEST ACCURACY: 0.9919\n",
      "('Epoch: 0080', 'cost = 0.0059', 'time = 2645.98')\n",
      "TRAIN ACCURACY: 0.9998\n",
      "TEST ACCURACY: 0.9920\n",
      "('Epoch: 0090', 'cost = 0.0044', 'time = 2981.23')\n",
      "TRAIN ACCURACY: 0.9999\n",
      "TEST ACCURACY: 0.9924\n",
      "('Epoch: 0100', 'cost = 0.0039', 'time = 3311.54')\n",
      "TRAIN ACCURACY: 1.0000\n",
      "TEST ACCURACY: 0.9927\n",
      "Optimization finished in 3327.56 seconds!\n",
      "For n_convfeat1 = 4, n_convfeat2 = 16, width1 = 512, n_epoch = 101,\n",
      "TRAIN ACCURACY: 1.0000\n",
      "TEST ACCURACY: 0.9927\n"
     ]
    }
   ],
   "source": [
    "# Number of epochs to train over. Should be large enough for convergence.  If it is too large, at worst the model\n",
    "# might overfit, at best we waste computing time.\n",
    "n_epoch = 100 + 1\n",
    "\n",
    "# In order to monitor training progress, as well as tune n_epoch, we will computing appropriate \n",
    "# metrics at checkpoints\n",
    "display_step = 10\n",
    "\n",
    "# initialize variables\n",
    "sess.run(tf.global_variables_initializer())\n",
    "\n",
    "start = time()\n",
    "for epoch in range(n_epoch):\n",
    "    # init average cost \n",
    "    avg_cost = 0.\n",
    "    \n",
    "    # enumerate(skfold.split(x,y)) returns a triple of the form (fold, train indices, test indices)\n",
    "    # minibatch indices are the test indices, labeled batch_idx here.\n",
    "    # the training indices are not used, we just assign them to dummy_idx\n",
    "    # fold is the number of the fold in range(total_batch)\n",
    "    # One loop over the folds is a single epoch.\n",
    "    # Note also that we use the ordinal class labels in y_training because StratifiedKFold wouldn't work with the\n",
    "    # one-hot encoding\n",
    "    for fold, (dummy_idx, batch_idx) in enumerate(skfold.split(x_train_scaled, y_train)):\n",
    "        # extract design matrix and response array for minibatch\n",
    "        # here we can use the one-hot response array\n",
    "        x_batch, y_batch = x_train_scaled[batch_idx], y_train_oh[batch_idx]\n",
    "        # run backprop and feedforward\n",
    "        # we assign the cost per example to c\n",
    "        # Note the feed_dict contains the minibatch data\n",
    "        _, c = sess.run([optimizer, cost], feed_dict={x: x_batch, y_true: y_batch, keep_prob: 0.5})\n",
    "        # Compute average cost\n",
    "        avg_cost += c / train_batch\n",
    "        \n",
    "    # Display logs per epoch step\n",
    "    if epoch % display_step == 0:\n",
    "        # return epoch and average cost\n",
    "        print(\"Epoch: %.4d\" % epoch, \"cost = %.4f\" % avg_cost, \"time = %.2f\" % (time() - start))\n",
    "        # compute accuracy on full training set, in batches\n",
    "        train_acc = 0\n",
    "        for i in range(0, n_samp_train, int_batch):\n",
    "            x_batch, y_batch = x_train_scaled[i:i + int_batch], y_train_oh[i:i + int_batch]\n",
    "            acc = sess.run(accr,\n",
    "                            feed_dict={x: x_batch,\n",
    "                                y_true: y_batch, keep_prob: 1.})\n",
    "            train_acc += acc / train_batch\n",
    "        print (\"TRAIN ACCURACY: %.4f\" % (train_acc))\n",
    "        # compute accuracy on full validation set, in batches\n",
    "        test_acc = 0\n",
    "        for i in range(0, n_samp_test, int_batch):\n",
    "            x_batch, y_batch = x_test_scaled[i:i + int_batch], y_test_oh[i:i + int_batch]\n",
    "            acc = sess.run(accr,\n",
    "                            feed_dict={x: x_batch,\n",
    "                                y_true: y_batch, keep_prob: 1.})\n",
    "            test_acc += acc / test_batch\n",
    "        print (\"TEST ACCURACY: %.4f\" % (test_acc))\n",
    "\n",
    "# After the full training cycle, return more logs\n",
    "# compute accuracy on full training set, in batches\n",
    "train_acc = 0\n",
    "for i in range(0, n_samp_train, int_batch):\n",
    "    x_batch, y_batch = x_train_scaled[i:i + int_batch], y_train_oh[i:i + int_batch]\n",
    "    acc = sess.run(accr,\n",
    "                    feed_dict={x: x_batch,\n",
    "                        y_true: y_batch, keep_prob: 1.})\n",
    "    train_acc += acc / train_batch\n",
    "# compute accuracy on full validation set, in batches\n",
    "test_acc = 0\n",
    "for i in range(0, n_samp_test, int_batch):\n",
    "    x_batch, y_batch = x_test_scaled[i:i + int_batch], y_test_oh[i:i + int_batch]\n",
    "    acc = sess.run(accr,\n",
    "                    feed_dict={x: x_batch,\n",
    "                        y_true: y_batch, keep_prob: 1.})\n",
    "    test_acc += acc / test_batch\n",
    "    \n",
    "print(\"Optimization finished in %.2f seconds!\" % (time() - start)) \n",
    "print(\"For n_convfeat1 = %d, n_convfeat2 = %d, width1 = %d, n_epoch = %d,\" \\\n",
    "      % (n_convfeat1, n_convfeat2, width1, n_epoch))\n",
    "print (\"TRAIN ACCURACY: %.4f\" % (train_acc))\n",
    "print (\"TEST ACCURACY: %.4f\" % (test_acc))   "
   ]
  },
  {
   "cell_type": "markdown",
   "metadata": {},
   "source": [
    "Each epoch of deep and backprop training is taking around 30s, which is 2x that of the two layer model and 4x that of the single layer model. Total training time is about one hour. At 99.3% accuracy, this is our best model so far.  \n",
    "\n",
    "Finally, we'll note that a model with far more features:\n",
    "\n",
    "```\n",
    "Optimization finished in 37388.73 seconds!\n",
    "For n_convfeat1 = 32, n_convfeat2 = 128, width1 = 3072, n_epoch = 150,\n",
    "TRAIN ACCURACY: 1.000\n",
    "TEST ACCURACY: 0.992\n",
    "```\n",
    "\n",
    "took around 10 hours to train and had worse performance.  It is possible that this was due to overfitting."
   ]
  },
  {
   "cell_type": "code",
   "execution_count": 78,
   "metadata": {
    "collapsed": true
   },
   "outputs": [],
   "source": [
    "class_prob_cnn = sess.run(tf.nn.softmax(z_out), \n",
    "                           feed_dict={x: x_test_scaled, y_true: y_test_oh, keep_prob: 1.})"
   ]
  },
  {
   "cell_type": "code",
   "execution_count": 79,
   "metadata": {
    "collapsed": true
   },
   "outputs": [],
   "source": [
    "sess.close()"
   ]
  },
  {
   "cell_type": "markdown",
   "metadata": {},
   "source": [
    "### Analysis of Errors"
   ]
  },
  {
   "cell_type": "markdown",
   "metadata": {},
   "source": [
    "It might be useful to take a closer look at the examples in the validation set where our CNN got the wrong answer. \n",
    "\n",
    "First, lets check a random sample of the class probabilites:"
   ]
  },
  {
   "cell_type": "code",
   "execution_count": 80,
   "metadata": {},
   "outputs": [
    {
     "data": {
      "text/plain": [
       "array([[  7.48842559e-16,   1.63955006e-17,   6.72424898e-14,\n",
       "          1.38919709e-11,   2.20391677e-10,   4.13455496e-16,\n",
       "          2.69978853e-19,   7.13659576e-09,   1.69144280e-14,\n",
       "          1.00000000e+00],\n",
       "       [  8.49238211e-19,   1.04071141e-17,   2.22426718e-14,\n",
       "          7.96275610e-16,   5.32102116e-15,   1.40850775e-12,\n",
       "          5.95575467e-17,   1.16401179e-19,   1.00000000e+00,\n",
       "          1.28473524e-16],\n",
       "       [  4.68643028e-13,   2.63389199e-10,   2.86810167e-14,\n",
       "          2.35569073e-12,   1.00000000e+00,   1.30828573e-17,\n",
       "          1.47670765e-10,   9.82025604e-14,   2.42864978e-10,\n",
       "          2.34898101e-10],\n",
       "       [  8.42617195e-15,   4.86790512e-14,   9.33835093e-11,\n",
       "          3.10124945e-13,   7.76339220e-05,   1.12398307e-12,\n",
       "          1.24122334e-15,   4.72368915e-11,   3.80081763e-13,\n",
       "          9.99922395e-01],\n",
       "       [  3.60259573e-22,   1.15307193e-22,   1.33965730e-26,\n",
       "          2.10008997e-25,   1.62144267e-19,   1.33688520e-26,\n",
       "          3.61453584e-34,   1.00000000e+00,   1.40048724e-27,\n",
       "          3.03732218e-13]], dtype=float32)"
      ]
     },
     "execution_count": 80,
     "metadata": {},
     "output_type": "execute_result"
    }
   ],
   "source": [
    "idxs = np.random.randint(0, len(class_prob_cnn), 5)\n",
    "class_prob_cnn[idxs]"
   ]
  },
  {
   "cell_type": "markdown",
   "metadata": {},
   "source": [
    "We can use argmax to compute the most probable prediction for each example:"
   ]
  },
  {
   "cell_type": "code",
   "execution_count": 81,
   "metadata": {},
   "outputs": [
    {
     "data": {
      "text/plain": [
       "array([7, 2, 1, ..., 4, 5, 6])"
      ]
     },
     "execution_count": 81,
     "metadata": {},
     "output_type": "execute_result"
    }
   ],
   "source": [
    "y_pred_cnn = np.argmax(class_prob_cnn, 1)\n",
    "y_pred_cnn"
   ]
  },
  {
   "cell_type": "markdown",
   "metadata": {},
   "source": [
    "These are to be compared with the list of true labels from y_validation, which we can reobtain by also applying argmax:"
   ]
  },
  {
   "cell_type": "code",
   "execution_count": 82,
   "metadata": {},
   "outputs": [
    {
     "data": {
      "text/plain": [
       "array([7, 2, 1, ..., 4, 5, 6])"
      ]
     },
     "execution_count": 82,
     "metadata": {},
     "output_type": "execute_result"
    }
   ],
   "source": [
    "y_act = np.argmax(y_test_oh, 1)\n",
    "y_act"
   ]
  },
  {
   "cell_type": "markdown",
   "metadata": {},
   "source": [
    "Another useful numpy function is argsort, which returns the indices that would sort an array, from smallest element to largest. In our case, it is more convenient to sort from largest to smallest, in which case we can specify np.argsort(-vec). In the case of our class probability vectors, the first entry in argsort(-vec) will be the argmax, while the next will be the 2nd most probable class, then the 3rd and so on.  It can be useful to know if the true label was given a relatively high probability if the most probable model class was incorrect. For example, we can consider"
   ]
  },
  {
   "cell_type": "code",
   "execution_count": 83,
   "metadata": {},
   "outputs": [
    {
     "name": "stdout",
     "output_type": "stream",
     "text": [
      "[[  7.48842559e-16   1.63955006e-17   6.72424898e-14   1.38919709e-11\n",
      "    2.20391677e-10   4.13455496e-16   2.69978853e-19   7.13659576e-09\n",
      "    1.69144280e-14   1.00000000e+00]\n",
      " [  8.49238211e-19   1.04071141e-17   2.22426718e-14   7.96275610e-16\n",
      "    5.32102116e-15   1.40850775e-12   5.95575467e-17   1.16401179e-19\n",
      "    1.00000000e+00   1.28473524e-16]\n",
      " [  4.68643028e-13   2.63389199e-10   2.86810167e-14   2.35569073e-12\n",
      "    1.00000000e+00   1.30828573e-17   1.47670765e-10   9.82025604e-14\n",
      "    2.42864978e-10   2.34898101e-10]\n",
      " [  8.42617195e-15   4.86790512e-14   9.33835093e-11   3.10124945e-13\n",
      "    7.76339220e-05   1.12398307e-12   1.24122334e-15   4.72368915e-11\n",
      "    3.80081763e-13   9.99922395e-01]\n",
      " [  3.60259573e-22   1.15307193e-22   1.33965730e-26   2.10008997e-25\n",
      "    1.62144267e-19   1.33688520e-26   3.61453584e-34   1.00000000e+00\n",
      "    1.40048724e-27   3.03732218e-13]]\n",
      "[[9 7 4 3 2 8 0 5 1 6]\n",
      " [8 5 2 4 3 9 6 1 0 7]\n",
      " [4 1 8 9 6 3 0 7 2 5]\n",
      " [9 4 2 7 5 8 3 1 0 6]\n",
      " [7 9 4 0 1 3 2 5 8 6]]\n",
      "[9 8 4 9 7]\n"
     ]
    }
   ],
   "source": [
    "print(class_prob_cnn[idxs])\n",
    "print(np.argsort(-class_prob_cnn[idxs]))\n",
    "print(np.argmax(class_prob_cnn[idxs], 1))"
   ]
  },
  {
   "cell_type": "markdown",
   "metadata": {},
   "source": [
    "It is also interesting to look at the confusion matrix:"
   ]
  },
  {
   "cell_type": "code",
   "execution_count": 84,
   "metadata": {
    "collapsed": true
   },
   "outputs": [],
   "source": [
    "from sklearn.metrics import confusion_matrix\n",
    "\n",
    "import itertools\n",
    "\n",
    "def plot_confusion_matrix(cm, classes,\n",
    "                          normalize=False,\n",
    "                          title='Confusion matrix',\n",
    "                          cmap=plt.cm.Blues):\n",
    "    plt.imshow(cm, interpolation='nearest', cmap=cmap)\n",
    "    plt.title(title)\n",
    "    #plt.colorbar()\n",
    "    tick_marks = np.arange(len(classes))\n",
    "    plt.xticks(tick_marks, classes, rotation=45)\n",
    "    plt.yticks(tick_marks, classes)\n",
    "\n",
    "    thresh = cm.max() / 2.\n",
    "    for i, j in itertools.product(range(cm.shape[0]), range(cm.shape[1])):\n",
    "        plt.text(j, i, cm[i, j],\n",
    "                 horizontalalignment=\"center\",\n",
    "                 color=\"white\" if cm[i, j] > thresh else \"black\")\n",
    "\n",
    "    plt.tight_layout()\n",
    "    plt.ylabel('True label')\n",
    "    plt.xlabel('Predicted label')"
   ]
  },
  {
   "cell_type": "code",
   "execution_count": 85,
   "metadata": {},
   "outputs": [
    {
     "data": {
      "image/png": "[encoded data removed]",
      "text/plain": [
       "<matplotlib.figure.Figure at 0x7f79f5c8ef50>"
      ]
     },
     "metadata": {},
     "output_type": "display_data"
    }
   ],
   "source": [
    "conf_mat = confusion_matrix(y_act, y_pred_cnn)\n",
    "\n",
    "plt.figure(figsize=(6,6))\n",
    "plot_confusion_matrix(conf_mat, classes=range(10), title='CNN confusion matrix')\n",
    "plt.show()"
   ]
  },
  {
   "cell_type": "markdown",
   "metadata": {},
   "source": [
    "The model does well, as expected from the accuracy score.  Some observations, though the statistics of errors is based on small samples:\n",
    "\n",
    "* 5s are misclassified as 3s.\n",
    "* 8s are misclassified as 9s.  \n",
    "* 9s are misclassified as 1s, 4s, 5s, and 7s.\n",
    "\n",
    "We will look at all examples where the model was confused and then look at a couple in detail.\n",
    "\n",
    "In order to compare with the features in the corresponding design matrix, x_validation, we can use the numpy where function to obtain the indices for the events where the prediction was different from the true value:"
   ]
  },
  {
   "cell_type": "code",
   "execution_count": 86,
   "metadata": {
    "collapsed": true
   },
   "outputs": [],
   "source": [
    "error_idx = np.where(y_pred_cnn != y_act)[0]"
   ]
  },
  {
   "cell_type": "code",
   "execution_count": 87,
   "metadata": {},
   "outputs": [
    {
     "data": {
      "text/plain": [
       "array([ 340,  445,  582,  659,  684,  924,  947, 1014, 1112, 1128, 1226,\n",
       "       1232, 1247, 1260, 1319, 1414, 1530, 1621, 1709, 1748, 1901, 2035,\n",
       "       2109, 2129, 2130, 2135, 2293, 2369, 2387, 2654, 2742, 2896, 2921,\n",
       "       2939, 2953, 2995, 3225, 3422, 3503, 3520, 3558, 3727, 3762, 3808,\n",
       "       3985, 4078, 4176, 4224, 4284, 4497, 4500, 4639, 4740, 4823, 5937,\n",
       "       5955, 5973, 5997, 6555, 6576, 6592, 6597, 6625, 6651, 6783, 8094,\n",
       "       8325, 8527, 9015, 9587, 9642, 9692, 9729])"
      ]
     },
     "execution_count": 87,
     "metadata": {},
     "output_type": "execute_result"
    }
   ],
   "source": [
    "error_idx"
   ]
  },
  {
   "cell_type": "markdown",
   "metadata": {},
   "source": [
    "We will plot all errors, ordered by most probable class label:"
   ]
  },
  {
   "cell_type": "code",
   "execution_count": 88,
   "metadata": {
    "collapsed": true
   },
   "outputs": [],
   "source": [
    "def plot_digits_bypred(digit):\n",
    "    # generate a 4xn grid of subplots, 4 is the number of columns that will reasonably display in typical\n",
    "    # overhead projector resolution at the size we're making the images \n",
    "    pred_dig = digit\n",
    "    pred_dig_idx = error_idx[np.where(y_pred_cnn[error_idx] == pred_dig)[0].tolist()]\n",
    "    list_len = len(pred_dig_idx)\n",
    "    ncols = 4\n",
    "    nrows =  (list_len / 4) + (1 * (list_len % 4 != 0)) # add an extra row if list_len !div by 4\n",
    "    fig, axs = plt.subplots(nrows=nrows, ncols=ncols, figsize=(10,10))\n",
    "\n",
    "\n",
    "    # axs is a 2d array so we flatten it into a vector in order to loop over it\n",
    "    for i, ax in enumerate(axs.reshape(-1)):\n",
    "        if i < list_len:   # don't generate ax titles for unused subplots\n",
    "            # cycle through the elements of rand_idx\n",
    "            idx = pred_dig_idx[i]\n",
    "            # this is the true class label\n",
    "            true_y = y_act[idx]\n",
    "            # this is the vector of model class probabilities\n",
    "            prob_y = class_prob_cnn[idx]\n",
    "            # this is the most probable class\n",
    "            top_pred = np.argmax(prob_y)\n",
    "            # this is probability of the top class\n",
    "            prob_top = prob_y[top_pred]\n",
    "            # argsort the prob. vector\n",
    "            arg_sort = np.argsort(-prob_y)\n",
    "            # this is the 2nd choice class \n",
    "            sec_choice = arg_sort[1]\n",
    "            # this is the probability of the 2nd choice class\n",
    "            prob_sec = prob_y[sec_choice]\n",
    "            ax.set_title(\"True: %d \\n Pred: %d (%.2f), %d (%.2f)\" % \n",
    "                         (true_y, top_pred, prob_top, sec_choice, prob_sec))\n",
    "            ax.imshow(x_test[idx].reshape(28,28), cmap=plt.cm.gray, origin='upper', interpolation='nearest')\n",
    "            ax.axis('off')\n",
    "        if i >= list_len:\n",
    "            fig.delaxes(ax)\n",
    "      \n",
    "    plt.tight_layout()    \n",
    "    plt.show()"
   ]
  },
  {
   "cell_type": "code",
   "execution_count": 89,
   "metadata": {},
   "outputs": [
    {
     "data": {
      "image/png": "[encoded data removed]",
      "text/plain": [
       "<matplotlib.figure.Figure at 0x7f7a204f1310>"
      ]
     },
     "metadata": {},
     "output_type": "display_data"
    }
   ],
   "source": [
    "plot_digits_bypred(0)"
   ]
  },
  {
   "cell_type": "code",
   "execution_count": 90,
   "metadata": {},
   "outputs": [
    {
     "data": {
      "image/png": "[encoded data removed]",
      "text/plain": [
       "<matplotlib.figure.Figure at 0x7f79f6554410>"
      ]
     },
     "metadata": {},
     "output_type": "display_data"
    }
   ],
   "source": [
    "plot_digits_bypred(1)"
   ]
  },
  {
   "cell_type": "code",
   "execution_count": 91,
   "metadata": {},
   "outputs": [
    {
     "data": {
      "image/png": "[encoded data removed]",
      "text/plain": [
       "<matplotlib.figure.Figure at 0x7f79f5a7f990>"
      ]
     },
     "metadata": {},
     "output_type": "display_data"
    }
   ],
   "source": [
    "plot_digits_bypred(2)"
   ]
  },
  {
   "cell_type": "code",
   "execution_count": 92,
   "metadata": {},
   "outputs": [
    {
     "data": {
      "image/png": "[encoded data removed]",
      "text/plain": [
       "<matplotlib.figure.Figure at 0x7f79f65cc4d0>"
      ]
     },
     "metadata": {},
     "output_type": "display_data"
    }
   ],
   "source": [
    "plot_digits_bypred(3)"
   ]
  },
  {
   "cell_type": "code",
   "execution_count": 93,
   "metadata": {},
   "outputs": [
    {
     "data": {
      "image/png": "[encoded data removed]",
      "text/plain": [
       "<matplotlib.figure.Figure at 0x7f7a3f856150>"
      ]
     },
     "metadata": {},
     "output_type": "display_data"
    }
   ],
   "source": [
    "plot_digits_bypred(4)"
   ]
  },
  {
   "cell_type": "code",
   "execution_count": 94,
   "metadata": {},
   "outputs": [
    {
     "data": {
      "image/png": "[encoded data removed]",
      "text/plain": [
       "<matplotlib.figure.Figure at 0x7f79f5f2c250>"
      ]
     },
     "metadata": {},
     "output_type": "display_data"
    }
   ],
   "source": [
    "plot_digits_bypred(5)"
   ]
  },
  {
   "cell_type": "code",
   "execution_count": 95,
   "metadata": {},
   "outputs": [
    {
     "data": {
      "image/png": "[encoded data removed]",
      "text/plain": [
       "<matplotlib.figure.Figure at 0x7f7a100728d0>"
      ]
     },
     "metadata": {},
     "output_type": "display_data"
    }
   ],
   "source": [
    "plot_digits_bypred(6)"
   ]
  },
  {
   "cell_type": "code",
   "execution_count": 96,
   "metadata": {},
   "outputs": [
    {
     "data": {
      "image/png": "[encoded data removed]",
      "text/plain": [
       "<matplotlib.figure.Figure at 0x7f79f5f91250>"
      ]
     },
     "metadata": {},
     "output_type": "display_data"
    }
   ],
   "source": [
    "plot_digits_bypred(7)"
   ]
  },
  {
   "cell_type": "code",
   "execution_count": 97,
   "metadata": {},
   "outputs": [
    {
     "data": {
      "image/png": "[encoded data removed]",
      "text/plain": [
       "<matplotlib.figure.Figure at 0x7f79f56d7510>"
      ]
     },
     "metadata": {},
     "output_type": "display_data"
    }
   ],
   "source": [
    "plot_digits_bypred(8)"
   ]
  },
  {
   "cell_type": "code",
   "execution_count": 98,
   "metadata": {},
   "outputs": [
    {
     "data": {
      "image/png": "[encoded data removed]",
      "text/plain": [
       "<matplotlib.figure.Figure at 0x7f79f6251e10>"
      ]
     },
     "metadata": {},
     "output_type": "display_data"
    }
   ],
   "source": [
    "plot_digits_bypred(9)"
   ]
  },
  {
   "cell_type": "markdown",
   "metadata": {},
   "source": [
    "It is likely that several of these would be challenging for a human to identify with 100% accuracy, while others are quite obvious.   In some cases, it is easy to see what features that the neural network probably used to decide that the image more closely resembled a different digit than the true one.\n",
    "\n",
    "For instance, for the following digit image, the CNN predicted \"3\" vs the true value of 5."
   ]
  },
  {
   "cell_type": "code",
   "execution_count": 99,
   "metadata": {},
   "outputs": [
    {
     "data": {
      "image/png": "[encoded data removed]",
      "text/plain": [
       "<matplotlib.figure.Figure at 0x7f7a10067bd0>"
      ]
     },
     "metadata": {},
     "output_type": "display_data"
    }
   ],
   "source": [
    "idx = 2035\n",
    "# this is the true class label\n",
    "true_y = y_act[idx]\n",
    "# this is the vector of model class probabilities\n",
    "prob_y = class_prob_cnn[idx]\n",
    "# this is the most probable class\n",
    "top_pred = np.argmax(prob_y)\n",
    "# this is probability of the top class\n",
    "prob_top = prob_y[top_pred]\n",
    "# argsort the prob. vector\n",
    "arg_sort = np.argsort(-prob_y)\n",
    "# this is the 2nd choice class \n",
    "sec_choice = arg_sort[1]\n",
    "# this is the probability of the 2nd choice class\n",
    "prob_sec = prob_y[sec_choice]\n",
    "    \n",
    "plt.imshow(x_test[idx].reshape(28,28), cmap=plt.cm.gray, origin='upper', interpolation='nearest') \n",
    "plt.title(\"True: %d \\n Pred: %d (%.2f), %d (%.2f)\" % \n",
    "                 (true_y, top_pred, prob_top, sec_choice, prob_sec))\n",
    "plt.show()"
   ]
  },
  {
   "cell_type": "markdown",
   "metadata": {},
   "source": [
    "In this case, a human would probably tend to guess 5, but without complete certainty.  Because of the slant of the 5 to the right, the lower half of the digit looks quite like an upright 3.  The stroke at the top of the digit has enough of a left tail to resemble a 3.  Also the slant of the digit again makes this tail meet at an angle that reproduces a half loop associated with a 3.  The model's 2nd choice was 5, with a probability of 10% assigned."
   ]
  },
  {
   "cell_type": "markdown",
   "metadata": {},
   "source": [
    "For the converse identification problem, we can look at the following example:"
   ]
  },
  {
   "cell_type": "code",
   "execution_count": 113,
   "metadata": {},
   "outputs": [
    {
     "data": {
      "image/png": "[encoded data removed]",
      "text/plain": [
       "<matplotlib.figure.Figure at 0x7f79f5859410>"
      ]
     },
     "metadata": {},
     "output_type": "display_data"
    }
   ],
   "source": [
    "idx = 1901\n",
    "# this is the true class label\n",
    "true_y = y_act[idx]\n",
    "# this is the vector of model class probabilities\n",
    "prob_y = class_prob_cnn[idx]\n",
    "# this is the most probable class\n",
    "top_pred = np.argmax(prob_y)\n",
    "# this is probability of the top class\n",
    "prob_top = prob_y[top_pred]\n",
    "# argsort the prob. vector\n",
    "arg_sort = np.argsort(-prob_y)\n",
    "# this is the 2nd choice class \n",
    "sec_choice = arg_sort[1]\n",
    "# this is the probability of the 2nd choice class\n",
    "prob_sec = prob_y[sec_choice]\n",
    "    \n",
    "plt.imshow(x_test[idx].reshape(28,28), cmap=plt.cm.gray, origin='upper', interpolation='nearest') \n",
    "plt.title(\"True: %d \\n Pred: %d (%.2f), %d (%.2f)\" % \n",
    "                 (true_y, top_pred, prob_top, sec_choice, prob_sec))\n",
    "plt.show()"
   ]
  },
  {
   "cell_type": "markdown",
   "metadata": {},
   "source": [
    "Here a human might guess 4 fairly often as well.  The loop of the 9 is broken.  The bottom of the loop and the lower stem make a right angle, like most 4s.  "
   ]
  },
  {
   "cell_type": "code",
   "execution_count": 115,
   "metadata": {},
   "outputs": [
    {
     "data": {
      "text/plain": [
       "array([  1.68336550e-13,   7.57498356e-07,   1.28305629e-07,\n",
       "         1.06837582e-07,   9.99730301e+01,   3.90972332e-07,\n",
       "         2.77866252e-06,   3.91607637e-06,   4.85348937e-05,\n",
       "         2.69260723e-02], dtype=float32)"
      ]
     },
     "execution_count": 115,
     "metadata": {},
     "output_type": "execute_result"
    }
   ],
   "source": [
    "100 * class_prob_cnn[idx]"
   ]
  },
  {
   "cell_type": "markdown",
   "metadata": {},
   "source": [
    "The correct choice of 9 was 2nd with a  0.03% probability, which was far behind the first choice."
   ]
  },
  {
   "cell_type": "markdown",
   "metadata": {},
   "source": [
    "## Conclusions"
   ]
  },
  {
   "cell_type": "markdown",
   "metadata": {},
   "source": [
    "In this notebook, we learned how to use TensorFlow to construct machine learning models using very low-level tools.  TF allows us to define models in much more detail than scikit-learn, but at the cost of requiring quite a bit of expertise about how those models work in theory and are constructed in practice.\n",
    "\n",
    "We also learned how to apply neural networks, including the multilevel perceptron and convolutional neural networks to the MNIST digit problem.  We saw that they lead to improvements of over 2% in validation accuracy vs our Random Forest result."
   ]
  }
 ],
 "metadata": {
  "kernelspec": {
   "display_name": "Python 2",
   "language": "python",
   "name": "python2"
  },
  "language_info": {
   "codemirror_mode": {
    "name": "ipython",
    "version": 2
   },
   "file_extension": ".py",
   "mimetype": "text/x-python",
   "name": "python",
   "nbconvert_exporter": "python",
   "pygments_lexer": "ipython2",
   "version": "2.7.13"
  }
 },
 "nbformat": 4,
 "nbformat_minor": 2
}
