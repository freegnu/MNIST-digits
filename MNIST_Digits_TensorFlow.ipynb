{
 "cells": [
  {
   "cell_type": "markdown",
   "metadata": {},
   "source": [
    "# MNIST Digit Classification with TensorFlow"
   ]
  },
  {
   "cell_type": "markdown",
   "metadata": {},
   "source": [
    "Richard Corrado <richcorrado@gmail.com> March 2017"
   ]
  },
  {
   "cell_type": "markdown",
   "metadata": {},
   "source": [
    "An introduction to the MNIST digit database and the classification problem using Random Forests can be found in the notebook MNIST_Digits-overview.ipynb at <https://github.com/richcorrado/MNIST-digits>. A readable html version is at <https://richcorrado.github.io/MNIST_Digits-overview.html>.   Our results there, which we'll consider baseline results for the purposes of this notebook were:\n",
    "<table align=\"left\">\n",
    "<tr><th>Model</th><th>Accuracy</th></tr>\n",
    "<tr><td>Random Forest</td><td>0.964</td></tr>\n",
    "<tr><td>Random Forest (drop zero padding)</td><td>0.983</td></tr>\n",
    "</table>\n",
    "<br><br><br><br><br>\n",
    "\n",
    "In this notebook, we'll be using TensorFlow to apply neural networks to the MNIST digits. In particular, we'll learn:\n",
    "\n",
    "1. How to use scikit-learn to perform a one-hot encoding of ordinal class labels, suitable for \"one vs all\" multiclass classification.\n",
    "\n",
    "2. How to use scikit-learn functions to standardize features, including the case where we want to preserve some sparsity of features.\n",
    "\n",
    "3. What the TensorFlow Computational Graph framework is and what classes are introduced by TensorFlow to implement it.\n",
    "\n",
    "4. How to build a TensorFlow Session by organizing TensorFlow classes to specify the graph, parameters, cost function, optimizer.\n",
    "\n",
    "5. How to run the TensorFlow session to train the model, compute metrics and make predictions.\n",
    "\n",
    "We're going to be using the same datasets (saved as csv in an \"input\" directory) and validation splits, so we'll steal the code from the overview notebook to set everything up. We'll also import the other libraries that were used in that notebook that we'll also be using here.  We will make an effort to import and explain new tools as we need them.\n",
    "\n",
    "N.B. This notebook should run in 8GB of RAM.  If you have less than that, you will probably have to adjust the code for the convolutional neural network to compute even less features."
   ]
  },
  {
   "cell_type": "code",
   "execution_count": 1,
   "metadata": {
    "collapsed": true
   },
   "outputs": [],
   "source": [
    "import numpy as np\n",
    "import pandas as pd\n",
    "pd.set_option('display.precision',5)\n",
    "pd.set_option('display.max_colwidth',100)\n",
    "\n",
    "import matplotlib.pylab as plt\n",
    "from matplotlib.pylab import rcParams\n",
    "from matplotlib import pyplot\n",
    "rcParams['figure.figsize'] = 12, 4\n",
    "%matplotlib inline\n",
    "\n",
    "from sklearn.model_selection import StratifiedKFold, StratifiedShuffleSplit\n",
    "from sklearn.metrics import accuracy_score\n",
    "from time import time\n",
    "import scipy"
   ]
  },
  {
   "cell_type": "markdown",
   "metadata": {},
   "source": [
    "Load dataset.  Again, we'll only be using the kaggle train dataset in this notebook."
   ]
  },
  {
   "cell_type": "code",
   "execution_count": 2,
   "metadata": {
    "collapsed": true
   },
   "outputs": [],
   "source": [
    "train_df = pd.read_csv(\"./input/train.csv\")\n",
    "test_df = pd.read_csv(\"./input/test.csv\")"
   ]
  },
  {
   "cell_type": "markdown",
   "metadata": {},
   "source": [
    "These are the list of zero variation features.  We probably won't use them in this notebook, but they are included so that you can utilize them in your own explorations."
   ]
  },
  {
   "cell_type": "code",
   "execution_count": 3,
   "metadata": {
    "collapsed": false
   },
   "outputs": [
    {
     "data": {
      "text/plain": [
       "94"
      ]
     },
     "execution_count": 3,
     "metadata": {},
     "output_type": "execute_result"
    }
   ],
   "source": [
    "zero_cols = list(set(train_df.columns[(train_df == 0).all()].tolist() + test_df.columns[(test_df == 0).all()].tolist()))\n",
    "len(zero_cols)"
   ]
  },
  {
   "cell_type": "markdown",
   "metadata": {},
   "source": [
    "We generate the same (using random seeds) training, validation and tuning sets as in the overview notebook."
   ]
  },
  {
   "cell_type": "code",
   "execution_count": 4,
   "metadata": {
    "collapsed": true
   },
   "outputs": [],
   "source": [
    "y_train = train_df['label'].values\n",
    "x_train = train_df.drop(['label'], axis=1).values"
   ]
  },
  {
   "cell_type": "code",
   "execution_count": 5,
   "metadata": {
    "collapsed": true
   },
   "outputs": [],
   "source": [
    "validation_split = StratifiedShuffleSplit(n_splits=1, test_size=0.25, random_state=46)\n",
    "\n",
    "training_idx, validation_idx = list(validation_split.split(x_train, y_train))[0]\n",
    "\n",
    "training_df = train_df.iloc[training_idx]\n",
    "validation_df = train_df.iloc[validation_idx]\n",
    "\n",
    "x_training = training_df.drop(['label'], axis=1).values\n",
    "y_training = training_df['label'].values\n",
    "\n",
    "x_validation = validation_df.drop(['label'], axis=1).values\n",
    "y_validation = validation_df['label'].values"
   ]
  },
  {
   "cell_type": "code",
   "execution_count": 6,
   "metadata": {
    "collapsed": true
   },
   "outputs": [],
   "source": [
    "tuning_split = StratifiedShuffleSplit(n_splits=1, train_size=0.15, random_state=96)\n",
    "\n",
    "tune_idx = list(tuning_split.split(x_training, y_training))[0][0]\n",
    "\n",
    "x_tune = x_training[tune_idx]\n",
    "y_tune = y_training[tune_idx]"
   ]
  },
  {
   "cell_type": "markdown",
   "metadata": {},
   "source": [
    "### One-hot Encoding of the Class Labels"
   ]
  },
  {
   "cell_type": "markdown",
   "metadata": {},
   "source": [
    "In this dataset, the class labels are encoded as integers 0-9.  This posed no difficulty, as many scikit-learn classification models are designed to properly treat the multiclass problem using this type of encoding.  However, TensorFlow (TF) is designed to allow very low-level design of models. Therefore, it is necessary to provide the framework to treat multiclass classification as part of the TF computation graph.   \n",
    "\n",
    "In preparation for this, we will encode the class labels as 10d vectors rather than as integers,\n",
    "\n",
    "$$ 0 \\longrightarrow \\begin{pmatrix} 1 \\\\ 0 \\\\ \\vdots \\\\ 0 \\end{pmatrix},\n",
    " 1 \\longrightarrow \\begin{pmatrix} 0 \\\\ 1 \\\\ \\vdots  \\\\ 0 \\end{pmatrix}, \\ldots\n",
    "  9 \\longrightarrow \\begin{pmatrix} 0 \\\\ 0 \\\\ \\vdots \\\\ 1 \\end{pmatrix}.$$\n",
    "  \n",
    "This is sometimes called \"one hot\" encoding, since the presence of a defining class is indicated by a binary 1 in a vector and is analogous to the implementation of binary logic in circuits.  In the context of classification, this scheme is called \"one vs all\" classification and is fairly easy to implement  as an additional layer of our model in TF.  In scikit-learn, one vs all is already build into the multiclassification models so that the end user does not have to perform this additional step.\n",
    "\n",
    "N.B. If you have already seen one hot encoding of categorical features, you might notice that our encoding here is a reducible representation of the class labels.  That is, we have 10 class labels and we could actually encode them using 9 bits by assigning one of the classes to the 0....0 representative. Such an irreducible representation is preferred for the levels of a categorical feature, but not for a class label.  This is because, if we use the reducible representation here, we can easily apply an argmax function to an output vector to determine the class.  If we had used the irreducible representation, we'd need an extra step to map an output vector matching 0...0 to the last class.  This is an unnecessary complication, so we just use the reducible representation.\n",
    "\n",
    "To accomplish this encoding easily, we can use the OneHotEncoder or LabelBinarizer from scikit-learn. Since we are dealing with class labels, we will use LabelBinarizer.  This uses the fit, then predict/transform, methods common to the scikit-learn functions."
   ]
  },
  {
   "cell_type": "code",
   "execution_count": 7,
   "metadata": {
    "collapsed": true
   },
   "outputs": [],
   "source": [
    "from sklearn.preprocessing import LabelBinarizer"
   ]
  },
  {
   "cell_type": "code",
   "execution_count": 8,
   "metadata": {
    "collapsed": true
   },
   "outputs": [],
   "source": [
    "lb = LabelBinarizer()"
   ]
  },
  {
   "cell_type": "code",
   "execution_count": 9,
   "metadata": {
    "collapsed": false
   },
   "outputs": [
    {
     "data": {
      "text/plain": [
       "LabelBinarizer(neg_label=0, pos_label=1, sparse_output=False)"
      ]
     },
     "execution_count": 9,
     "metadata": {},
     "output_type": "execute_result"
    }
   ],
   "source": [
    "lb.fit(y_train)"
   ]
  },
  {
   "cell_type": "markdown",
   "metadata": {},
   "source": [
    "We can see explictly how the labels are transformed by applying the transformation to:"
   ]
  },
  {
   "cell_type": "code",
   "execution_count": 10,
   "metadata": {
    "collapsed": false
   },
   "outputs": [
    {
     "data": {
      "text/plain": [
       "[0, 1, 2, 3, 4, 5, 6, 7, 8, 9]"
      ]
     },
     "execution_count": 10,
     "metadata": {},
     "output_type": "execute_result"
    }
   ],
   "source": [
    "range(10)"
   ]
  },
  {
   "cell_type": "markdown",
   "metadata": {},
   "source": [
    "whose elements are mapped to "
   ]
  },
  {
   "cell_type": "code",
   "execution_count": 11,
   "metadata": {
    "collapsed": false
   },
   "outputs": [
    {
     "data": {
      "text/plain": [
       "array([[1, 0, 0, 0, 0, 0, 0, 0, 0, 0],\n",
       "       [0, 1, 0, 0, 0, 0, 0, 0, 0, 0],\n",
       "       [0, 0, 1, 0, 0, 0, 0, 0, 0, 0],\n",
       "       [0, 0, 0, 1, 0, 0, 0, 0, 0, 0],\n",
       "       [0, 0, 0, 0, 1, 0, 0, 0, 0, 0],\n",
       "       [0, 0, 0, 0, 0, 1, 0, 0, 0, 0],\n",
       "       [0, 0, 0, 0, 0, 0, 1, 0, 0, 0],\n",
       "       [0, 0, 0, 0, 0, 0, 0, 1, 0, 0],\n",
       "       [0, 0, 0, 0, 0, 0, 0, 0, 1, 0],\n",
       "       [0, 0, 0, 0, 0, 0, 0, 0, 0, 1]])"
      ]
     },
     "execution_count": 11,
     "metadata": {},
     "output_type": "execute_result"
    }
   ],
   "source": [
    "lb.transform(range(10))"
   ]
  },
  {
   "cell_type": "markdown",
   "metadata": {},
   "source": [
    "which can be compared to the equations written above.\n",
    "\n",
    "We apply the transformation to all of our response vectors:"
   ]
  },
  {
   "cell_type": "code",
   "execution_count": 12,
   "metadata": {
    "collapsed": false
   },
   "outputs": [],
   "source": [
    "y_train = lb.transform(y_train)\n",
    "y_training = lb.transform(y_training)\n",
    "y_validation = lb.transform(y_validation)\n",
    "y_tune = lb.transform(y_tune)"
   ]
  },
  {
   "cell_type": "markdown",
   "metadata": {},
   "source": [
    "### Standardizing the Data"
   ]
  },
  {
   "cell_type": "markdown",
   "metadata": {},
   "source": [
    "We'll be using neural networks in this notebook.  Since the connections between layers of a neural network are made via linear models (with weights as slopes and biases as intercepts) and the weights are typically determined through some version of gradient descent, we will want to standardize our data in some way. \n",
    "\n",
    "Let's briefly see why we'd want to do this in a case where we have two features $x_1, x_2$ and a response $y$. Suppose also that we are using the residual sum of squares as our cost function.  So our learning algorithm will be attempting to minimize\n",
    "\n",
    "$$ J(w,b) = \\sum | w_1 x_1 + w_2 x_2 + b - y |^2,$$\n",
    "\n",
    "where the sum is over the rows of our training data. In gradient descent, which is typically used as part of a backpropagation algorithm, we will be computing the derivatives\n",
    "\n",
    "$$ \\frac{\\partial J}{\\partial w_i} = 2 \\sum x_i (w_1 x_1 + w_2 x_2 + b - y).$$\n",
    "\n",
    "If the range of $x_1$ and $x_2$ are very different, then the corresponding derivatives will also range over very different values, owing to the factor of $x_i$.  For example, if our model was about house prices, $x_1$ could be the living area, with typical value 2000 sq ft, while $x_2$ is the number of bedrooms, which might be 2 or 3 in most cases.\n",
    "\n",
    "In this example $\\partial J/\\partial x_1$ will typically be 1000 times as large as $\\partial J/\\partial x_2$  and this might, in the best case, mean that gradient descent takes much longer to converge.  In a more complicated example, in the worst case, since activation functions destroy convexivity, gradient descent might get stuck at a poor local minimum.\n",
    "\n",
    "For these reasons, it is a good practice to standardize the features in some way so that their range of variation is similar.  There are various ways of doing this.  For example, in statistics when we say that variables have been standardized, we usually mean the z-score,\n",
    "\n",
    "$$ z = \\frac{x - \\mu}{\\sigma},$$\n",
    "\n",
    "where $\\mu$ and $\\sigma$ are the mean and standard deviation, respectively, over the measured values of $x$.  This has the obvious advantages that the mean of the new variable $\\bar{z} = 0$ and standard deviation $\\sigma_z = 1$.  In scikit-learn, the function for applying this transformation is found in the preprocessing kit and called <a href=\"http://scikit-learn.org/stable/modules/generated/sklearn.preprocessing.StandardScaler.html\">StandardScaler</a>.\n",
    "\n",
    "Another type of standardization is to scale the data to a given range, by using the max and min values of the unscaled data. We can first scale to the range $[0,1]$ via\n",
    "\n",
    "$$ x_\\text{std} = \\frac{ x - x_\\text{min} }{ x_\\text{max} - x_\\text{min} }, $$\n",
    "\n",
    "then to the range $[a,b]$ via\n",
    "\n",
    "$$ x_\\text{scaled} = \\frac{ x_\\text{std} }{b -a  } + a. $$\n",
    "\n",
    "The scikit-learn function for this is <a href =\"http://scikit-learn.org/stable/modules/generated/sklearn.preprocessing.MinMaxScaler.html\">MinMaxScaler</a>.\n",
    "\n",
    "We can also rescale data to the range $[-1,1]$ by dividing by the maximal absolute value in the unscaled data,\n",
    "\n",
    "$$ x_\\text{scaled} = \\frac{ x }{ \\text{max}( |x_\\text{min}|,|x_\\text{max}|)} $$\n",
    "\n",
    "This transformation has the advantage that sparse data remains sparse, i.e., if $x=0$, then $x_\\text{scaled} =0$.  By contrast, the z-score sends values $x = 0$ to $z=-\\mu$, destroying sparsity. The scikit-learn function for this is <a href =\"http://scikit-learn.org/stable/modules/generated/sklearn.preprocessing.MaxAbsScaler.html\">MaxAbsScaler</a>.\n",
    "\n",
    "The MNIST data is relatively sparse, since 80% of the pixels are blank, so it is a good idea to use a rescaling that preserves the sparseness.  Since the pixel intensities are always nonnegative, it really doesn't matter whether we use MinMaxScaler or MaxAbsScaler, but we'll use MaxAbsScaler to emphasize that it preserves sparsity in the general case."
   ]
  },
  {
   "cell_type": "code",
   "execution_count": 13,
   "metadata": {
    "collapsed": true
   },
   "outputs": [],
   "source": [
    "from sklearn.preprocessing import MaxAbsScaler"
   ]
  },
  {
   "cell_type": "markdown",
   "metadata": {},
   "source": [
    "The proper way to use these scaling functions is to fit them on just the training data, then separately transform the training and validation sets.  This is so that we don't introduce any bias in the training data by using properties of our validation data.  First we assign an object to the function,"
   ]
  },
  {
   "cell_type": "code",
   "execution_count": 14,
   "metadata": {
    "collapsed": true
   },
   "outputs": [],
   "source": [
    "training_scaler = MaxAbsScaler()"
   ]
  },
  {
   "cell_type": "markdown",
   "metadata": {},
   "source": [
    "We fit this to x_training,"
   ]
  },
  {
   "cell_type": "code",
   "execution_count": 15,
   "metadata": {
    "collapsed": false
   },
   "outputs": [
    {
     "data": {
      "text/plain": [
       "MaxAbsScaler(copy=True)"
      ]
     },
     "execution_count": 15,
     "metadata": {},
     "output_type": "execute_result"
    }
   ],
   "source": [
    "training_scaler.fit(x_training)"
   ]
  },
  {
   "cell_type": "markdown",
   "metadata": {},
   "source": [
    "Then transform the associated data sets."
   ]
  },
  {
   "cell_type": "code",
   "execution_count": 16,
   "metadata": {
    "collapsed": false
   },
   "outputs": [],
   "source": [
    "x_training_scaled = training_scaler.transform(x_training)\n",
    "x_validation_scaled = training_scaler.transform(x_validation)"
   ]
  },
  {
   "cell_type": "markdown",
   "metadata": {},
   "source": [
    "We can compare the nonzero values of the scaled data to the unscaled data to see how this worked:"
   ]
  },
  {
   "cell_type": "code",
   "execution_count": 17,
   "metadata": {
    "collapsed": false
   },
   "outputs": [
    {
     "data": {
      "text/plain": [
       "array([ 0.02352941,  0.5372549 ,  0.87058824, ...,  0.65098039,\n",
       "        0.43921569,  0.12941176])"
      ]
     },
     "execution_count": 17,
     "metadata": {},
     "output_type": "execute_result"
    }
   ],
   "source": [
    "x_training_scaled[np.where(x_training_scaled != 0)]"
   ]
  },
  {
   "cell_type": "code",
   "execution_count": 18,
   "metadata": {
    "collapsed": false
   },
   "outputs": [
    {
     "data": {
      "text/plain": [
       "array([  6, 137, 222, ..., 166, 112,  33])"
      ]
     },
     "execution_count": 18,
     "metadata": {},
     "output_type": "execute_result"
    }
   ],
   "source": [
    "x_training[np.where(x_training != 0)]"
   ]
  },
  {
   "cell_type": "markdown",
   "metadata": {},
   "source": [
    "The scaling functions also provide a fit_transform method to train on and then transform the training data in one step. We can apply this to our tuning data, since that doesn't have an associated validation set."
   ]
  },
  {
   "cell_type": "code",
   "execution_count": 19,
   "metadata": {
    "collapsed": false
   },
   "outputs": [],
   "source": [
    "tuning_scaler = MaxAbsScaler()\n",
    "\n",
    "x_tune_scaled = tuning_scaler.fit_transform(x_tune)"
   ]
  },
  {
   "cell_type": "markdown",
   "metadata": {},
   "source": [
    "N.B. The MNIST data is actually standardized to the interval [0,255].  However, a general real-world dataset that you encounter will not be, so we made sure to cover the best practice in this notebook."
   ]
  },
  {
   "cell_type": "markdown",
   "metadata": {},
   "source": [
    "## TensorFlow"
   ]
  },
  {
   "cell_type": "markdown",
   "metadata": {},
   "source": [
    "There is already a tutorial about using TensorFlow to study MNIST at <https://www.tensorflow.org/get_started/mnist/pros>.  In our case,  we have been using the data from the kaggle playground, so we won't follow that tutorial exactly, but it is a good place to start. If you haven't installed tensorflow, be sure and do so using the instructions for your OS at <https://www.tensorflow.org/install/>.\n",
    "\n",
    "TensorFlow (TF) uses a <a herf=\"https://www.tensorflow.org/get_started/get_started#the_computational_graph\">Computational Graph</a> model of defining computations.  We can think of each operation as a node of a graph, which is precisely how we organize a neural network. It is worthwhile to describe the detail of a computational graph, since understanding the structure is very important in successful construction of new models.\n",
    "\n",
    "When using scikit-learn models, we most likely only have to deal with the data in the form of a design matrix and, for training data, a response vector (or matrix in multivariate or possibly multiclass problems).   The user can ignore many details of how the model functions transform the data and implement the particular machine learning algorithms.  However, since TF is intended to be a much lower-level framework for constructing models, it allows that inputs or intermediate expressions can be tensors of any shape.  \n",
    "\n",
    "In order to handle this,  TF includes a new class called Tensor that is used to pass numpy arrays of any shape from one Operation to another. We can think of these as the lines in the graph. In TF an Operation is a class that performs a computation on Tensors.  Operations (also called ops) are the nodes of the graph. TF operations include very simple arithmetic like addition tf.add(a.b) or multiplication tf.matmul(a, b), for tensors a,b. Operations also include neural net activation functions and convolution and pooling operations.\n",
    "\n",
    "In order to specify model parameters, such as weights and biases, TF provides the constructor class Variable(). In terms of the computational graph, calling Variable() actually adds two ops. The first is an assign op that assigns the initial value that you specify for the variable, while the second is an op that holds the value of the variable,  which can be changed during learning rounds.\n",
    "\n",
    "In addition to the computational graph, TF is also based on a mechanism of Feeding data and variables into the computational graph.  In order to facilitate this, TF provides a class called Placeholder that can be used to pass a design matrix or hyperparameter into the appropriate operation of the graph.  For instance, the input and output layers of a neural network will be specified by placeholders of the appropriate shape.  Hyperparameters such as learning rates or hidden layer widths can also be specified by placeholders.   The feed dictionary has the format feed_dict = {placeholder1: array1, placeholder2: array2, ...}, where placeholder# is the name assigned to the placeholder and array# is a numpy array (can also be a single number when appropriate).\n",
    "\n",
    "The mechanics of using TF is the following: \n",
    "\n",
    "1. We define a TF instance or session using the class Session() or, for notebooks, InteractiveSession(), e.g., sess = tf.InteractiveSession()\n",
    "\n",
    "2. We specify the computational graph using the necessary Placeholders, Variables and Operations.\n",
    "\n",
    "3. We define functions of the graph outputs, like the cost function.  TF will treat these as tensor class objects.\n",
    "\n",
    "4. We specify an optimizer, typically using the method .minimize(cost_function). For example, optimizer = tf.train.AdamOptimizer(learning_rate).minimize(cost)\n",
    "\n",
    "5. Training is accomplished using the .run method on the session. For example, we might run sess.run([optimizer, cost], feed_dict=feed_dict).   This feeds the values of all placeholders using a python dictionary named feed_dict, accomplishing feedforward computation of the cost function and backpropagation using the specified optimizer. We can iterate the sess.run method for as many training epochs as needed.\n",
    "\n",
    "6. Validation can be accomplished by executing sess.run while feeding in the validation data to the input placeholders. In addition to the cost function, we can evaluate other metrics by defining the appropriate function and specifying it in sess.run.\n",
    "\n",
    "7. Prediction is also accomplished via sess.run, now using the new data and specifying the output variable or an appropriate function thereof.\n",
    "\n",
    "A complication of the TF methodology is that during design of the computational graph, it is not too easy to remove or redefine parts of the graph that we've already defined. If we want to change an earlier step of the graph, it can be simplest to just delete the old graph with the command tf.reset_default_graph() and start over."
   ]
  },
  {
   "cell_type": "markdown",
   "metadata": {},
   "source": [
    "### Single Hidden Layer Perceptron"
   ]
  },
  {
   "cell_type": "markdown",
   "metadata": {},
   "source": [
    "We'll start with the simplest type of neural network, which is a fully-connected single hidden layer, which is also called the perceptron.  \n",
    "\n",
    "We will import TensorFlow and start an interactive session.  "
   ]
  },
  {
   "cell_type": "code",
   "execution_count": 20,
   "metadata": {
    "collapsed": false
   },
   "outputs": [],
   "source": [
    "import tensorflow as tf\n",
    "sess = tf.InteractiveSession()"
   ]
  },
  {
   "cell_type": "markdown",
   "metadata": {},
   "source": [
    "The input layer corresponds to our design matrix, so we know we have 784 columns, but we'll be working with data of various sizes, so we don't want to specify the number of rows as a fixed number. TF allows us to introduce placeholder variables with size None to facilitate this:"
   ]
  },
  {
   "cell_type": "code",
   "execution_count": 21,
   "metadata": {
    "collapsed": true
   },
   "outputs": [],
   "source": [
    "n_feat = 784\n",
    "x = tf.placeholder(tf.float32, shape=[None, n_feat])"
   ]
  },
  {
   "cell_type": "markdown",
   "metadata": {},
   "source": [
    "We'll also specify a placeholder for our target output values. Recall that we transformed these to one-hot 10d vectors."
   ]
  },
  {
   "cell_type": "code",
   "execution_count": 22,
   "metadata": {
    "collapsed": true
   },
   "outputs": [],
   "source": [
    "n_class = 10\n",
    "y_true = tf.placeholder(tf.int32, shape=[None, n_class])"
   ]
  },
  {
   "cell_type": "markdown",
   "metadata": {},
   "source": [
    "Next, we have to specify the weights for the (first) hidden layer. This is a tensor of dimension [n_feat, width], where width is the number of nodes in the hidden layer. \n",
    "\n",
    "It's a good idea to setup some functions to initialize our weights to random values. In fact, we'll just import these from the tutuorial linked above, since they do exactly what we need."
   ]
  },
  {
   "cell_type": "code",
   "execution_count": 23,
   "metadata": {
    "collapsed": true
   },
   "outputs": [],
   "source": [
    "def weight_variable(shape):\n",
    "  initial = tf.truncated_normal(shape, stddev=0.1)\n",
    "  return tf.Variable(initial)\n",
    "\n",
    "def bias_variable(shape):\n",
    "  initial = tf.constant(0.1, shape=shape)\n",
    "  return tf.Variable(initial)"
   ]
  },
  {
   "cell_type": "markdown",
   "metadata": {},
   "source": [
    "These draw the initial weights from a positively truncated normal distribution and set the biases to a small positive constant.  Having a positive bias tends to result in good performance when using ReLU activation functions, which we will do below.\n",
    "\n",
    "We will start with a hidden layer with 1024 nodes."
   ]
  },
  {
   "cell_type": "code",
   "execution_count": 24,
   "metadata": {
    "collapsed": false
   },
   "outputs": [],
   "source": [
    "width1 = 1024\n",
    "W_1 = weight_variable([n_feat, width1])"
   ]
  },
  {
   "cell_type": "markdown",
   "metadata": {},
   "source": [
    "Note that we call this fully connected, since every feature is connected to every node of the hidden network by a weight. It may still be the case that training drives some weights to be very small.\n",
    "\n",
    "Similarly, we want to define a bias for each node.  "
   ]
  },
  {
   "cell_type": "code",
   "execution_count": 25,
   "metadata": {
    "collapsed": true
   },
   "outputs": [],
   "source": [
    "b_1 = bias_variable([width1])"
   ]
  },
  {
   "cell_type": "markdown",
   "metadata": {},
   "source": [
    "At the nodes, we'll apply ReLU, via:"
   ]
  },
  {
   "cell_type": "code",
   "execution_count": 26,
   "metadata": {
    "collapsed": true
   },
   "outputs": [],
   "source": [
    "h_1 = tf.nn.relu(tf.add(tf.matmul(x, W_1), b_1))"
   ]
  },
  {
   "cell_type": "markdown",
   "metadata": {},
   "source": [
    "Note that we used the tf.matmul function to multiply the output of the input layer (which is just going to be the response matrix) by the weights. We also used tf.add to do elementwise addition. In this case, the operation could have been expressed by tf.matmul(x, W_1) + b_1, since TF overloads + to use its own addition operation for TF tensor objects.\n",
    "\n",
    "Next, we'll introduce a dropout application as a regularization of the model.  As in the tutorial, we'll introduce a placeholder for the probability to keep the output during dropout.  This way we can use dropout during training, but turn it off easily when we run our predictions on the validation set."
   ]
  },
  {
   "cell_type": "code",
   "execution_count": 27,
   "metadata": {
    "collapsed": true
   },
   "outputs": [],
   "source": [
    "keep_prob = tf.placeholder(tf.float32)\n",
    "h_1_drop = tf.nn.dropout(h_1, keep_prob)"
   ]
  },
  {
   "cell_type": "markdown",
   "metadata": {},
   "source": [
    "Finally, the output layer will produce a vector for our 10 possible digit classes.  We introduce more weights and biases, now with the size [width1, n_class]:"
   ]
  },
  {
   "cell_type": "code",
   "execution_count": 28,
   "metadata": {
    "collapsed": true
   },
   "outputs": [],
   "source": [
    "W_out = weight_variable([width1, n_class])\n",
    "b_out = bias_variable([n_class])\n",
    "\n",
    "z_out = tf.add(tf.matmul(h_1_drop, W_out), b_out)"
   ]
  },
  {
   "cell_type": "markdown",
   "metadata": {},
   "source": [
    "Note that we're feeding the dropout features into the linear function and we don't apply any activation function (this is \"linear activation\").  We also compute the logits.  We can apply argmax later to get the most probable label, or the softmax function to obtain the probabilities for all of the classes.\n",
    "\n",
    "We now have to train the model.  In the overview notebook, we used accuracy as the metric for validation.  However, accuracy is not a smooth function and should not be used with gradient optimization methods. Therefore, we'll use cross-entropy in our optimization and compute the accuracy of our predictions later.  Note that TF includes a version of the cross-entropy that takes logits as inputs and applies softmax internally. "
   ]
  },
  {
   "cell_type": "code",
   "execution_count": 29,
   "metadata": {
    "collapsed": false
   },
   "outputs": [],
   "source": [
    "cost = tf.reduce_mean(tf.nn.softmax_cross_entropy_with_logits(labels=y_true, logits=z_out))\n",
    "corr = tf.equal(tf.argmax(z_out, 1), tf.argmax(y_true, 1))    \n",
    "accr = tf.reduce_mean(tf.cast(corr, \"float\"))"
   ]
  },
  {
   "cell_type": "markdown",
   "metadata": {},
   "source": [
    "Note that we apply the argmax function to the outputs. Because of the way we encoded the class labels, the index of the largest value of the class vector output is the digit label. Furthermore, it is also clear that applying argmax to the logit yields the same class label that we would have obtained from applying argmax to the probability vector, since the softmax function is monotonicly increasing. \n",
    "\n",
    "We can recall how argmax works by considering the application of the numpy version of argmax to one of the training labels:"
   ]
  },
  {
   "cell_type": "code",
   "execution_count": 30,
   "metadata": {
    "collapsed": false
   },
   "outputs": [
    {
     "data": {
      "text/plain": [
       "array([0, 0, 0, 0, 0, 0, 0, 0, 1, 0])"
      ]
     },
     "execution_count": 30,
     "metadata": {},
     "output_type": "execute_result"
    }
   ],
   "source": [
    "y_training[235]"
   ]
  },
  {
   "cell_type": "code",
   "execution_count": 31,
   "metadata": {
    "collapsed": false
   },
   "outputs": [
    {
     "data": {
      "text/plain": [
       "8"
      ]
     },
     "execution_count": 31,
     "metadata": {},
     "output_type": "execute_result"
    }
   ],
   "source": [
    "np.argmax(y_training[235])"
   ]
  },
  {
   "cell_type": "markdown",
   "metadata": {},
   "source": [
    "Next, we have to define an optimizer, which we'll choose to be Adam, an adaptive form of gradient descent."
   ]
  },
  {
   "cell_type": "code",
   "execution_count": 32,
   "metadata": {
    "collapsed": false
   },
   "outputs": [],
   "source": [
    "learning_rate = 0.001\n",
    "optimizer = tf.train.AdamOptimizer(learning_rate).minimize(cost)"
   ]
  },
  {
   "cell_type": "markdown",
   "metadata": {},
   "source": [
    "We're choosing a learning rate that is smaller than in the tutorial since we have scaled our features, so our weights will tend to take smaller values than in the tutorial computation."
   ]
  },
  {
   "cell_type": "markdown",
   "metadata": {},
   "source": [
    "Finally, we'll train the model on the training set. It is useful to store the number of samples."
   ]
  },
  {
   "cell_type": "code",
   "execution_count": 33,
   "metadata": {
    "collapsed": false
   },
   "outputs": [
    {
     "data": {
      "text/plain": [
       "31500"
      ]
     },
     "execution_count": 33,
     "metadata": {},
     "output_type": "execute_result"
    }
   ],
   "source": [
    "n_samp = x_training_scaled.shape[0]\n",
    "n_samp"
   ]
  },
  {
   "cell_type": "markdown",
   "metadata": {},
   "source": [
    "We are going to propagate random minibatches of data through the network, with size specified by n_batch.  This attempts to avoid memory constraints. We will stratify on the class labels. Note that we don't set a seed, since we want different labels generated for each batch."
   ]
  },
  {
   "cell_type": "code",
   "execution_count": 34,
   "metadata": {
    "collapsed": true
   },
   "outputs": [],
   "source": [
    "n_batch = 100.\n",
    "total_batch = int(n_samp / n_batch)"
   ]
  },
  {
   "cell_type": "code",
   "execution_count": 35,
   "metadata": {
    "collapsed": true
   },
   "outputs": [],
   "source": [
    "batch_split = StratifiedShuffleSplit(n_splits=1, train_size=n_batch / n_samp)"
   ]
  },
  {
   "cell_type": "markdown",
   "metadata": {},
   "source": [
    "Because of the randomization, we need to make at least total_batch passes through the data to see all of the data in the tuning set.  We'll make n_epoch additional passes through the training. Using some code from <a href=\"https://github.com/aymericdamien/TensorFlow-Examples/blob/master/examples/3_NeuralNetworks/multilayer_perceptron.py\">aymericdamien</a> and <a href=\"https://github.com/sjchoi86/tensorflow-101/blob/master/notebooks/mlp_mnist_simple.ipynb\">sjchoi86</a>, we have a training cycle:"
   ]
  },
  {
   "cell_type": "code",
   "execution_count": 36,
   "metadata": {
    "collapsed": false
   },
   "outputs": [
    {
     "name": "stdout",
     "output_type": "stream",
     "text": [
      "('Epoch: 0000', 'cost = 0.434531')\n",
      "TRAIN ACCURACY: 0.956\n",
      "VALIDATION ACCURACY: 0.949\n",
      "('Epoch: 0005', 'cost = 0.063300')\n",
      "TRAIN ACCURACY: 0.991\n",
      "VALIDATION ACCURACY: 0.974\n",
      "('Epoch: 0010', 'cost = 0.034607')\n",
      "TRAIN ACCURACY: 0.996\n",
      "VALIDATION ACCURACY: 0.980\n",
      "('Epoch: 0015', 'cost = 0.024001')\n",
      "TRAIN ACCURACY: 0.998\n",
      "VALIDATION ACCURACY: 0.979\n",
      "('Epoch: 0020', 'cost = 0.021531')\n",
      "TRAIN ACCURACY: 0.999\n",
      "VALIDATION ACCURACY: 0.979\n",
      "('Epoch: 0025', 'cost = 0.014924')\n",
      "TRAIN ACCURACY: 0.998\n",
      "VALIDATION ACCURACY: 0.979\n",
      "('Epoch: 0030', 'cost = 0.013448')\n",
      "TRAIN ACCURACY: 0.999\n",
      "VALIDATION ACCURACY: 0.980\n",
      "('Epoch: 0035', 'cost = 0.011436')\n",
      "TRAIN ACCURACY: 0.999\n",
      "VALIDATION ACCURACY: 0.981\n",
      "('Epoch: 0040', 'cost = 0.010909')\n",
      "TRAIN ACCURACY: 1.000\n",
      "VALIDATION ACCURACY: 0.981\n",
      "('Epoch: 0045', 'cost = 0.013070')\n",
      "TRAIN ACCURACY: 0.999\n",
      "VALIDATION ACCURACY: 0.980\n",
      "Optimization finished in 633.59 seconds!\n",
      "For width1 = 1024, n_epoch = 50,\n",
      "TRAIN ACCURACY: 1.000\n",
      "VALIDATION ACCURACY: 0.982\n"
     ]
    }
   ],
   "source": [
    "# Number of epochs is approximately the number of times that we have passed the complete data set through \n",
    "# the training cycle. Because we are randomizing the batches, we can't guarantee that all data is sampled \n",
    "# during a single epoch.\n",
    "n_epoch = 50\n",
    "# Adequacy of the value of n_epoch should be evaluated by computing appropriate metrics at checkpoints, so that \n",
    "# it will be apparent if more training cycles are required, or if the last training cycles were unecessary.\n",
    "display_step = 5\n",
    "\n",
    "# initialize variables\n",
    "sess.run(tf.global_variables_initializer())\n",
    "\n",
    "start = time()\n",
    "for epoch in range(n_epoch):\n",
    "    # init average cost \n",
    "    avg_cost = 0.\n",
    "    for i in range(total_batch):\n",
    "        # make stratified minibatch split\n",
    "        batch_idx = list(batch_split.split(x_training_scaled, y_training))[0][0]\n",
    "        x_batch, y_batch = x_training_scaled[batch_idx], y_training[batch_idx]\n",
    "        # run backprop and feedforward\n",
    "        _, c = sess.run([optimizer, cost], feed_dict={x: x_batch, y_true: y_batch, keep_prob: 0.5})\n",
    "        # Compute average loss\n",
    "        avg_cost += c / total_batch\n",
    "    # Display logs per epoch step\n",
    "    if epoch % display_step == 0:\n",
    "        print(\"Epoch: %04d\" % epoch, \"cost = %04f\" % avg_cost)\n",
    "        train_acc = sess.run(accr, feed_dict={x: x_training_scaled, y_true: y_training, keep_prob: 1.})\n",
    "        print (\"TRAIN ACCURACY: %.3f\" % (train_acc))\n",
    "        test_acc = sess.run(accr, feed_dict={x: x_validation_scaled, y_true: y_validation, keep_prob: 1.})\n",
    "        print (\"VALIDATION ACCURACY: %.3f\" % (test_acc))\n",
    "\n",
    "train_acc = sess.run(accr, feed_dict={x: x_training_scaled, y_true: y_training, keep_prob: 1.})      \n",
    "test_acc = sess.run(accr, feed_dict={x: x_validation_scaled, y_true: y_validation, keep_prob: 1.})\n",
    "print(\"Optimization finished in %.2f seconds!\" % (time() - start)) \n",
    "print(\"For width1 = %d, n_epoch = %d,\" \\\n",
    "      % (width1, n_epoch))\n",
    "print (\"TRAIN ACCURACY: %.3f\" % (train_acc))\n",
    "print (\"VALIDATION ACCURACY: %.3f\" % (test_acc))   \n"
   ]
  },
  {
   "cell_type": "markdown",
   "metadata": {},
   "source": [
    "At over 98% accuracy, this model is on par with our best Random Forest result.  We also note that it learns quickly and then the validation accuracy fluctuates essentially due to the randomness of the batch updates.\n",
    "\n",
    "It might be possible to improve the results of this model by adjusting the parameters.   Basically the width of the hidden layer, the learning rate, the minibatch size, etc. (even the choice of activation functions!) should all be viewed as hyperparameters that should be tuned to improve the accuracy of the model.  TensorFlow doesn't provide a very simple way to do this, though we could write appropriate code to help out.\n",
    "\n",
    "Instead, we'll look at adding an additional hidden layer to see how that affects the accuracy.  \n",
    "\n",
    "We will close the TF session, so that we can start a new one in the next section."
   ]
  },
  {
   "cell_type": "code",
   "execution_count": 37,
   "metadata": {
    "collapsed": false
   },
   "outputs": [],
   "source": [
    "sess.close()"
   ]
  },
  {
   "cell_type": "markdown",
   "metadata": {},
   "source": [
    "### Multilayer Perceptron"
   ]
  },
  {
   "cell_type": "markdown",
   "metadata": {},
   "source": [
    "We will quickly execute a two-layer perceptron here and then move on to more complicated (and deep) networks.  The command reset_default_graph should reset the graph so that we can start fresh."
   ]
  },
  {
   "cell_type": "code",
   "execution_count": 38,
   "metadata": {
    "collapsed": false
   },
   "outputs": [],
   "source": [
    "tf.reset_default_graph()\n",
    "sess = tf.InteractiveSession()"
   ]
  },
  {
   "cell_type": "code",
   "execution_count": 57,
   "metadata": {
    "collapsed": false
   },
   "outputs": [],
   "source": [
    "n_feat = 784\n",
    "x = tf.placeholder(tf.float32, shape=[None, n_feat])\n",
    "n_class = 10\n",
    "y_true = tf.placeholder(tf.int32, shape=[None, n_class])\n",
    "\n",
    "width1 = 512 # 256\n",
    "W_1 = weight_variable([n_feat, width1])\n",
    "b_1 = bias_variable([width1])\n",
    "h_1 = tf.nn.relu(tf.add(tf.matmul(x, W_1), b_1))\n",
    "\n",
    "keep_prob1 = tf.placeholder(tf.float32)\n",
    "h_1_drop = tf.nn.dropout(h_1, keep_prob1)\n",
    "\n",
    "width2 = 512 # 128\n",
    "W_2 = weight_variable([width1, width2])\n",
    "b_2 = bias_variable([width2])\n",
    "h_2 = tf.nn.relu(tf.add(tf.matmul(h_1_drop, W_2), b_2))\n",
    "\n",
    "keep_prob2 = tf.placeholder(tf.float32)\n",
    "h_2_drop = tf.nn.dropout(h_2, keep_prob2)\n",
    "\n",
    "W_out = weight_variable([width2, n_class])\n",
    "b_out = bias_variable([n_class])\n",
    "\n",
    "z_out = tf.add(tf.matmul(h_2_drop, W_out), b_out)\n",
    "\n",
    "cost = tf.reduce_mean(tf.nn.softmax_cross_entropy_with_logits(labels=y_true, logits=z_out))\n",
    "\n",
    "learning_rate = 0.001\n",
    "optimizer = tf.train.AdamOptimizer(learning_rate).minimize(cost)\n",
    "\n",
    "corr = tf.equal(tf.argmax(z_out, 1), tf.argmax(y_true, 1))    \n",
    "accr = tf.reduce_mean(tf.cast(corr, \"float\"))"
   ]
  },
  {
   "cell_type": "markdown",
   "metadata": {},
   "source": [
    "The hidden layer sizes were chosen in order that the training runs in a reasonably short amount of time. We have added two dropout layers and are using ReLU instead of sigmoid.  We will start off with a smaller number of training epochs:"
   ]
  },
  {
   "cell_type": "code",
   "execution_count": 58,
   "metadata": {
    "collapsed": false
   },
   "outputs": [
    {
     "name": "stdout",
     "output_type": "stream",
     "text": [
      "('Epoch: 0000', 'cost = 0.610335')\n",
      "TRAIN ACCURACY: 0.950\n",
      "VALIDATION ACCURACY: 0.944\n",
      "('Epoch: 0005', 'cost = 0.125491')\n",
      "TRAIN ACCURACY: 0.984\n",
      "VALIDATION ACCURACY: 0.970\n",
      "('Epoch: 0010', 'cost = 0.085745')\n",
      "TRAIN ACCURACY: 0.991\n",
      "VALIDATION ACCURACY: 0.975\n",
      "('Epoch: 0015', 'cost = 0.067171')\n",
      "TRAIN ACCURACY: 0.995\n",
      "VALIDATION ACCURACY: 0.977\n",
      "('Epoch: 0020', 'cost = 0.061654')\n",
      "TRAIN ACCURACY: 0.996\n",
      "VALIDATION ACCURACY: 0.977\n",
      "('Epoch: 0025', 'cost = 0.058858')\n",
      "TRAIN ACCURACY: 0.997\n",
      "VALIDATION ACCURACY: 0.978\n",
      "('Epoch: 0030', 'cost = 0.051672')\n",
      "TRAIN ACCURACY: 0.997\n",
      "VALIDATION ACCURACY: 0.978\n",
      "('Epoch: 0035', 'cost = 0.055310')\n",
      "TRAIN ACCURACY: 0.998\n",
      "VALIDATION ACCURACY: 0.979\n",
      "('Epoch: 0040', 'cost = 0.043185')\n",
      "TRAIN ACCURACY: 0.998\n",
      "VALIDATION ACCURACY: 0.978\n",
      "('Epoch: 0045', 'cost = 0.044070')\n",
      "TRAIN ACCURACY: 0.997\n",
      "VALIDATION ACCURACY: 0.977\n",
      "Optimization finished in 901.47 seconds!\n",
      "For width1 = 512, width2 = 512, n_epoch = 50,\n",
      "TRAIN ACCURACY: 0.999\n",
      "VALIDATION ACCURACY: 0.980\n"
     ]
    }
   ],
   "source": [
    "n_epoch = 50\n",
    "display_step = 5\n",
    "\n",
    "# initialize variables\n",
    "sess.run(tf.global_variables_initializer())\n",
    "\n",
    "start = time()\n",
    "\n",
    "for epoch in range(n_epoch):\n",
    "    avg_cost = 0.\n",
    "    for i in range(total_batch):\n",
    "        # make stratified minibatch split\n",
    "        batch_idx = list(batch_split.split(x_training_scaled, y_training))[0][0]\n",
    "        x_batch, y_batch = x_training_scaled[batch_idx], y_training[batch_idx]\n",
    "        # run backprop and feedforward\n",
    "        _, c = sess.run([optimizer, cost], feed_dict={x: x_batch, y_true: y_batch, keep_prob1: 0.5, keep_prob2: 0.5})\n",
    "        # Compute average loss\n",
    "        avg_cost += c / total_batch\n",
    "    # Display logs per epoch step\n",
    "    if epoch % display_step == 0:\n",
    "        print(\"Epoch: %04d\" % epoch, \"cost = %04f\" % avg_cost)\n",
    "        train_acc = sess.run(accr, \\\n",
    "                             feed_dict={x: x_training_scaled, y_true: y_training, keep_prob1: 1., keep_prob2: 1.})\n",
    "        print (\"TRAIN ACCURACY: %.3f\" % (train_acc))\n",
    "        test_acc = sess.run(accr, \\\n",
    "                            feed_dict={x: x_validation_scaled, y_true: y_validation, keep_prob1: 1., keep_prob2: 1.})\n",
    "        print (\"VALIDATION ACCURACY: %.3f\" % (test_acc))\n",
    "        \n",
    "train_acc = sess.run(accr, feed_dict={x: x_training_scaled, y_true: y_training, keep_prob1: 1., keep_prob2: 1.})      \n",
    "test_acc = sess.run(accr, feed_dict={x: x_validation_scaled, y_true: y_validation, keep_prob1: 1., keep_prob2: 1.})\n",
    "print(\"Optimization finished in %.2f seconds!\" % (time() - start)) \n",
    "print(\"For width1 = %d, width2 = %d, n_epoch = %d,\" \\\n",
    "      % (width1, width2, n_epoch))\n",
    "print (\"TRAIN ACCURACY: %.3f\" % (train_acc))\n",
    "print (\"VALIDATION ACCURACY: %.3f\" % (test_acc))        "
   ]
  },
  {
   "cell_type": "markdown",
   "metadata": {},
   "source": [
    "It appears that additional training epochs might improve the accuracy slightly.  At around 98% this is on par with, if slightly worse, than our wide single layer model. Again, it is possible that better tunings would improve the result.\n",
    "\n",
    "It would also be interesting to test these models after dropping the zero padding.  For now, though, we will try out a convolutional deep network."
   ]
  },
  {
   "cell_type": "code",
   "execution_count": 59,
   "metadata": {
    "collapsed": true
   },
   "outputs": [],
   "source": [
    "sess.close()"
   ]
  },
  {
   "cell_type": "markdown",
   "metadata": {},
   "source": [
    "### Convolutional Deep Network"
   ]
  },
  {
   "cell_type": "markdown",
   "metadata": {},
   "source": [
    "In this section, we'll build a network with convolutional and pooling layers, closely resembling the one in the Deep MNIST example from the TF tutorial.\n",
    "\n",
    "We'll reset the graph and restart the interactive session."
   ]
  },
  {
   "cell_type": "code",
   "execution_count": 60,
   "metadata": {
    "collapsed": true
   },
   "outputs": [],
   "source": [
    "tf.reset_default_graph()\n",
    "sess = tf.InteractiveSession()"
   ]
  },
  {
   "cell_type": "markdown",
   "metadata": {},
   "source": [
    "The network will have the same input and output layers as before."
   ]
  },
  {
   "cell_type": "code",
   "execution_count": 61,
   "metadata": {
    "collapsed": false
   },
   "outputs": [],
   "source": [
    "n_feat = 784\n",
    "x = tf.placeholder(tf.float32, shape=[None, n_feat])\n",
    "n_class = 10\n",
    "y_true = tf.placeholder(tf.int32, shape=[None, n_class])"
   ]
  },
  {
   "cell_type": "markdown",
   "metadata": {},
   "source": [
    "Our first layer will be 2d convolutional from the TF op tf.nn.conv2d.  Instead of taking a normal design matrix, this op takes an input which is a tensor of shape [batch, in_height, in_width, in_channels], where: \n",
    "\n",
    "batch is the number of observations in the data. <BR>\n",
    "(in_height, in_width) are the pixel dimensions of the input images.  In our case these are both = 28.  <BR>\n",
    "in_channels is the number of color channels in the input.  Since our images are greyscale, this is just = 1. <BR>\n",
    "\n",
    "Therefore, to apply the first convolutional layer, we need to reshape our input as follows:"
   ]
  },
  {
   "cell_type": "code",
   "execution_count": 62,
   "metadata": {
    "collapsed": false
   },
   "outputs": [],
   "source": [
    "x_image = tf.reshape(x, [-1,28,28,1])"
   ]
  },
  {
   "cell_type": "markdown",
   "metadata": {},
   "source": [
    "The layer also applies a filter/kernel of shape [filter_height, filter_width, in_channels, out_channels], where:\n",
    "\n",
    "(filter_height, filter_width) are the pixel dimensions of the window. <BR>\n",
    "in_channels is again the # of color channels in the input.  <BR>\n",
    "out_channels is the number of features for the layer to output. <BR>\n",
    "\n",
    "The layer samples patches of the image to form: \n",
    "\n",
    "a tensor X of shape [batch, out_height, out_width, filter_height $*$ filter_width $*$ in_channels]. <BR> \n",
    "flattens the filter into a tensor W of shape [filter_height $*$ filter_width $*$ in_channels, output_channels].<BR> \n",
    "computes the matrix product  X.W, which is a tensor of shape [batch, out_height, out_width, output_channels].\n",
    "\n",
    "We specify the filter by defining a weight tensor of the appropriate shape.  For a 5x5 window, the weights will have shape [5, 5, 1, n_features_out], where n_features_out is the number of features we want the CNN layer to compute. We will compute 8 features in this first layer, due to memory constraints. \n",
    "\n",
    "We also have to decide the stride for the layer,  which is the amount we shift the window between samplings. We specify the stride using a vector containing the information [batch, horizontal_stride, vertical_stride, in_channels]. Stride is constrained to sample one batch input and one input channel at a time, so the stride vector must be given in the form [1, horizontal_stride, vertical_stride, 1]. If we just shift the window by one pixel in either direction for samplings, the stride tensor should be [1, 1, 1, 1].\n",
    "\n",
    "If we were to just sample 5x5  windows on a 28x28 pixel image, the output would be a 24x24 image. Further CNN and pooling layers would shrink this down even further to the point where we can't apply CNN anymore.  The solution to this is to pad the image with blank pixels in the output to, in our case, keep the output as a 28x28 image, no matter what other transformation we apply to it.  The layers take an argument to specify the type of padding, if any, that we want to apply.\n",
    "\n",
    "Finally we apply the rectified linear unit as an activation function for this layer.\n",
    "\n",
    "Putting all of this together, the layer we want is specified by:"
   ]
  },
  {
   "cell_type": "code",
   "execution_count": 63,
   "metadata": {
    "collapsed": false
   },
   "outputs": [],
   "source": [
    "n_convfeat1 = 8\n",
    "\n",
    "W_conv1 = weight_variable([5, 5, 1, n_convfeat1])\n",
    "b_conv1 = bias_variable([n_convfeat1])\n",
    "\n",
    "CNN1 = tf.nn.conv2d(x_image, W_conv1, strides=[1, 1, 1, 1], padding='SAME')\n",
    "h_conv1 = tf.nn.relu(tf.add(CNN1, b_conv1))"
   ]
  },
  {
   "cell_type": "code",
   "execution_count": 64,
   "metadata": {
    "collapsed": false
   },
   "outputs": [
    {
     "data": {
      "text/plain": [
       "<tf.Tensor 'Relu:0' shape=(?, 28, 28, 8) dtype=float32>"
      ]
     },
     "execution_count": 64,
     "metadata": {},
     "output_type": "execute_result"
    }
   ],
   "source": [
    "h_conv1"
   ]
  },
  {
   "cell_type": "markdown",
   "metadata": {},
   "source": [
    "As promised, the output of this layer is a 28x28 \"image\" with 8 features per pixel. \n",
    "\n",
    "The next layer will be a pooling layer.  Pooling is a way of building in some amount of translation invariance of our feature computation.   The NN will be learning that some feature (certain type of corner, a face, etc.) is present in the image, but that it doesn't necessarily care what part of the image that feature was found in.\n",
    "\n",
    "We will follow the tutorial and use max pooling via the op tf.nn.max_pool. Max pooling reports the maximum output for a given feature in a specified area, which this op expects to be a rectangle.   More specifically, the input has shape\n",
    "[batch, height, width, channels] and the window is also specified according to these dimensions. \n",
    "\n",
    "We want to max pool over 2x2 windows, so we must specify the shape list [1, 2, 2, 1].   This samples once per input image and feature, but performs max pooling over the 2x2 geometric window.   Furthermore, we don't want our windows to overlap (that would not introduce enough translational invariance), so to shift by 2 pixels we specify the stride [1, 2, 2, 1].\n",
    "\n",
    "Padding with the pooling op works differently from padding with the CNN ops.  Here we add padding if BEFORE the pooling transformation if it is necessary to carry out the specified pooling operation.  For instance, if we wanted to do 2x2 pooling with a stride of 2 on a 3x3 image, we would need to pad the image to 4x4.  Our output would be 2x2.\n",
    "\n",
    "We specify this pooling layer via:"
   ]
  },
  {
   "cell_type": "code",
   "execution_count": 65,
   "metadata": {
    "collapsed": true
   },
   "outputs": [],
   "source": [
    "h_pool1 = tf.nn.max_pool(h_conv1, ksize=[1, 2, 2, 1], strides=[1, 2, 2, 1], padding='SAME')"
   ]
  },
  {
   "cell_type": "code",
   "execution_count": 66,
   "metadata": {
    "collapsed": false
   },
   "outputs": [
    {
     "data": {
      "text/plain": [
       "<tf.Tensor 'MaxPool:0' shape=(?, 14, 14, 8) dtype=float32>"
      ]
     },
     "execution_count": 66,
     "metadata": {},
     "output_type": "execute_result"
    }
   ],
   "source": [
    "h_pool1"
   ]
  },
  {
   "cell_type": "markdown",
   "metadata": {},
   "source": [
    "This is a 14x14 image with the same 8 features outputted by the CNN.  \n",
    "\n",
    "Again following the tutuorial, we wish to introduce additional CNN and pooling layers.  We will choose the CNN to be 5x5 with unit stride and compute 12 features (again due to memory constraints), while we'll apply another instance of 2x2 max pooling with stride 2.  The output will be a 7x7 image with 12 features."
   ]
  },
  {
   "cell_type": "code",
   "execution_count": 67,
   "metadata": {
    "collapsed": false
   },
   "outputs": [
    {
     "data": {
      "text/plain": [
       "<tf.Tensor 'MaxPool_1:0' shape=(?, 7, 7, 12) dtype=float32>"
      ]
     },
     "execution_count": 67,
     "metadata": {},
     "output_type": "execute_result"
    }
   ],
   "source": [
    "n_convfeat2 = 12\n",
    "\n",
    "W_conv2 = weight_variable([5, 5, n_convfeat1, n_convfeat2])\n",
    "b_conv2 = bias_variable([n_convfeat2])\n",
    "\n",
    "CNN2 = tf.nn.conv2d(h_pool1, W_conv2, strides=[1, 1, 1, 1], padding='SAME')\n",
    "h_conv2 = tf.nn.relu(tf.add(CNN2, b_conv2))\n",
    "\n",
    "h_pool2 = tf.nn.max_pool(h_conv2, ksize=[1, 2, 2, 1], strides=[1, 2, 2, 1], padding='SAME')\n",
    "h_pool2"
   ]
  },
  {
   "cell_type": "markdown",
   "metadata": {},
   "source": [
    "Our fully connected single layer NN was working pretty well so we will include one as the next layer. We will choose a width of 256 to keep the total memory usage of the full network reasonalbe.  We will flatten the 7x7 image into a pixel vector to make the computations more convenient."
   ]
  },
  {
   "cell_type": "code",
   "execution_count": 68,
   "metadata": {
    "collapsed": false
   },
   "outputs": [],
   "source": [
    "width1 = 256\n",
    "\n",
    "W_1 = weight_variable([7 * 7 * n_convfeat2, width1])\n",
    "b_1 = bias_variable([width1])\n",
    "\n",
    "h_pool2_flat = tf.reshape(h_pool2, [-1, 7*7*n_convfeat2])\n",
    "\n",
    "h_1 = tf.nn.relu(tf.add(tf.matmul(h_pool2_flat, W_1), b_1))"
   ]
  },
  {
   "cell_type": "markdown",
   "metadata": {},
   "source": [
    "As before,  we'll introduce a dropout layer."
   ]
  },
  {
   "cell_type": "code",
   "execution_count": 69,
   "metadata": {
    "collapsed": true
   },
   "outputs": [],
   "source": [
    "keep_prob = tf.placeholder(tf.float32)\n",
    "h_1_drop = tf.nn.dropout(h_1, keep_prob)"
   ]
  },
  {
   "cell_type": "markdown",
   "metadata": {},
   "source": [
    "And output layer."
   ]
  },
  {
   "cell_type": "code",
   "execution_count": 70,
   "metadata": {
    "collapsed": true
   },
   "outputs": [],
   "source": [
    "W_out = weight_variable([width1, n_class])\n",
    "b_out = bias_variable([n_class])\n",
    "\n",
    "z_out = tf.add(tf.matmul(h_1_drop, W_out), b_out)"
   ]
  },
  {
   "cell_type": "markdown",
   "metadata": {},
   "source": [
    "The rest of the choices will also be the same."
   ]
  },
  {
   "cell_type": "code",
   "execution_count": 71,
   "metadata": {
    "collapsed": false
   },
   "outputs": [],
   "source": [
    "cost = tf.reduce_mean(tf.nn.softmax_cross_entropy_with_logits(labels=y_true, logits=z_out))\n",
    "corr = tf.equal(tf.argmax(z_out, 1), tf.argmax(y_true, 1))    \n",
    "accr = tf.reduce_mean(tf.cast(corr, \"float\"))\n",
    "\n",
    "learning_rate = 0.001\n",
    "optimizer = tf.train.AdamOptimizer(learning_rate).minimize(cost)\n",
    "\n",
    "n_samp = x_training_scaled.shape[0]\n",
    "\n",
    "n_batch = 50.\n",
    "\n",
    "total_batch = int(n_samp / n_batch)\n",
    "\n",
    "batch_split = StratifiedShuffleSplit(n_splits=1, train_size=n_batch / n_samp)"
   ]
  },
  {
   "cell_type": "code",
   "execution_count": 72,
   "metadata": {
    "collapsed": false
   },
   "outputs": [
    {
     "name": "stdout",
     "output_type": "stream",
     "text": [
      "('Epoch: 0000', 'cost = 0.376590')\n",
      "TRAIN ACCURACY: 0.972\n",
      "VALIDATION ACCURACY: 0.971\n",
      "('Epoch: 0005', 'cost = 0.046132')\n",
      "TRAIN ACCURACY: 0.994\n",
      "VALIDATION ACCURACY: 0.988\n",
      "('Epoch: 0010', 'cost = 0.023329')\n",
      "TRAIN ACCURACY: 0.997\n",
      "VALIDATION ACCURACY: 0.989\n",
      "('Epoch: 0015', 'cost = 0.015483')\n",
      "TRAIN ACCURACY: 0.998\n",
      "VALIDATION ACCURACY: 0.988\n",
      "('Epoch: 0020', 'cost = 0.014809')\n",
      "TRAIN ACCURACY: 0.999\n",
      "VALIDATION ACCURACY: 0.989\n",
      "('Epoch: 0025', 'cost = 0.010045')\n",
      "TRAIN ACCURACY: 0.999\n",
      "VALIDATION ACCURACY: 0.989\n",
      "('Epoch: 0030', 'cost = 0.007664')\n",
      "TRAIN ACCURACY: 1.000\n",
      "VALIDATION ACCURACY: 0.989\n",
      "('Epoch: 0035', 'cost = 0.008818')\n",
      "TRAIN ACCURACY: 0.999\n",
      "VALIDATION ACCURACY: 0.987\n",
      "Optimization finished in 1208.06 seconds!\n",
      "For n_convfeat1 = 8, n_convfeat2 = 12, width1 = 256, n_epoch = 40,\n",
      "TRAIN ACCURACY: 1.000\n",
      "VALIDATION ACCURACY: 0.989\n"
     ]
    }
   ],
   "source": [
    "n_epoch = 40\n",
    "display_step = 5\n",
    "\n",
    "# initialize variables\n",
    "sess.run(tf.global_variables_initializer())\n",
    "\n",
    "from time import time\n",
    "start = time()\n",
    "\n",
    "for epoch in range(n_epoch):\n",
    "    avg_cost = 0.\n",
    "    for i in range(total_batch):\n",
    "        # make stratified minibatch split\n",
    "        batch_idx = list(batch_split.split(x_training_scaled, y_training))[0][0]\n",
    "        x_batch, y_batch = x_training_scaled[batch_idx], y_training[batch_idx]\n",
    "        # run backprop and feedforward\n",
    "        _, c = sess.run([optimizer, cost], feed_dict={x: x_batch, y_true: y_batch, keep_prob: 0.5})\n",
    "        # Compute average loss\n",
    "        avg_cost += c / total_batch\n",
    "    # Display logs per epoch step\n",
    "    if epoch % display_step == 0:\n",
    "        print(\"Epoch: %04d\" % epoch, \"cost = %04f\" % avg_cost)\n",
    "        train_acc = sess.run(accr, feed_dict={x: x_training_scaled, y_true: y_training, keep_prob: 1.})\n",
    "        print (\"TRAIN ACCURACY: %.3f\" % (train_acc))\n",
    "        test_acc = sess.run(accr, feed_dict={x: x_validation_scaled, y_true: y_validation, keep_prob: 1.})\n",
    "        print (\"VALIDATION ACCURACY: %.3f\" % (test_acc))\n",
    "          \n",
    "train_acc = sess.run(accr, feed_dict={x: x_training_scaled, y_true: y_training, keep_prob: 1.})      \n",
    "test_acc = sess.run(accr, feed_dict={x: x_validation_scaled, y_true: y_validation, keep_prob: 1.})\n",
    "print(\"Optimization finished in %.2f seconds!\" % (time() - start)) \n",
    "print(\"For n_convfeat1 = %d, n_convfeat2 = %d, width1 = %d, n_epoch = %d,\" \\\n",
    "      % (n_convfeat1, n_convfeat2, width1, n_epoch))\n",
    "print (\"TRAIN ACCURACY: %.3f\" % (train_acc))\n",
    "print (\"VALIDATION ACCURACY: %.3f\" % (test_acc))"
   ]
  },
  {
   "cell_type": "markdown",
   "metadata": {},
   "source": [
    "At 99% accuracy, this is our best model so far.  Some incremental gains can be made by increasing the number of features computed in the CNN layers and the fully connected layer.  On my particular hardware, running on CPU alone (i.e., no GPU processing), I run into memory issues if I try to make the model capacity any larger."
   ]
  },
  {
   "cell_type": "markdown",
   "metadata": {},
   "source": [
    "### Analysis of Errors"
   ]
  },
  {
   "cell_type": "markdown",
   "metadata": {},
   "source": [
    "It might be useful to take a closer look at the examples in the validation set where our CNN got the wrong answer.  To obtain the output class probabilities for the validation set, we can run: "
   ]
  },
  {
   "cell_type": "code",
   "execution_count": 74,
   "metadata": {
    "collapsed": false
   },
   "outputs": [],
   "source": [
    "y_pred_prob = sess.run(tf.nn.softmax(z_out), feed_dict={x: x_validation_scaled, y_true: y_validation, keep_prob: 1.})"
   ]
  },
  {
   "cell_type": "markdown",
   "metadata": {},
   "source": [
    "We can can check a random sample:"
   ]
  },
  {
   "cell_type": "code",
   "execution_count": 75,
   "metadata": {
    "collapsed": false
   },
   "outputs": [
    {
     "data": {
      "text/plain": [
       "array([[  9.95151888e-31,   9.78214502e-24,   2.50844998e-25,\n",
       "          1.89209161e-17,   6.36631488e-15,   9.54389924e-21,\n",
       "          1.51518265e-28,   3.79752498e-17,   2.24919875e-14,\n",
       "          1.00000000e+00],\n",
       "       [  2.83778244e-21,   1.00000000e+00,   1.10928030e-20,\n",
       "          1.44851160e-23,   1.54567711e-13,   8.73411931e-21,\n",
       "          4.01464946e-22,   5.11262243e-14,   2.76495098e-19,\n",
       "          1.82631209e-15],\n",
       "       [  6.37921877e-24,   3.55354567e-27,   1.50074526e-19,\n",
       "          1.09007996e-21,   3.59615260e-24,   1.43244371e-24,\n",
       "          1.91994969e-28,   6.62679241e-30,   1.00000000e+00,\n",
       "          2.67660463e-14],\n",
       "       [  8.51109138e-20,   1.00000000e+00,   1.33253942e-15,\n",
       "          5.19160576e-19,   1.90776185e-16,   8.04189851e-19,\n",
       "          9.84705269e-19,   9.60899979e-13,   5.97167081e-20,\n",
       "          1.63668107e-18],\n",
       "       [  3.92576557e-30,   6.61838362e-29,   3.69197406e-35,\n",
       "          1.95249548e-17,   5.15344138e-28,   1.00000000e+00,\n",
       "          1.25671237e-25,   2.35523706e-27,   3.15736029e-19,\n",
       "          1.32483547e-11]], dtype=float32)"
      ]
     },
     "execution_count": 75,
     "metadata": {},
     "output_type": "execute_result"
    }
   ],
   "source": [
    "idxs = np.random.randint(0, len(y_pred_prob), 5)\n",
    "y_pred_prob[idxs]"
   ]
  },
  {
   "cell_type": "markdown",
   "metadata": {},
   "source": [
    "We can use argmax to compute the most probable prediction for each example:"
   ]
  },
  {
   "cell_type": "code",
   "execution_count": 76,
   "metadata": {
    "collapsed": false
   },
   "outputs": [
    {
     "data": {
      "text/plain": [
       "array([7, 9, 1, ..., 3, 9, 1])"
      ]
     },
     "execution_count": 76,
     "metadata": {},
     "output_type": "execute_result"
    }
   ],
   "source": [
    "y_pred = np.argmax(y_pred_prob, 1)\n",
    "y_pred"
   ]
  },
  {
   "cell_type": "markdown",
   "metadata": {},
   "source": [
    "These are to be compared with the list of true labels from y_validation, which we can reobtain by also applying argmax:"
   ]
  },
  {
   "cell_type": "code",
   "execution_count": 77,
   "metadata": {
    "collapsed": false
   },
   "outputs": [
    {
     "data": {
      "text/plain": [
       "array([7, 9, 1, ..., 3, 9, 1])"
      ]
     },
     "execution_count": 77,
     "metadata": {},
     "output_type": "execute_result"
    }
   ],
   "source": [
    "y_act = np.argmax(y_validation, 1)\n",
    "y_act"
   ]
  },
  {
   "cell_type": "markdown",
   "metadata": {},
   "source": [
    "Another useful numpy function is argsort, which returns the indices that would sort an array, from smallest element to largest. In our case, it is more convenient to sort from largest to smallest, in which case we can specify np.argsort(-vec). In the case of our class probability vectors, the first entry in argsort(-vec) will be the argmax, while the next will be the 2nd most probable class, then the 3rd and so on.  It can be useful to know if the true label was given a relatively high probability if the most probable model class was incorrect. For example, we can consider"
   ]
  },
  {
   "cell_type": "code",
   "execution_count": 87,
   "metadata": {
    "collapsed": false
   },
   "outputs": [
    {
     "name": "stdout",
     "output_type": "stream",
     "text": [
      "[[  9.95151888e-31   9.78214502e-24   2.50844998e-25   1.89209161e-17\n",
      "    6.36631488e-15   9.54389924e-21   1.51518265e-28   3.79752498e-17\n",
      "    2.24919875e-14   1.00000000e+00]\n",
      " [  2.83778244e-21   1.00000000e+00   1.10928030e-20   1.44851160e-23\n",
      "    1.54567711e-13   8.73411931e-21   4.01464946e-22   5.11262243e-14\n",
      "    2.76495098e-19   1.82631209e-15]\n",
      " [  6.37921877e-24   3.55354567e-27   1.50074526e-19   1.09007996e-21\n",
      "    3.59615260e-24   1.43244371e-24   1.91994969e-28   6.62679241e-30\n",
      "    1.00000000e+00   2.67660463e-14]\n",
      " [  8.51109138e-20   1.00000000e+00   1.33253942e-15   5.19160576e-19\n",
      "    1.90776185e-16   8.04189851e-19   9.84705269e-19   9.60899979e-13\n",
      "    5.97167081e-20   1.63668107e-18]\n",
      " [  3.92576557e-30   6.61838362e-29   3.69197406e-35   1.95249548e-17\n",
      "    5.15344138e-28   1.00000000e+00   1.25671237e-25   2.35523706e-27\n",
      "    3.15736029e-19   1.32483547e-11]]\n",
      "[[9 8 4 7 3 5 1 2 6 0]\n",
      " [1 4 7 9 8 2 5 0 6 3]\n",
      " [8 9 2 3 0 4 5 1 6 7]\n",
      " [1 7 2 4 9 6 5 3 0 8]\n",
      " [5 9 3 8 6 7 4 1 0 2]]\n",
      "[9 1 8 1 5]\n"
     ]
    }
   ],
   "source": [
    "print(y_pred_prob[idxs])\n",
    "print(np.argsort(-y_pred_prob[idxs]))\n",
    "print(np.argmax(y_pred_prob[idxs], 1))"
   ]
  },
  {
   "cell_type": "markdown",
   "metadata": {},
   "source": [
    "It is also interesting to look at the confusion matrix:"
   ]
  },
  {
   "cell_type": "code",
   "execution_count": 119,
   "metadata": {
    "collapsed": true
   },
   "outputs": [],
   "source": [
    "from sklearn.metrics import confusion_matrix\n",
    "\n",
    "import itertools\n",
    "\n",
    "def plot_confusion_matrix(cm, classes,\n",
    "                          normalize=False,\n",
    "                          title='Confusion matrix',\n",
    "                          cmap=plt.cm.Blues):\n",
    "    plt.imshow(cm, interpolation='nearest', cmap=cmap)\n",
    "    plt.title(title)\n",
    "    plt.colorbar()\n",
    "    tick_marks = np.arange(len(classes))\n",
    "    plt.xticks(tick_marks, classes, rotation=45)\n",
    "    plt.yticks(tick_marks, classes)\n",
    "\n",
    "    thresh = cm.max() / 2.\n",
    "    for i, j in itertools.product(range(cm.shape[0]), range(cm.shape[1])):\n",
    "        plt.text(j, i, cm[i, j],\n",
    "                 horizontalalignment=\"center\",\n",
    "                 color=\"white\" if cm[i, j] > thresh else \"black\")\n",
    "\n",
    "    plt.tight_layout()\n",
    "    plt.ylabel('True label')\n",
    "    plt.xlabel('Predicted label')"
   ]
  },
  {
   "cell_type": "code",
   "execution_count": 121,
   "metadata": {
    "collapsed": false
   },
   "outputs": [
    {
     "data": {
      "image/png": "[encoded data removed]",
      "text/plain": [
       "<matplotlib.figure.Figure at 0x7f8b92a8e290>"
      ]
     },
     "metadata": {},
     "output_type": "display_data"
    }
   ],
   "source": [
    "conf_mat = confusion_matrix(y_act, y_pred)\n",
    "\n",
    "plt.figure()\n",
    "plot_confusion_matrix(conf_mat, classes=range(10), title='Confusion matrix, without normalization')\n",
    "plt.show()"
   ]
  },
  {
   "cell_type": "markdown",
   "metadata": {},
   "source": [
    "The model does well, as expected from the accuracy score.  Some observations, though the statistics of errors is based on small samples:\n",
    "\n",
    "* Some 1s are interpreted as 7s, which can be expected.\n",
    "* 3s are confused with 2s a bit more often than other digits, but not vice-versa.\n",
    "* 4s tend to get confused with 9s.\n",
    "* 5s get confused with 3s, but not vice-versa.\n",
    "* 6s get confused with 0s, 1s, and 5s.\n",
    "* 7s get confused with 2s, but not vice-versa.\n",
    "* 8s are confused with 9s, but not vice-versa.\n",
    "* 9s are confused with 4s and 7s.  This is somewhat understandable.\n",
    "\n",
    "We will examine a couple examples where the model was confused between 4s and 9s a bit later.\n",
    "\n",
    "In order to compare with the features in the corresponding design matrix, x_validation, we can use the numpy where function to obtain the indices for the events where the prediction was different from the true value:"
   ]
  },
  {
   "cell_type": "code",
   "execution_count": 88,
   "metadata": {
    "collapsed": true
   },
   "outputs": [],
   "source": [
    "error_idx = np.where(y_pred != y_act)[0]"
   ]
  },
  {
   "cell_type": "code",
   "execution_count": 89,
   "metadata": {
    "collapsed": false
   },
   "outputs": [
    {
     "data": {
      "text/plain": [
       "array([   37,   176,   281,   342,   346,   414,   527,   832,   833,\n",
       "         835,   944,   979,  1151,  1220,  1253,  1296,  1313,  1515,\n",
       "        1651,  1665,  1748,  1858,  1884,  1897,  1921,  2000,  2145,\n",
       "        2229,  2250,  2343,  2403,  2465,  2480,  2510,  2564,  2715,\n",
       "        2750,  2826,  2996,  3034,  3062,  3069,  3081,  3127,  3248,\n",
       "        3341,  3413,  3453,  3469,  3843,  4060,  4139,  4193,  4201,\n",
       "        4216,  4503,  4574,  4616,  4787,  4829,  4840,  4870,  5124,\n",
       "        5153,  5165,  5332,  5415,  5458,  5509,  5609,  5965,  6110,\n",
       "        6148,  6248,  6274,  6319,  6418,  6491,  6575,  6577,  6735,\n",
       "        6815,  7287,  7342,  7423,  7618,  7673,  7758,  7937,  8416,\n",
       "        8528,  8576,  8612,  8644,  8774,  8987,  9029,  9076,  9202,\n",
       "        9257,  9273,  9292,  9380,  9403,  9539,  9588,  9609,  9718,\n",
       "        9925, 10232, 10238, 10290, 10326, 10383, 10390, 10413, 10422,\n",
       "       10438, 10441, 10484])"
      ]
     },
     "execution_count": 89,
     "metadata": {},
     "output_type": "execute_result"
    }
   ],
   "source": [
    "error_idx"
   ]
  },
  {
   "cell_type": "markdown",
   "metadata": {},
   "source": [
    "We can then adapt the code from the overview notebook and display a random set of digit images from the error set:"
   ]
  },
  {
   "cell_type": "code",
   "execution_count": 104,
   "metadata": {
    "collapsed": false
   },
   "outputs": [
    {
     "data": {
      "image/png": "[encoded data removed]",
      "text/plain": [
       "<matplotlib.figure.Figure at 0x7f8b92400190>"
      ]
     },
     "metadata": {},
     "output_type": "display_data"
    }
   ],
   "source": [
    "rand_idx = np.random.choice(error_idx, size=20, replace=False)\n",
    "fig, axs = plt.subplots(nrows=5, ncols=4, figsize=(10,10))\n",
    "\n",
    "i = 0\n",
    "for ax in axs.reshape(-1):\n",
    "    # cycle through the elements of rand_idx\n",
    "    idx = rand_idx[i]\n",
    "# this is the true class label\n",
    "    true_y = y_act[idx]\n",
    "    # this is the vector of model class probabilities\n",
    "    prob_y = y_pred_prob[idx]\n",
    "    # this is the most probable class\n",
    "    top_pred = np.argmax(prob_y)\n",
    "    # this is probability of the top class\n",
    "    prob_top = prob_y[top_pred]\n",
    "    # argsort the prob. vector\n",
    "    arg_sort = np.argsort(-prob_y)\n",
    "    # this is the 2nd choice class \n",
    "    sec_choice = arg_sort[1]\n",
    "    # this is the probability of the 2nd choice class\n",
    "    prob_sec = prob_y[sec_choice]\n",
    "    \n",
    "    \n",
    "    ax.set_title(\"True: %d \\n Pred: %d (%.2f), %d (%.2f)\" % \n",
    "                 (true_y, top_pred, prob_top, sec_choice, prob_sec))\n",
    "    ax.imshow(x_validation[idx].reshape(28,28), cmap=plt.cm.gray, origin='upper', interpolation='nearest')\n",
    "    ax.axis('off')\n",
    "    i += 1\n",
    "plt.tight_layout()    \n",
    "plt.show()"
   ]
  },
  {
   "cell_type": "code",
   "execution_count": 107,
   "metadata": {
    "collapsed": false
   },
   "outputs": [
    {
     "data": {
      "text/plain": [
       "3453"
      ]
     },
     "execution_count": 107,
     "metadata": {},
     "output_type": "execute_result"
    }
   ],
   "source": [
    "rand_idx[11]"
   ]
  },
  {
   "cell_type": "markdown",
   "metadata": {},
   "source": [
    "It is likely that several of these would be challenging for a human to identify with 100% accuracy, while others are quite obvious.   In some cases, it is easy to see what features that the neural network probably used to decide that the image more closely resembled a different digit than the true one.\n",
    "\n",
    "For instance, for the following digit image, the CNN predicted \"9\" vs the true value of 4."
   ]
  },
  {
   "cell_type": "code",
   "execution_count": 108,
   "metadata": {
    "collapsed": false
   },
   "outputs": [
    {
     "data": {
      "image/png": "[encoded data removed]",
      "text/plain": [
       "<matplotlib.figure.Figure at 0x7f89bbef4950>"
      ]
     },
     "metadata": {},
     "output_type": "display_data"
    }
   ],
   "source": [
    "idx = 3453\n",
    "# this is the true class label\n",
    "true_y = y_act[idx]\n",
    "# this is the vector of model class probabilities\n",
    "prob_y = y_pred_prob[idx]\n",
    "# this is the most probable class\n",
    "top_pred = np.argmax(prob_y)\n",
    "# this is probability of the top class\n",
    "prob_top = prob_y[top_pred]\n",
    "# argsort the prob. vector\n",
    "arg_sort = np.argsort(-prob_y)\n",
    "# this is the 2nd choice class \n",
    "sec_choice = arg_sort[1]\n",
    "# this is the probability of the 2nd choice class\n",
    "prob_sec = prob_y[sec_choice]\n",
    "    \n",
    "plt.imshow(x_validation[idx].reshape(28,28), cmap=plt.cm.gray, origin='upper', interpolation='nearest') \n",
    "plt.title(\"True: %d \\n Pred: %d (%.2f), %d (%.2f)\" % \n",
    "                 (true_y, top_pred, prob_top, sec_choice, prob_sec))\n",
    "plt.show()"
   ]
  },
  {
   "cell_type": "markdown",
   "metadata": {},
   "source": [
    "In this case, a human might not decide that this is a 4, at least not with total confidence. The vertical stem on the right of the digit rises to a height slightly less than the loopy hook on the left. The left hook is also pronouncedly curved, very nearly meeting the right stem. Finally the lower part of the loop meets the stem at an acute angle, rather than a perpendicular.  These features are more closely associated with a 9 than a 4. In fact, the model's 2nd choice is an 8, though the human eye probably would not make that association strongly.  It turns out that 4 is the model's third choice, with a 1 in 10^6 probability assigned."
   ]
  },
  {
   "cell_type": "code",
   "execution_count": 112,
   "metadata": {
    "collapsed": false
   },
   "outputs": [
    {
     "data": {
      "text/plain": [
       "array([  4.44292666e-19,   1.89287613e-11,   4.34891448e-15,\n",
       "         5.97060099e-15,   2.35016569e-06,   2.83814165e-15,\n",
       "         7.03582122e-20,   4.47719119e-12,   3.84503983e-06,\n",
       "         9.99993801e-01], dtype=float32)"
      ]
     },
     "execution_count": 112,
     "metadata": {},
     "output_type": "execute_result"
    }
   ],
   "source": [
    "y_pred_prob[3453]"
   ]
  },
  {
   "cell_type": "markdown",
   "metadata": {},
   "source": [
    "For the converse identification problem, we can look at the following example:"
   ]
  },
  {
   "cell_type": "code",
   "execution_count": 103,
   "metadata": {
    "collapsed": false
   },
   "outputs": [
    {
     "data": {
      "image/png": "[encoded data removed]",
      "text/plain": [
       "<matplotlib.figure.Figure at 0x7f8b92454810>"
      ]
     },
     "metadata": {},
     "output_type": "display_data"
    }
   ],
   "source": [
    "idx = 1253\n",
    "# this is the true class label\n",
    "true_y = y_act[idx]\n",
    "# this is the vector of model class probabilities\n",
    "prob_y = y_pred_prob[idx]\n",
    "# this is the most probable class\n",
    "top_pred = np.argmax(prob_y)\n",
    "# this is probability of the top class\n",
    "prob_top = prob_y[top_pred]\n",
    "# argsort the prob. vector\n",
    "arg_sort = np.argsort(-prob_y)\n",
    "# this is the 2nd choice class \n",
    "sec_choice = arg_sort[1]\n",
    "# this is the probability of the 2nd choice class\n",
    "prob_sec = prob_y[sec_choice]\n",
    "    \n",
    "plt.imshow(x_validation[idx].reshape(28,28), cmap=plt.cm.gray, origin='upper', interpolation='nearest') \n",
    "plt.title(\"True: %d \\n Pred: %d (%.2f), %d (%.2f)\" % \n",
    "                 (true_y, top_pred, prob_top, sec_choice, prob_sec))\n",
    "plt.show()"
   ]
  },
  {
   "cell_type": "markdown",
   "metadata": {},
   "source": [
    "In this case, we have a  stubby stem on the right that doesn't rise to the height of the left part of the digit.  The bottom of the loop meets the stem at almost 90 degrees, instead of the acute angle typically associated with a 9. The upper part of the loop also misses the top of the stem.  These features probably explain why the CNN thought this was a 4.  In fact 9 was the 2nd choice, though with less than 1% probability.\n",
    "\n",
    "As an exercise, you should see if you can find similar features in other misclassified examples that could help explain why the model failed."
   ]
  },
  {
   "cell_type": "markdown",
   "metadata": {},
   "source": [
    "## Conclusions"
   ]
  },
  {
   "cell_type": "markdown",
   "metadata": {},
   "source": [
    "In this notebook, we learned how to use TensorFlow to construct machine learning models using very low-level tools.  TF allows us to define models in much more detail than scikit-learn, but at the cost of requiring quite a bit of expertise about how those models work in theory and are constructed in practice.\n",
    "\n",
    "We also learned how to apply neural networks, including the multilevel perceptron and the convolutional neural networks to the MNIST digit problem.  We saw that they lead to improvements of almost 1% in validation accuracy vs our best Random Forest result."
   ]
  }
 ],
 "metadata": {
  "kernelspec": {
   "display_name": "Python 2",
   "language": "python",
   "name": "python2"
  },
  "language_info": {
   "codemirror_mode": {
    "name": "ipython",
    "version": 2
   },
   "file_extension": ".py",
   "mimetype": "text/x-python",
   "name": "python",
   "nbconvert_exporter": "python",
   "pygments_lexer": "ipython2",
   "version": "2.7.13"
  }
 },
 "nbformat": 4,
 "nbformat_minor": 2
}
